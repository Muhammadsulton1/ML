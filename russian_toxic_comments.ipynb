{
  "nbformat": 4,
  "nbformat_minor": 0,
  "metadata": {
    "colab": {
      "provenance": [],
      "collapsed_sections": [],
      "authorship_tag": "ABX9TyM63XzsSAdsLKuMeKb2Ju13",
      "include_colab_link": true
    },
    "kernelspec": {
      "name": "python3",
      "display_name": "Python 3"
    },
    "language_info": {
      "name": "python"
    }
  },
  "cells": [
    {
      "cell_type": "markdown",
      "metadata": {
        "id": "view-in-github",
        "colab_type": "text"
      },
      "source": [
        "<a href=\"https://colab.research.google.com/github/Muhammadsulton1/ML/blob/main/russian_toxic_comments.ipynb\" target=\"_parent\"><img src=\"https://colab.research.google.com/assets/colab-badge.svg\" alt=\"Open In Colab\"/></a>"
      ]
    },
    {
      "cell_type": "code",
      "metadata": {
        "id": "v9OsOLIMQ2F1"
      },
      "source": [
        "import numpy as np \n",
        "import matplotlib.pyplot as plt \n",
        "import pandas as pd\n",
        "import seaborn as sns"
      ],
      "execution_count": null,
      "outputs": []
    },
    {
      "cell_type": "code",
      "metadata": {
        "id": "A6hCmjdJRGpj"
      },
      "source": [
        "# Подавление предупреждений\n",
        "import warnings\n",
        "warnings.filterwarnings('ignore')"
      ],
      "execution_count": null,
      "outputs": []
    },
    {
      "cell_type": "code",
      "metadata": {
        "colab": {
          "resources": {
            "http://localhost:8080/nbextensions/google.colab/files.js": {
              "data": "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",
              "ok": true,
              "headers": [
                [
                  "content-type",
                  "application/javascript"
                ]
              ],
              "status": 200,
              "status_text": ""
            }
          },
          "base_uri": "https://localhost:8080/",
          "height": 72
        },
        "id": "g3XeRM1PRPQr",
        "outputId": "1ca9657e-f0ce-40f4-90e7-9c098b3a7f37"
      },
      "source": [
        "from google.colab import files\n",
        "uploaded = files.upload()"
      ],
      "execution_count": null,
      "outputs": [
        {
          "output_type": "display_data",
          "data": {
            "text/html": [
              "\n",
              "     <input type=\"file\" id=\"files-21c48760-5030-4fea-ba9c-9efd9ac733e0\" name=\"files[]\" multiple disabled\n",
              "        style=\"border:none\" />\n",
              "     <output id=\"result-21c48760-5030-4fea-ba9c-9efd9ac733e0\">\n",
              "      Upload widget is only available when the cell has been executed in the\n",
              "      current browser session. Please rerun this cell to enable.\n",
              "      </output>\n",
              "      <script src=\"/nbextensions/google.colab/files.js\"></script> "
            ],
            "text/plain": [
              "<IPython.core.display.HTML object>"
            ]
          },
          "metadata": {
            "tags": []
          }
        },
        {
          "output_type": "stream",
          "text": [
            "Saving npl_russian.csv to npl_russian.csv\n"
          ],
          "name": "stdout"
        }
      ]
    },
    {
      "cell_type": "code",
      "metadata": {
        "id": "TYq2hAdSRRR9"
      },
      "source": [
        "data = pd.read_csv('npl_russian.csv')"
      ],
      "execution_count": null,
      "outputs": []
    },
    {
      "cell_type": "code",
      "metadata": {
        "colab": {
          "base_uri": "https://localhost:8080/",
          "height": 204
        },
        "id": "FET2HW-rRgrc",
        "outputId": "a30a43d8-d8b8-4604-eaed-b12cbb757875"
      },
      "source": [
        "data.head()"
      ],
      "execution_count": null,
      "outputs": [
        {
          "output_type": "execute_result",
          "data": {
            "text/html": [
              "<div>\n",
              "<style scoped>\n",
              "    .dataframe tbody tr th:only-of-type {\n",
              "        vertical-align: middle;\n",
              "    }\n",
              "\n",
              "    .dataframe tbody tr th {\n",
              "        vertical-align: top;\n",
              "    }\n",
              "\n",
              "    .dataframe thead th {\n",
              "        text-align: right;\n",
              "    }\n",
              "</style>\n",
              "<table border=\"1\" class=\"dataframe\">\n",
              "  <thead>\n",
              "    <tr style=\"text-align: right;\">\n",
              "      <th></th>\n",
              "      <th>comment</th>\n",
              "      <th>toxic</th>\n",
              "    </tr>\n",
              "  </thead>\n",
              "  <tbody>\n",
              "    <tr>\n",
              "      <th>0</th>\n",
              "      <td>Верблюдов-то за что? Дебилы, бл...\\n</td>\n",
              "      <td>1.0</td>\n",
              "    </tr>\n",
              "    <tr>\n",
              "      <th>1</th>\n",
              "      <td>Хохлы, это отдушина затюканого россиянина, мол...</td>\n",
              "      <td>1.0</td>\n",
              "    </tr>\n",
              "    <tr>\n",
              "      <th>2</th>\n",
              "      <td>Собаке - собачья смерть\\n</td>\n",
              "      <td>1.0</td>\n",
              "    </tr>\n",
              "    <tr>\n",
              "      <th>3</th>\n",
              "      <td>Страницу обнови, дебил. Это тоже не оскорблени...</td>\n",
              "      <td>1.0</td>\n",
              "    </tr>\n",
              "    <tr>\n",
              "      <th>4</th>\n",
              "      <td>тебя не убедил 6-страничный пдф в том, что Скр...</td>\n",
              "      <td>1.0</td>\n",
              "    </tr>\n",
              "  </tbody>\n",
              "</table>\n",
              "</div>"
            ],
            "text/plain": [
              "                                             comment  toxic\n",
              "0               Верблюдов-то за что? Дебилы, бл...\\n    1.0\n",
              "1  Хохлы, это отдушина затюканого россиянина, мол...    1.0\n",
              "2                          Собаке - собачья смерть\\n    1.0\n",
              "3  Страницу обнови, дебил. Это тоже не оскорблени...    1.0\n",
              "4  тебя не убедил 6-страничный пдф в том, что Скр...    1.0"
            ]
          },
          "metadata": {
            "tags": []
          },
          "execution_count": 5
        }
      ]
    },
    {
      "cell_type": "markdown",
      "metadata": {
        "id": "I8s4JCnBt7TY"
      },
      "source": [
        "ВЗГЛЯНЕМ НА КОЛИЧЕСТВО ТОКСИЧНЫХ И НОРМАЛЬНЫХ КОММЕНТАРИЕВ "
      ]
    },
    {
      "cell_type": "code",
      "metadata": {
        "colab": {
          "base_uri": "https://localhost:8080/",
          "height": 285
        },
        "id": "2a-9Fc_vRwf5",
        "outputId": "e107e720-9aad-475a-b127-682c9bc982d1"
      },
      "source": [
        "data['toxic'].hist()"
      ],
      "execution_count": null,
      "outputs": [
        {
          "output_type": "execute_result",
          "data": {
            "text/plain": [
              "<matplotlib.axes._subplots.AxesSubplot at 0x7f515e2a7f10>"
            ]
          },
          "metadata": {
            "tags": []
          },
          "execution_count": 6
        },
        {
          "output_type": "display_data",
          "data": {
            "image/png": "[encoded data removed]",
            "text/plain": [
              "<Figure size 432x288 with 1 Axes>"
            ]
          },
          "metadata": {
            "tags": [],
            "needs_background": "light"
          }
        }
      ]
    },
    {
      "cell_type": "code",
      "metadata": {
        "colab": {
          "base_uri": "https://localhost:8080/"
        },
        "id": "_u-ZE4qSR3Rp",
        "outputId": "98b193f1-8013-407d-e401-5610506942a5"
      },
      "source": [
        "data.shape"
      ],
      "execution_count": null,
      "outputs": [
        {
          "output_type": "execute_result",
          "data": {
            "text/plain": [
              "(14412, 2)"
            ]
          },
          "metadata": {
            "tags": []
          },
          "execution_count": 7
        }
      ]
    },
    {
      "cell_type": "code",
      "metadata": {
        "colab": {
          "base_uri": "https://localhost:8080/",
          "height": 173
        },
        "id": "dYrqkPefSBXf",
        "outputId": "e08babc3-44b4-4b39-ea3e-f6eab101892d"
      },
      "source": [
        "data.describe(include='object')"
      ],
      "execution_count": null,
      "outputs": [
        {
          "output_type": "execute_result",
          "data": {
            "text/html": [
              "<div>\n",
              "<style scoped>\n",
              "    .dataframe tbody tr th:only-of-type {\n",
              "        vertical-align: middle;\n",
              "    }\n",
              "\n",
              "    .dataframe tbody tr th {\n",
              "        vertical-align: top;\n",
              "    }\n",
              "\n",
              "    .dataframe thead th {\n",
              "        text-align: right;\n",
              "    }\n",
              "</style>\n",
              "<table border=\"1\" class=\"dataframe\">\n",
              "  <thead>\n",
              "    <tr style=\"text-align: right;\">\n",
              "      <th></th>\n",
              "      <th>comment</th>\n",
              "    </tr>\n",
              "  </thead>\n",
              "  <tbody>\n",
              "    <tr>\n",
              "      <th>count</th>\n",
              "      <td>14412</td>\n",
              "    </tr>\n",
              "    <tr>\n",
              "      <th>unique</th>\n",
              "      <td>14412</td>\n",
              "    </tr>\n",
              "    <tr>\n",
              "      <th>top</th>\n",
              "      <td>Всего 30-40 секунд такой беговой активности у ...</td>\n",
              "    </tr>\n",
              "    <tr>\n",
              "      <th>freq</th>\n",
              "      <td>1</td>\n",
              "    </tr>\n",
              "  </tbody>\n",
              "</table>\n",
              "</div>"
            ],
            "text/plain": [
              "                                                  comment\n",
              "count                                               14412\n",
              "unique                                              14412\n",
              "top     Всего 30-40 секунд такой беговой активности у ...\n",
              "freq                                                    1"
            ]
          },
          "metadata": {
            "tags": []
          },
          "execution_count": 8
        }
      ]
    },
    {
      "cell_type": "code",
      "metadata": {
        "colab": {
          "base_uri": "https://localhost:8080/"
        },
        "id": "gplWUGY1S9oG",
        "outputId": "aadee47c-eaac-433a-d7b8-74ff4af31eae"
      },
      "source": [
        "print(data.info())"
      ],
      "execution_count": null,
      "outputs": [
        {
          "output_type": "stream",
          "text": [
            "<class 'pandas.core.frame.DataFrame'>\n",
            "RangeIndex: 14412 entries, 0 to 14411\n",
            "Data columns (total 2 columns):\n",
            " #   Column   Non-Null Count  Dtype  \n",
            "---  ------   --------------  -----  \n",
            " 0   comment  14412 non-null  object \n",
            " 1   toxic    14412 non-null  float64\n",
            "dtypes: float64(1), object(1)\n",
            "memory usage: 225.3+ KB\n",
            "None\n"
          ],
          "name": "stdout"
        }
      ]
    },
    {
      "cell_type": "markdown",
      "metadata": {
        "id": "8--gEgsRuCWR"
      },
      "source": [
        "ФУНКЦИЯ ДЛЯ ПОДСЧЕТА ПРОПУЩЕННЫХ ДАННЫХ В КОЛОНКАХ"
      ]
    },
    {
      "cell_type": "code",
      "metadata": {
        "colab": {
          "base_uri": "https://localhost:8080/",
          "height": 83
        },
        "id": "IvOegwMbTQ5j",
        "outputId": "cf0828e0-da0f-47ad-93c0-98e5f12ecb8a"
      },
      "source": [
        "#функция для просмотра какой процент пропущенных данных мы имеем\n",
        "def missing_values_table(data):\n",
        "        # Общее количество пропущенных значений\n",
        "        mis_val = data.isnull().sum()\n",
        "        # Доля пропущенных значений\n",
        "        mis_val_percent = 100 * data.isnull().sum() / len(data)\n",
        "        # Таблица с результатом расчета\n",
        "        mis_val_table = pd.concat([mis_val, mis_val_percent], axis=1)\n",
        "        # Переименовываем столбцы\n",
        "        mis_val_table_ren_columns = mis_val_table.rename(\n",
        "        columns = {0 : 'Missing Values', 1 : '% of Total Values'})\n",
        "        # Сортируем по столбцу с долей пропущенных значений в порядке убывания\n",
        "        mis_val_table_ren_columns = mis_val_table_ren_columns[\n",
        "            mis_val_table_ren_columns.iloc[:,1] != 0].sort_values(\n",
        "        '% of Total Values', ascending=False).round(1)\n",
        "        # Вывод сводной информации\n",
        "        print(\"Your selected dataframe has \" + str(data.shape[1]) + \" columns.\\n\"      \n",
        "            \"There are \" + str(mis_val_table_ren_columns.shape[0]) +\n",
        "              \" columns that have missing values.\")\n",
        "        return mis_val_table_ren_columns\n",
        "\n",
        "# Статистика пропущенных значений\n",
        "missing_values = missing_values_table(data)\n",
        "missing_values.head()"
      ],
      "execution_count": null,
      "outputs": [
        {
          "output_type": "stream",
          "text": [
            "Your selected dataframe has 2 columns.\n",
            "There are 0 columns that have missing values.\n"
          ],
          "name": "stdout"
        },
        {
          "output_type": "execute_result",
          "data": {
            "text/html": [
              "<div>\n",
              "<style scoped>\n",
              "    .dataframe tbody tr th:only-of-type {\n",
              "        vertical-align: middle;\n",
              "    }\n",
              "\n",
              "    .dataframe tbody tr th {\n",
              "        vertical-align: top;\n",
              "    }\n",
              "\n",
              "    .dataframe thead th {\n",
              "        text-align: right;\n",
              "    }\n",
              "</style>\n",
              "<table border=\"1\" class=\"dataframe\">\n",
              "  <thead>\n",
              "    <tr style=\"text-align: right;\">\n",
              "      <th></th>\n",
              "      <th>Missing Values</th>\n",
              "      <th>% of Total Values</th>\n",
              "    </tr>\n",
              "  </thead>\n",
              "  <tbody>\n",
              "  </tbody>\n",
              "</table>\n",
              "</div>"
            ],
            "text/plain": [
              "Empty DataFrame\n",
              "Columns: [Missing Values, % of Total Values]\n",
              "Index: []"
            ]
          },
          "metadata": {
            "tags": []
          },
          "execution_count": 10
        }
      ]
    },
    {
      "cell_type": "code",
      "metadata": {
        "id": "bzrP47K5U1t4"
      },
      "source": [
        "#преобразуем целевую метку в формат без плавующей точки\n",
        "data['toxic'] = data['toxic'].map(int)"
      ],
      "execution_count": null,
      "outputs": []
    },
    {
      "cell_type": "code",
      "metadata": {
        "colab": {
          "base_uri": "https://localhost:8080/",
          "height": 419
        },
        "id": "XoO3Dfh6VGir",
        "outputId": "f5b07b3d-83d9-4d0b-fbae-367ee5ef98dc"
      },
      "source": [
        "#просмотр токсичных комментариев\n",
        "data[data['toxic']==1]"
      ],
      "execution_count": null,
      "outputs": [
        {
          "output_type": "execute_result",
          "data": {
            "text/html": [
              "<div>\n",
              "<style scoped>\n",
              "    .dataframe tbody tr th:only-of-type {\n",
              "        vertical-align: middle;\n",
              "    }\n",
              "\n",
              "    .dataframe tbody tr th {\n",
              "        vertical-align: top;\n",
              "    }\n",
              "\n",
              "    .dataframe thead th {\n",
              "        text-align: right;\n",
              "    }\n",
              "</style>\n",
              "<table border=\"1\" class=\"dataframe\">\n",
              "  <thead>\n",
              "    <tr style=\"text-align: right;\">\n",
              "      <th></th>\n",
              "      <th>comment</th>\n",
              "      <th>toxic</th>\n",
              "    </tr>\n",
              "  </thead>\n",
              "  <tbody>\n",
              "    <tr>\n",
              "      <th>0</th>\n",
              "      <td>Верблюдов-то за что? Дебилы, бл...\\n</td>\n",
              "      <td>1</td>\n",
              "    </tr>\n",
              "    <tr>\n",
              "      <th>1</th>\n",
              "      <td>Хохлы, это отдушина затюканого россиянина, мол...</td>\n",
              "      <td>1</td>\n",
              "    </tr>\n",
              "    <tr>\n",
              "      <th>2</th>\n",
              "      <td>Собаке - собачья смерть\\n</td>\n",
              "      <td>1</td>\n",
              "    </tr>\n",
              "    <tr>\n",
              "      <th>3</th>\n",
              "      <td>Страницу обнови, дебил. Это тоже не оскорблени...</td>\n",
              "      <td>1</td>\n",
              "    </tr>\n",
              "    <tr>\n",
              "      <th>4</th>\n",
              "      <td>тебя не убедил 6-страничный пдф в том, что Скр...</td>\n",
              "      <td>1</td>\n",
              "    </tr>\n",
              "    <tr>\n",
              "      <th>...</th>\n",
              "      <td>...</td>\n",
              "      <td>...</td>\n",
              "    </tr>\n",
              "    <tr>\n",
              "      <th>14404</th>\n",
              "      <td>ЖЕНЩИНА это ВЕНЕЦ ТВОРЕНИЯ, помните это ваньки...</td>\n",
              "      <td>1</td>\n",
              "    </tr>\n",
              "    <tr>\n",
              "      <th>14405</th>\n",
              "      <td>Сейчас все авиакомпании мира вместе со специал...</td>\n",
              "      <td>1</td>\n",
              "    </tr>\n",
              "    <tr>\n",
              "      <th>14407</th>\n",
              "      <td>Вонючий совковый скот прибежал и ноет. А вот и...</td>\n",
              "      <td>1</td>\n",
              "    </tr>\n",
              "    <tr>\n",
              "      <th>14408</th>\n",
              "      <td>А кого любить? Гоблина тупорылого что-ли? Или ...</td>\n",
              "      <td>1</td>\n",
              "    </tr>\n",
              "    <tr>\n",
              "      <th>14410</th>\n",
              "      <td>КРЫМОТРЕД НАРУШАЕТ ПРАВИЛА РАЗДЕЛА Т.К В НЕМ Н...</td>\n",
              "      <td>1</td>\n",
              "    </tr>\n",
              "  </tbody>\n",
              "</table>\n",
              "<p>4826 rows × 2 columns</p>\n",
              "</div>"
            ],
            "text/plain": [
              "                                                 comment  toxic\n",
              "0                   Верблюдов-то за что? Дебилы, бл...\\n      1\n",
              "1      Хохлы, это отдушина затюканого россиянина, мол...      1\n",
              "2                              Собаке - собачья смерть\\n      1\n",
              "3      Страницу обнови, дебил. Это тоже не оскорблени...      1\n",
              "4      тебя не убедил 6-страничный пдф в том, что Скр...      1\n",
              "...                                                  ...    ...\n",
              "14404  ЖЕНЩИНА это ВЕНЕЦ ТВОРЕНИЯ, помните это ваньки...      1\n",
              "14405  Сейчас все авиакомпании мира вместе со специал...      1\n",
              "14407  Вонючий совковый скот прибежал и ноет. А вот и...      1\n",
              "14408  А кого любить? Гоблина тупорылого что-ли? Или ...      1\n",
              "14410  КРЫМОТРЕД НАРУШАЕТ ПРАВИЛА РАЗДЕЛА Т.К В НЕМ Н...      1\n",
              "\n",
              "[4826 rows x 2 columns]"
            ]
          },
          "metadata": {
            "tags": []
          },
          "execution_count": 12
        }
      ]
    },
    {
      "cell_type": "code",
      "metadata": {
        "colab": {
          "base_uri": "https://localhost:8080/",
          "height": 419
        },
        "id": "i4dYMZj5V4BQ",
        "outputId": "2296cea9-189d-4c7e-c708-8bb4d6732fba"
      },
      "source": [
        "#просмотр нормальных комментариев\n",
        "data[data['toxic']==0]"
      ],
      "execution_count": null,
      "outputs": [
        {
          "output_type": "execute_result",
          "data": {
            "text/html": [
              "<div>\n",
              "<style scoped>\n",
              "    .dataframe tbody tr th:only-of-type {\n",
              "        vertical-align: middle;\n",
              "    }\n",
              "\n",
              "    .dataframe tbody tr th {\n",
              "        vertical-align: top;\n",
              "    }\n",
              "\n",
              "    .dataframe thead th {\n",
              "        text-align: right;\n",
              "    }\n",
              "</style>\n",
              "<table border=\"1\" class=\"dataframe\">\n",
              "  <thead>\n",
              "    <tr style=\"text-align: right;\">\n",
              "      <th></th>\n",
              "      <th>comment</th>\n",
              "      <th>toxic</th>\n",
              "    </tr>\n",
              "  </thead>\n",
              "  <tbody>\n",
              "    <tr>\n",
              "      <th>6</th>\n",
              "      <td>В шапке были ссылки на инфу по текущему фильму...</td>\n",
              "      <td>0</td>\n",
              "    </tr>\n",
              "    <tr>\n",
              "      <th>12</th>\n",
              "      <td>Почитайте посты у этого автора,может найдете ч...</td>\n",
              "      <td>0</td>\n",
              "    </tr>\n",
              "    <tr>\n",
              "      <th>17</th>\n",
              "      <td>Про графику было обидно) я так то проходил все...</td>\n",
              "      <td>0</td>\n",
              "    </tr>\n",
              "    <tr>\n",
              "      <th>28</th>\n",
              "      <td>https: pp.userapi.com c848520 v848520411 11627...</td>\n",
              "      <td>0</td>\n",
              "    </tr>\n",
              "    <tr>\n",
              "      <th>35</th>\n",
              "      <td>Возьмём как пример Россию, западноевропейские ...</td>\n",
              "      <td>0</td>\n",
              "    </tr>\n",
              "    <tr>\n",
              "      <th>...</th>\n",
              "      <td>...</td>\n",
              "      <td>...</td>\n",
              "    </tr>\n",
              "    <tr>\n",
              "      <th>14392</th>\n",
              "      <td>ТАСС, 21 марта. Премьер-министр Новой Зеландии...</td>\n",
              "      <td>0</td>\n",
              "    </tr>\n",
              "    <tr>\n",
              "      <th>14399</th>\n",
              "      <td>65 А чего так мало? Вот у гражданина был рейти...</td>\n",
              "      <td>0</td>\n",
              "    </tr>\n",
              "    <tr>\n",
              "      <th>14406</th>\n",
              "      <td>Потому что запад прошел эту хуйню еще пару сот...</td>\n",
              "      <td>0</td>\n",
              "    </tr>\n",
              "    <tr>\n",
              "      <th>14409</th>\n",
              "      <td>Посмотрел Утомленных солнцем 2. И оказалось, ч...</td>\n",
              "      <td>0</td>\n",
              "    </tr>\n",
              "    <tr>\n",
              "      <th>14411</th>\n",
              "      <td>До сих пор пересматриваю его видео. Орамбо кст...</td>\n",
              "      <td>0</td>\n",
              "    </tr>\n",
              "  </tbody>\n",
              "</table>\n",
              "<p>9586 rows × 2 columns</p>\n",
              "</div>"
            ],
            "text/plain": [
              "                                                 comment  toxic\n",
              "6      В шапке были ссылки на инфу по текущему фильму...      0\n",
              "12     Почитайте посты у этого автора,может найдете ч...      0\n",
              "17     Про графику было обидно) я так то проходил все...      0\n",
              "28     https: pp.userapi.com c848520 v848520411 11627...      0\n",
              "35     Возьмём как пример Россию, западноевропейские ...      0\n",
              "...                                                  ...    ...\n",
              "14392  ТАСС, 21 марта. Премьер-министр Новой Зеландии...      0\n",
              "14399  65 А чего так мало? Вот у гражданина был рейти...      0\n",
              "14406  Потому что запад прошел эту хуйню еще пару сот...      0\n",
              "14409  Посмотрел Утомленных солнцем 2. И оказалось, ч...      0\n",
              "14411  До сих пор пересматриваю его видео. Орамбо кст...      0\n",
              "\n",
              "[9586 rows x 2 columns]"
            ]
          },
          "metadata": {
            "tags": []
          },
          "execution_count": 13
        }
      ]
    },
    {
      "cell_type": "code",
      "metadata": {
        "colab": {
          "base_uri": "https://localhost:8080/",
          "height": 204
        },
        "id": "ch3qBt33WuxY",
        "outputId": "a8a8a0d4-a873-45b5-9996-7f5b1a49c47c"
      },
      "source": [
        "data.head()"
      ],
      "execution_count": null,
      "outputs": [
        {
          "output_type": "execute_result",
          "data": {
            "text/html": [
              "<div>\n",
              "<style scoped>\n",
              "    .dataframe tbody tr th:only-of-type {\n",
              "        vertical-align: middle;\n",
              "    }\n",
              "\n",
              "    .dataframe tbody tr th {\n",
              "        vertical-align: top;\n",
              "    }\n",
              "\n",
              "    .dataframe thead th {\n",
              "        text-align: right;\n",
              "    }\n",
              "</style>\n",
              "<table border=\"1\" class=\"dataframe\">\n",
              "  <thead>\n",
              "    <tr style=\"text-align: right;\">\n",
              "      <th></th>\n",
              "      <th>comment</th>\n",
              "      <th>toxic</th>\n",
              "    </tr>\n",
              "  </thead>\n",
              "  <tbody>\n",
              "    <tr>\n",
              "      <th>0</th>\n",
              "      <td>Верблюдов-то за что? Дебилы, бл...\\n</td>\n",
              "      <td>1</td>\n",
              "    </tr>\n",
              "    <tr>\n",
              "      <th>1</th>\n",
              "      <td>Хохлы, это отдушина затюканого россиянина, мол...</td>\n",
              "      <td>1</td>\n",
              "    </tr>\n",
              "    <tr>\n",
              "      <th>2</th>\n",
              "      <td>Собаке - собачья смерть\\n</td>\n",
              "      <td>1</td>\n",
              "    </tr>\n",
              "    <tr>\n",
              "      <th>3</th>\n",
              "      <td>Страницу обнови, дебил. Это тоже не оскорблени...</td>\n",
              "      <td>1</td>\n",
              "    </tr>\n",
              "    <tr>\n",
              "      <th>4</th>\n",
              "      <td>тебя не убедил 6-страничный пдф в том, что Скр...</td>\n",
              "      <td>1</td>\n",
              "    </tr>\n",
              "  </tbody>\n",
              "</table>\n",
              "</div>"
            ],
            "text/plain": [
              "                                             comment  toxic\n",
              "0               Верблюдов-то за что? Дебилы, бл...\\n      1\n",
              "1  Хохлы, это отдушина затюканого россиянина, мол...      1\n",
              "2                          Собаке - собачья смерть\\n      1\n",
              "3  Страницу обнови, дебил. Это тоже не оскорблени...      1\n",
              "4  тебя не убедил 6-страничный пдф в том, что Скр...      1"
            ]
          },
          "metadata": {
            "tags": []
          },
          "execution_count": 14
        }
      ]
    },
    {
      "cell_type": "code",
      "metadata": {
        "id": "yzgnpQjTZyU3"
      },
      "source": [
        "import re "
      ],
      "execution_count": null,
      "outputs": []
    },
    {
      "cell_type": "code",
      "metadata": {
        "id": "bvs-vM4TW61G"
      },
      "source": [
        "#применим функцию к нижниму регистру\n",
        "def capitalizer(string: str) -> str:\n",
        "    return string.lower()\n",
        "# Применить функцию\n",
        "data['comment'] = [capitalizer(string) for string in data['comment']]"
      ],
      "execution_count": null,
      "outputs": []
    },
    {
      "cell_type": "code",
      "metadata": {
        "id": "PdwP2V7_ZvH0"
      },
      "source": [
        "#удаление ссылок и разных символов\n",
        "def remove_urls(x):\n",
        "    return re.sub(r'(http|https|ftp|ssh)://([\\w_-]+(?:(?:\\.[\\w_-]+)+))([\\w.,@?^=%&:/~+#-]*[\\w@?^=%&/~+#-])?', '' , x)"
      ],
      "execution_count": null,
      "outputs": []
    },
    {
      "cell_type": "code",
      "metadata": {
        "id": "XxO81ZJNcJhp"
      },
      "source": [
        "#удаление почтывых ссылок \n",
        "def remove_emails(x):\n",
        "     return re.sub(r'([a-z0-9+._-]+@[a-z0-9+._-]+\\.[a-z0-9+_-]+)',\"\", x)"
      ],
      "execution_count": null,
      "outputs": []
    },
    {
      "cell_type": "code",
      "metadata": {
        "id": "5y5CjXjicKYB"
      },
      "source": [
        "def remove_rt(x):\n",
        "    return re.sub(r'\\brt\\b', '', x).strip()"
      ],
      "execution_count": null,
      "outputs": []
    },
    {
      "cell_type": "code",
      "metadata": {
        "id": "5E_-mZhUcMeW"
      },
      "source": [
        "def remove_special_chars(x):\n",
        "    x = re.sub(r'[^\\w ]+', \"\", x)\n",
        "    x = ' '.join(x.split())\n",
        "    return x"
      ],
      "execution_count": null,
      "outputs": []
    },
    {
      "cell_type": "code",
      "metadata": {
        "id": "RZyMn1r3pNF1"
      },
      "source": [
        "def remove_numbers(s, keep=None):\n",
        "    if keep:\n",
        "        keep = set(str(x) for x in keep)\n",
        "        return re.sub(r'\\b\\d+\\b', lambda m: m.group() if m.group() in keep else '', s)\n",
        "    else:\n",
        "        # Shortcircuit the use of a set if there is no sequence to keep\n",
        "        return re.sub(r'\\b\\d+\\b', '', s)"
      ],
      "execution_count": null,
      "outputs": []
    },
    {
      "cell_type": "code",
      "metadata": {
        "id": "yTX2KqBkbspi"
      },
      "source": [
        "import unicodedata\n",
        "data['text_clean'] = data['comment'].apply(lambda x: remove_emails(x))\n",
        "data['text_clean'] = data['text_clean'].apply(lambda x: remove_urls(x))\n",
        "data['text_clean'] = data['text_clean'].apply(lambda x: remove_rt(x))\n",
        "data['text_clean'] = data['text_clean'].apply(lambda x: remove_special_chars(x))\n",
        "data['text_clean'] = data['text_clean'].apply(lambda s: remove_numbers(s))"
      ],
      "execution_count": null,
      "outputs": []
    },
    {
      "cell_type": "code",
      "metadata": {
        "colab": {
          "base_uri": "https://localhost:8080/",
          "height": 204
        },
        "id": "6O2ig_sgW_3k",
        "outputId": "a0aba840-196f-40a5-dfce-ca5632350722"
      },
      "source": [
        "data.head()"
      ],
      "execution_count": null,
      "outputs": [
        {
          "output_type": "execute_result",
          "data": {
            "text/html": [
              "<div>\n",
              "<style scoped>\n",
              "    .dataframe tbody tr th:only-of-type {\n",
              "        vertical-align: middle;\n",
              "    }\n",
              "\n",
              "    .dataframe tbody tr th {\n",
              "        vertical-align: top;\n",
              "    }\n",
              "\n",
              "    .dataframe thead th {\n",
              "        text-align: right;\n",
              "    }\n",
              "</style>\n",
              "<table border=\"1\" class=\"dataframe\">\n",
              "  <thead>\n",
              "    <tr style=\"text-align: right;\">\n",
              "      <th></th>\n",
              "      <th>comment</th>\n",
              "      <th>toxic</th>\n",
              "      <th>text_clean</th>\n",
              "    </tr>\n",
              "  </thead>\n",
              "  <tbody>\n",
              "    <tr>\n",
              "      <th>0</th>\n",
              "      <td>верблюдов-то за что? дебилы, бл...\\n</td>\n",
              "      <td>1</td>\n",
              "      <td>верблюдовто за что дебилы бл</td>\n",
              "    </tr>\n",
              "    <tr>\n",
              "      <th>1</th>\n",
              "      <td>хохлы, это отдушина затюканого россиянина, мол...</td>\n",
              "      <td>1</td>\n",
              "      <td>хохлы это отдушина затюканого россиянина мол в...</td>\n",
              "    </tr>\n",
              "    <tr>\n",
              "      <th>2</th>\n",
              "      <td>собаке - собачья смерть\\n</td>\n",
              "      <td>1</td>\n",
              "      <td>собаке собачья смерть</td>\n",
              "    </tr>\n",
              "    <tr>\n",
              "      <th>3</th>\n",
              "      <td>страницу обнови, дебил. это тоже не оскорблени...</td>\n",
              "      <td>1</td>\n",
              "      <td>страницу обнови дебил это тоже не оскорбление ...</td>\n",
              "    </tr>\n",
              "    <tr>\n",
              "      <th>4</th>\n",
              "      <td>тебя не убедил 6-страничный пдф в том, что скр...</td>\n",
              "      <td>1</td>\n",
              "      <td>тебя не убедил 6страничный пдф в том что скрип...</td>\n",
              "    </tr>\n",
              "  </tbody>\n",
              "</table>\n",
              "</div>"
            ],
            "text/plain": [
              "                                             comment  ...                                         text_clean\n",
              "0               верблюдов-то за что? дебилы, бл...\\n  ...                       верблюдовто за что дебилы бл\n",
              "1  хохлы, это отдушина затюканого россиянина, мол...  ...  хохлы это отдушина затюканого россиянина мол в...\n",
              "2                          собаке - собачья смерть\\n  ...                              собаке собачья смерть\n",
              "3  страницу обнови, дебил. это тоже не оскорблени...  ...  страницу обнови дебил это тоже не оскорбление ...\n",
              "4  тебя не убедил 6-страничный пдф в том, что скр...  ...  тебя не убедил 6страничный пдф в том что скрип...\n",
              "\n",
              "[5 rows x 3 columns]"
            ]
          },
          "metadata": {
            "tags": []
          },
          "execution_count": 22
        }
      ]
    },
    {
      "cell_type": "code",
      "metadata": {
        "colab": {
          "base_uri": "https://localhost:8080/",
          "height": 35
        },
        "id": "Iq6KZQthXI1_",
        "outputId": "8c6e13c0-8c2e-4b4d-96b5-a7e503fe2641"
      },
      "source": [
        "data['comment'][1]"
      ],
      "execution_count": null,
      "outputs": [
        {
          "output_type": "execute_result",
          "data": {
            "application/vnd.google.colaboratory.intrinsic+json": {
              "type": "string"
            },
            "text/plain": [
              "'хохлы, это отдушина затюканого россиянина, мол, вон, а у хохлов еще хуже. если бы хохлов не было, кисель их бы придумал.\\n'"
            ]
          },
          "metadata": {
            "tags": []
          },
          "execution_count": 23
        }
      ]
    },
    {
      "cell_type": "markdown",
      "metadata": {
        "id": "0WY6BQORuon0"
      },
      "source": [
        "ТОККЕНИЗАЦИЯ ПО СЛОВАМ НАШИХ КОММЕНТАРИЕВ"
      ]
    },
    {
      "cell_type": "code",
      "metadata": {
        "colab": {
          "base_uri": "https://localhost:8080/"
        },
        "id": "oCUNDbKJXVAH",
        "outputId": "59653ea1-0007-4bf0-a334-1d87c73687e3"
      },
      "source": [
        "from nltk.tokenize import word_tokenize\n",
        "import nltk\n",
        "nltk.download('punkt')"
      ],
      "execution_count": null,
      "outputs": [
        {
          "output_type": "stream",
          "text": [
            "[nltk_data] Downloading package punkt to /root/nltk_data...\n",
            "[nltk_data]   Unzipping tokenizers/punkt.zip.\n"
          ],
          "name": "stdout"
        },
        {
          "output_type": "execute_result",
          "data": {
            "text/plain": [
              "True"
            ]
          },
          "metadata": {
            "tags": []
          },
          "execution_count": 24
        }
      ]
    },
    {
      "cell_type": "code",
      "metadata": {
        "id": "9bKto_0ZXlHA"
      },
      "source": [
        "#токенизация по словам текста\n",
        "data = data.assign(text_tokenize = data['text_clean'].apply(word_tokenize))"
      ],
      "execution_count": null,
      "outputs": []
    },
    {
      "cell_type": "code",
      "metadata": {
        "colab": {
          "base_uri": "https://localhost:8080/",
          "height": 204
        },
        "id": "5zypT0_3YDG3",
        "outputId": "4a2ea334-99fa-4125-a970-0674a061cdd9"
      },
      "source": [
        "data.head()"
      ],
      "execution_count": null,
      "outputs": [
        {
          "output_type": "execute_result",
          "data": {
            "text/html": [
              "<div>\n",
              "<style scoped>\n",
              "    .dataframe tbody tr th:only-of-type {\n",
              "        vertical-align: middle;\n",
              "    }\n",
              "\n",
              "    .dataframe tbody tr th {\n",
              "        vertical-align: top;\n",
              "    }\n",
              "\n",
              "    .dataframe thead th {\n",
              "        text-align: right;\n",
              "    }\n",
              "</style>\n",
              "<table border=\"1\" class=\"dataframe\">\n",
              "  <thead>\n",
              "    <tr style=\"text-align: right;\">\n",
              "      <th></th>\n",
              "      <th>comment</th>\n",
              "      <th>toxic</th>\n",
              "      <th>text_clean</th>\n",
              "      <th>text_tokenize</th>\n",
              "    </tr>\n",
              "  </thead>\n",
              "  <tbody>\n",
              "    <tr>\n",
              "      <th>0</th>\n",
              "      <td>верблюдов-то за что? дебилы, бл...\\n</td>\n",
              "      <td>1</td>\n",
              "      <td>верблюдовто за что дебилы бл</td>\n",
              "      <td>[верблюдовто, за, что, дебилы, бл]</td>\n",
              "    </tr>\n",
              "    <tr>\n",
              "      <th>1</th>\n",
              "      <td>хохлы, это отдушина затюканого россиянина, мол...</td>\n",
              "      <td>1</td>\n",
              "      <td>хохлы это отдушина затюканого россиянина мол в...</td>\n",
              "      <td>[хохлы, это, отдушина, затюканого, россиянина,...</td>\n",
              "    </tr>\n",
              "    <tr>\n",
              "      <th>2</th>\n",
              "      <td>собаке - собачья смерть\\n</td>\n",
              "      <td>1</td>\n",
              "      <td>собаке собачья смерть</td>\n",
              "      <td>[собаке, собачья, смерть]</td>\n",
              "    </tr>\n",
              "    <tr>\n",
              "      <th>3</th>\n",
              "      <td>страницу обнови, дебил. это тоже не оскорблени...</td>\n",
              "      <td>1</td>\n",
              "      <td>страницу обнови дебил это тоже не оскорбление ...</td>\n",
              "      <td>[страницу, обнови, дебил, это, тоже, не, оскор...</td>\n",
              "    </tr>\n",
              "    <tr>\n",
              "      <th>4</th>\n",
              "      <td>тебя не убедил 6-страничный пдф в том, что скр...</td>\n",
              "      <td>1</td>\n",
              "      <td>тебя не убедил 6страничный пдф в том что скрип...</td>\n",
              "      <td>[тебя, не, убедил, 6страничный, пдф, в, том, ч...</td>\n",
              "    </tr>\n",
              "  </tbody>\n",
              "</table>\n",
              "</div>"
            ],
            "text/plain": [
              "                                             comment  ...                                      text_tokenize\n",
              "0               верблюдов-то за что? дебилы, бл...\\n  ...                 [верблюдовто, за, что, дебилы, бл]\n",
              "1  хохлы, это отдушина затюканого россиянина, мол...  ...  [хохлы, это, отдушина, затюканого, россиянина,...\n",
              "2                          собаке - собачья смерть\\n  ...                          [собаке, собачья, смерть]\n",
              "3  страницу обнови, дебил. это тоже не оскорблени...  ...  [страницу, обнови, дебил, это, тоже, не, оскор...\n",
              "4  тебя не убедил 6-страничный пдф в том, что скр...  ...  [тебя, не, убедил, 6страничный, пдф, в, том, ч...\n",
              "\n",
              "[5 rows x 4 columns]"
            ]
          },
          "metadata": {
            "tags": []
          },
          "execution_count": 26
        }
      ]
    },
    {
      "cell_type": "markdown",
      "metadata": {
        "id": "USxV2udMuulx"
      },
      "source": [
        "УДАЛЕНИЕ СТОП-СЛОВ "
      ]
    },
    {
      "cell_type": "code",
      "metadata": {
        "colab": {
          "base_uri": "https://localhost:8080/"
        },
        "id": "mrBvHzzXYJRM",
        "outputId": "7935ebd2-6ba4-432d-9ce2-4e706d0538af"
      },
      "source": [
        "#удаление стоп слов\n",
        "from nltk.corpus import stopwords\n",
        "import nltk\n",
        "nltk.download('stopwords')"
      ],
      "execution_count": null,
      "outputs": [
        {
          "output_type": "stream",
          "text": [
            "[nltk_data] Downloading package stopwords to /root/nltk_data...\n",
            "[nltk_data]   Unzipping corpora/stopwords.zip.\n"
          ],
          "name": "stdout"
        },
        {
          "output_type": "execute_result",
          "data": {
            "text/plain": [
              "True"
            ]
          },
          "metadata": {
            "tags": []
          },
          "execution_count": 27
        }
      ]
    },
    {
      "cell_type": "code",
      "metadata": {
        "id": "5jtTDgU3Ysqp"
      },
      "source": [
        "stop_words = stopwords.words('russian')"
      ],
      "execution_count": null,
      "outputs": []
    },
    {
      "cell_type": "code",
      "metadata": {
        "id": "_wK_j2eZYvTC"
      },
      "source": [
        "data['text_tokenize'] = data['text_tokenize'].apply(lambda x: [item for item in x if item not in stop_words])"
      ],
      "execution_count": null,
      "outputs": []
    },
    {
      "cell_type": "code",
      "metadata": {
        "colab": {
          "base_uri": "https://localhost:8080/",
          "height": 204
        },
        "id": "LyBRAMLdZdF4",
        "outputId": "26a6face-e44a-425e-e0f4-4bd859f8e811"
      },
      "source": [
        "data.head()"
      ],
      "execution_count": null,
      "outputs": [
        {
          "output_type": "execute_result",
          "data": {
            "text/html": [
              "<div>\n",
              "<style scoped>\n",
              "    .dataframe tbody tr th:only-of-type {\n",
              "        vertical-align: middle;\n",
              "    }\n",
              "\n",
              "    .dataframe tbody tr th {\n",
              "        vertical-align: top;\n",
              "    }\n",
              "\n",
              "    .dataframe thead th {\n",
              "        text-align: right;\n",
              "    }\n",
              "</style>\n",
              "<table border=\"1\" class=\"dataframe\">\n",
              "  <thead>\n",
              "    <tr style=\"text-align: right;\">\n",
              "      <th></th>\n",
              "      <th>comment</th>\n",
              "      <th>toxic</th>\n",
              "      <th>text_clean</th>\n",
              "      <th>text_tokenize</th>\n",
              "    </tr>\n",
              "  </thead>\n",
              "  <tbody>\n",
              "    <tr>\n",
              "      <th>0</th>\n",
              "      <td>верблюдов-то за что? дебилы, бл...\\n</td>\n",
              "      <td>1</td>\n",
              "      <td>верблюдовто за что дебилы бл</td>\n",
              "      <td>[верблюдовто, дебилы, бл]</td>\n",
              "    </tr>\n",
              "    <tr>\n",
              "      <th>1</th>\n",
              "      <td>хохлы, это отдушина затюканого россиянина, мол...</td>\n",
              "      <td>1</td>\n",
              "      <td>хохлы это отдушина затюканого россиянина мол в...</td>\n",
              "      <td>[хохлы, это, отдушина, затюканого, россиянина,...</td>\n",
              "    </tr>\n",
              "    <tr>\n",
              "      <th>2</th>\n",
              "      <td>собаке - собачья смерть\\n</td>\n",
              "      <td>1</td>\n",
              "      <td>собаке собачья смерть</td>\n",
              "      <td>[собаке, собачья, смерть]</td>\n",
              "    </tr>\n",
              "    <tr>\n",
              "      <th>3</th>\n",
              "      <td>страницу обнови, дебил. это тоже не оскорблени...</td>\n",
              "      <td>1</td>\n",
              "      <td>страницу обнови дебил это тоже не оскорбление ...</td>\n",
              "      <td>[страницу, обнови, дебил, это, оскорбление, до...</td>\n",
              "    </tr>\n",
              "    <tr>\n",
              "      <th>4</th>\n",
              "      <td>тебя не убедил 6-страничный пдф в том, что скр...</td>\n",
              "      <td>1</td>\n",
              "      <td>тебя не убедил 6страничный пдф в том что скрип...</td>\n",
              "      <td>[убедил, 6страничный, пдф, скрипалей, отравила...</td>\n",
              "    </tr>\n",
              "  </tbody>\n",
              "</table>\n",
              "</div>"
            ],
            "text/plain": [
              "                                             comment  ...                                      text_tokenize\n",
              "0               верблюдов-то за что? дебилы, бл...\\n  ...                          [верблюдовто, дебилы, бл]\n",
              "1  хохлы, это отдушина затюканого россиянина, мол...  ...  [хохлы, это, отдушина, затюканого, россиянина,...\n",
              "2                          собаке - собачья смерть\\n  ...                          [собаке, собачья, смерть]\n",
              "3  страницу обнови, дебил. это тоже не оскорблени...  ...  [страницу, обнови, дебил, это, оскорбление, до...\n",
              "4  тебя не убедил 6-страничный пдф в том, что скр...  ...  [убедил, 6страничный, пдф, скрипалей, отравила...\n",
              "\n",
              "[5 rows x 4 columns]"
            ]
          },
          "metadata": {
            "tags": []
          },
          "execution_count": 30
        }
      ]
    },
    {
      "cell_type": "markdown",
      "metadata": {
        "id": "5JM4oZl4uzFb"
      },
      "source": [
        "СТЕМИНГ ДАННЫХ"
      ]
    },
    {
      "cell_type": "code",
      "metadata": {
        "id": "pU0f7uL5ZdIp"
      },
      "source": [
        "#стемминг \n",
        "import nltk\n",
        "from nltk.stem import SnowballStemmer"
      ],
      "execution_count": null,
      "outputs": []
    },
    {
      "cell_type": "code",
      "metadata": {
        "id": "asmV9A77ZdPa"
      },
      "source": [
        "snowball = SnowballStemmer(\"russian\")"
      ],
      "execution_count": null,
      "outputs": []
    },
    {
      "cell_type": "code",
      "metadata": {
        "id": "8wdrLCJpZdTF"
      },
      "source": [
        "data['text_tokenize'] = data['text_tokenize'].apply(lambda x: [snowball.stem(y) for y in x])"
      ],
      "execution_count": null,
      "outputs": []
    },
    {
      "cell_type": "markdown",
      "metadata": {
        "id": "YwMTg1llu26x"
      },
      "source": [
        "ЛЕММИТИЗАЦИЯ ДАННЫХ"
      ]
    },
    {
      "cell_type": "code",
      "metadata": {
        "colab": {
          "base_uri": "https://localhost:8080/"
        },
        "id": "BE2QvZ-Wd8v4",
        "outputId": "6acf8dba-1e20-4ee5-fabd-9015bb11cb74"
      },
      "source": [
        "#лемитизация слов\n",
        "from nltk.stem import WordNetLemmatizer\n",
        "import nltk\n",
        "nltk.download('wordnet')"
      ],
      "execution_count": null,
      "outputs": [
        {
          "output_type": "stream",
          "text": [
            "[nltk_data] Downloading package wordnet to /root/nltk_data...\n",
            "[nltk_data]   Unzipping corpora/wordnet.zip.\n"
          ],
          "name": "stdout"
        },
        {
          "output_type": "execute_result",
          "data": {
            "text/plain": [
              "True"
            ]
          },
          "metadata": {
            "tags": []
          },
          "execution_count": 34
        }
      ]
    },
    {
      "cell_type": "code",
      "metadata": {
        "id": "yJDl7RUed8yd"
      },
      "source": [
        "lemmatizer = WordNetLemmatizer()"
      ],
      "execution_count": null,
      "outputs": []
    },
    {
      "cell_type": "code",
      "metadata": {
        "id": "yYxo1ew5d81X"
      },
      "source": [
        "data['text_tokenize'] = data['text_tokenize'].apply(lambda x: [lemmatizer.lemmatize(y, pos='v') for y in x])"
      ],
      "execution_count": null,
      "outputs": []
    },
    {
      "cell_type": "code",
      "metadata": {
        "colab": {
          "base_uri": "https://localhost:8080/",
          "height": 204
        },
        "id": "Un_9DXRWd851",
        "outputId": "dedbe125-3bf4-4ae8-b495-3bf8c818c225"
      },
      "source": [
        "data.head()"
      ],
      "execution_count": null,
      "outputs": [
        {
          "output_type": "execute_result",
          "data": {
            "text/html": [
              "<div>\n",
              "<style scoped>\n",
              "    .dataframe tbody tr th:only-of-type {\n",
              "        vertical-align: middle;\n",
              "    }\n",
              "\n",
              "    .dataframe tbody tr th {\n",
              "        vertical-align: top;\n",
              "    }\n",
              "\n",
              "    .dataframe thead th {\n",
              "        text-align: right;\n",
              "    }\n",
              "</style>\n",
              "<table border=\"1\" class=\"dataframe\">\n",
              "  <thead>\n",
              "    <tr style=\"text-align: right;\">\n",
              "      <th></th>\n",
              "      <th>comment</th>\n",
              "      <th>toxic</th>\n",
              "      <th>text_clean</th>\n",
              "      <th>text_tokenize</th>\n",
              "    </tr>\n",
              "  </thead>\n",
              "  <tbody>\n",
              "    <tr>\n",
              "      <th>0</th>\n",
              "      <td>верблюдов-то за что? дебилы, бл...\\n</td>\n",
              "      <td>1</td>\n",
              "      <td>верблюдовто за что дебилы бл</td>\n",
              "      <td>[верблюдовт, дебил, бл]</td>\n",
              "    </tr>\n",
              "    <tr>\n",
              "      <th>1</th>\n",
              "      <td>хохлы, это отдушина затюканого россиянина, мол...</td>\n",
              "      <td>1</td>\n",
              "      <td>хохлы это отдушина затюканого россиянина мол в...</td>\n",
              "      <td>[хохл, эт, отдушин, затюкан, россиянин, мол, в...</td>\n",
              "    </tr>\n",
              "    <tr>\n",
              "      <th>2</th>\n",
              "      <td>собаке - собачья смерть\\n</td>\n",
              "      <td>1</td>\n",
              "      <td>собаке собачья смерть</td>\n",
              "      <td>[собак, собач, смерт]</td>\n",
              "    </tr>\n",
              "    <tr>\n",
              "      <th>3</th>\n",
              "      <td>страницу обнови, дебил. это тоже не оскорблени...</td>\n",
              "      <td>1</td>\n",
              "      <td>страницу обнови дебил это тоже не оскорбление ...</td>\n",
              "      <td>[страниц, обнов, деб, эт, оскорблен, доказа, ф...</td>\n",
              "    </tr>\n",
              "    <tr>\n",
              "      <th>4</th>\n",
              "      <td>тебя не убедил 6-страничный пдф в том, что скр...</td>\n",
              "      <td>1</td>\n",
              "      <td>тебя не убедил 6страничный пдф в том что скрип...</td>\n",
              "      <td>[убед, 6страничн, пдф, скрипал, отрав, росс, а...</td>\n",
              "    </tr>\n",
              "  </tbody>\n",
              "</table>\n",
              "</div>"
            ],
            "text/plain": [
              "                                             comment  ...                                      text_tokenize\n",
              "0               верблюдов-то за что? дебилы, бл...\\n  ...                            [верблюдовт, дебил, бл]\n",
              "1  хохлы, это отдушина затюканого россиянина, мол...  ...  [хохл, эт, отдушин, затюкан, россиянин, мол, в...\n",
              "2                          собаке - собачья смерть\\n  ...                              [собак, собач, смерт]\n",
              "3  страницу обнови, дебил. это тоже не оскорблени...  ...  [страниц, обнов, деб, эт, оскорблен, доказа, ф...\n",
              "4  тебя не убедил 6-страничный пдф в том, что скр...  ...  [убед, 6страничн, пдф, скрипал, отрав, росс, а...\n",
              "\n",
              "[5 rows x 4 columns]"
            ]
          },
          "metadata": {
            "tags": []
          },
          "execution_count": 37
        }
      ]
    },
    {
      "cell_type": "code",
      "metadata": {
        "id": "HbV9YVc-eDTN"
      },
      "source": [
        "from sklearn.feature_extraction.text import CountVectorizer"
      ],
      "execution_count": null,
      "outputs": []
    },
    {
      "cell_type": "code",
      "metadata": {
        "id": "Z4x3Qrq_eWk7"
      },
      "source": [
        "data = data.assign(text_str = data['text_tokenize'].apply(str))"
      ],
      "execution_count": null,
      "outputs": []
    },
    {
      "cell_type": "code",
      "metadata": {
        "colab": {
          "base_uri": "https://localhost:8080/",
          "height": 255
        },
        "id": "pNaVqDikefWi",
        "outputId": "51a884ce-3431-4e2f-9cdf-54a19761b977"
      },
      "source": [
        "data.head()"
      ],
      "execution_count": null,
      "outputs": [
        {
          "output_type": "execute_result",
          "data": {
            "text/html": [
              "<div>\n",
              "<style scoped>\n",
              "    .dataframe tbody tr th:only-of-type {\n",
              "        vertical-align: middle;\n",
              "    }\n",
              "\n",
              "    .dataframe tbody tr th {\n",
              "        vertical-align: top;\n",
              "    }\n",
              "\n",
              "    .dataframe thead th {\n",
              "        text-align: right;\n",
              "    }\n",
              "</style>\n",
              "<table border=\"1\" class=\"dataframe\">\n",
              "  <thead>\n",
              "    <tr style=\"text-align: right;\">\n",
              "      <th></th>\n",
              "      <th>comment</th>\n",
              "      <th>toxic</th>\n",
              "      <th>text_clean</th>\n",
              "      <th>text_tokenize</th>\n",
              "      <th>text_str</th>\n",
              "    </tr>\n",
              "  </thead>\n",
              "  <tbody>\n",
              "    <tr>\n",
              "      <th>0</th>\n",
              "      <td>верблюдов-то за что? дебилы, бл...\\n</td>\n",
              "      <td>1</td>\n",
              "      <td>верблюдовто за что дебилы бл</td>\n",
              "      <td>[верблюдовт, дебил, бл]</td>\n",
              "      <td>['верблюдовт', 'дебил', 'бл']</td>\n",
              "    </tr>\n",
              "    <tr>\n",
              "      <th>1</th>\n",
              "      <td>хохлы, это отдушина затюканого россиянина, мол...</td>\n",
              "      <td>1</td>\n",
              "      <td>хохлы это отдушина затюканого россиянина мол в...</td>\n",
              "      <td>[хохл, эт, отдушин, затюкан, россиянин, мол, в...</td>\n",
              "      <td>['хохл', 'эт', 'отдушин', 'затюкан', 'россияни...</td>\n",
              "    </tr>\n",
              "    <tr>\n",
              "      <th>2</th>\n",
              "      <td>собаке - собачья смерть\\n</td>\n",
              "      <td>1</td>\n",
              "      <td>собаке собачья смерть</td>\n",
              "      <td>[собак, собач, смерт]</td>\n",
              "      <td>['собак', 'собач', 'смерт']</td>\n",
              "    </tr>\n",
              "    <tr>\n",
              "      <th>3</th>\n",
              "      <td>страницу обнови, дебил. это тоже не оскорблени...</td>\n",
              "      <td>1</td>\n",
              "      <td>страницу обнови дебил это тоже не оскорбление ...</td>\n",
              "      <td>[страниц, обнов, деб, эт, оскорблен, доказа, ф...</td>\n",
              "      <td>['страниц', 'обнов', 'деб', 'эт', 'оскорблен',...</td>\n",
              "    </tr>\n",
              "    <tr>\n",
              "      <th>4</th>\n",
              "      <td>тебя не убедил 6-страничный пдф в том, что скр...</td>\n",
              "      <td>1</td>\n",
              "      <td>тебя не убедил 6страничный пдф в том что скрип...</td>\n",
              "      <td>[убед, 6страничн, пдф, скрипал, отрав, росс, а...</td>\n",
              "      <td>['убед', '6страничн', 'пдф', 'скрипал', 'отрав...</td>\n",
              "    </tr>\n",
              "  </tbody>\n",
              "</table>\n",
              "</div>"
            ],
            "text/plain": [
              "                                             comment  ...                                           text_str\n",
              "0               верблюдов-то за что? дебилы, бл...\\n  ...                      ['верблюдовт', 'дебил', 'бл']\n",
              "1  хохлы, это отдушина затюканого россиянина, мол...  ...  ['хохл', 'эт', 'отдушин', 'затюкан', 'россияни...\n",
              "2                          собаке - собачья смерть\\n  ...                        ['собак', 'собач', 'смерт']\n",
              "3  страницу обнови, дебил. это тоже не оскорблени...  ...  ['страниц', 'обнов', 'деб', 'эт', 'оскорблен',...\n",
              "4  тебя не убедил 6-страничный пдф в том, что скр...  ...  ['убед', '6страничн', 'пдф', 'скрипал', 'отрав...\n",
              "\n",
              "[5 rows x 5 columns]"
            ]
          },
          "metadata": {
            "tags": []
          },
          "execution_count": 40
        }
      ]
    },
    {
      "cell_type": "code",
      "metadata": {
        "id": "ORsQP_EteYme"
      },
      "source": [
        "#выбираем 'text_str' потому что он очищеный приведен к начальной форме удалены стоп слова проведена лексимизация текста итп \n",
        "X = data['text_str']\n",
        "y = data['toxic']"
      ],
      "execution_count": null,
      "outputs": []
    },
    {
      "cell_type": "markdown",
      "metadata": {
        "id": "ZgbD3O2gu6jp"
      },
      "source": [
        "МЕШОК СЛОВ"
      ]
    },
    {
      "cell_type": "code",
      "metadata": {
        "colab": {
          "base_uri": "https://localhost:8080/"
        },
        "id": "RZPlOwfaed7V",
        "outputId": "3e57541a-ed82-4bde-edcb-3d0749e7cab7"
      },
      "source": [
        "vectorizer = CountVectorizer()\n",
        "# подгоняем модель под векторизацию\n",
        "vectorizer.fit(X)\n",
        "# преобразуем нашу разряженную матрицу \n",
        "X = vectorizer.transform(X)\n",
        "print('размер разряженной матрицы: ', X.shape)\n",
        "print('количество ненулевых вхождений: ', X.nnz)"
      ],
      "execution_count": null,
      "outputs": [
        {
          "output_type": "stream",
          "text": [
            "размер разряженной матрицы:  (14412, 35852)\n",
            "количество ненулевых вхождений:  222621\n"
          ],
          "name": "stdout"
        }
      ]
    },
    {
      "cell_type": "code",
      "metadata": {
        "id": "0wJaOvUofRzb"
      },
      "source": [
        "from sklearn.model_selection import train_test_split\n",
        "from sklearn.ensemble import RandomForestClassifier\n",
        "from sklearn.metrics import confusion_matrix, classification_report\n",
        "from sklearn.dummy import DummyClassifier"
      ],
      "execution_count": null,
      "outputs": []
    },
    {
      "cell_type": "code",
      "metadata": {
        "id": "wVyIeq8UfR1z"
      },
      "source": [
        "#разбиение на тестовый и тренировочный набор данных\n",
        "X_train, X_test, y_train, y_test = train_test_split(X, y, test_size=0.25, random_state=101)"
      ],
      "execution_count": null,
      "outputs": []
    },
    {
      "cell_type": "markdown",
      "metadata": {
        "id": "OLaqjj0cu-Co"
      },
      "source": [
        "БАЗОВАЯ КЛАССИФИКАЦИОННАЯ МОДЕЛЬ"
      ]
    },
    {
      "cell_type": "code",
      "metadata": {
        "id": "JP0qdLn1fR4l"
      },
      "source": [
        "dummy = DummyClassifier(strategy='uniform', random_state=100)"
      ],
      "execution_count": null,
      "outputs": []
    },
    {
      "cell_type": "code",
      "metadata": {
        "colab": {
          "base_uri": "https://localhost:8080/"
        },
        "id": "uY_00-IEfSFa",
        "outputId": "ca636abb-49b8-4573-d00d-96e709da8f28"
      },
      "source": [
        "dummy.fit(X_train, y_train)\n",
        "dummy.score(X_test, y_test)"
      ],
      "execution_count": null,
      "outputs": [
        {
          "output_type": "execute_result",
          "data": {
            "text/plain": [
              "0.5026366916458507"
            ]
          },
          "metadata": {
            "tags": []
          },
          "execution_count": 46
        }
      ]
    },
    {
      "cell_type": "code",
      "metadata": {
        "id": "IVl0eeqJfknP"
      },
      "source": [
        "from sklearn.metrics import f1_score\n",
        "from sklearn.metrics import recall_score\n",
        "from sklearn.metrics import precision_score"
      ],
      "execution_count": null,
      "outputs": []
    },
    {
      "cell_type": "code",
      "metadata": {
        "id": "zQhi1UBvfSH3"
      },
      "source": [
        "from sklearn.linear_model import LogisticRegression\n",
        "from sklearn.tree import DecisionTreeClassifier\n",
        "from sklearn.neighbors import KNeighborsClassifier\n",
        "from sklearn.ensemble import AdaBoostClassifier"
      ],
      "execution_count": null,
      "outputs": []
    },
    {
      "cell_type": "markdown",
      "metadata": {
        "id": "bM-Qk-qe0ZJz"
      },
      "source": [
        "ЛОГИСТИЧЕСКАЯ РЕГРЕССИЯ"
      ]
    },
    {
      "cell_type": "code",
      "metadata": {
        "id": "wNE9HxB7fcUg"
      },
      "source": [
        "logit = LogisticRegression(penalty='l2', C = 2.7825594022071245)"
      ],
      "execution_count": null,
      "outputs": []
    },
    {
      "cell_type": "code",
      "metadata": {
        "id": "xLGNXb9gfeyC"
      },
      "source": [
        "model_logit = logit.fit(X_train,y_train)"
      ],
      "execution_count": null,
      "outputs": []
    },
    {
      "cell_type": "code",
      "metadata": {
        "colab": {
          "base_uri": "https://localhost:8080/"
        },
        "id": "D7NhsKETfjJK",
        "outputId": "5149cae9-3b68-44dc-803a-32dd559f8abe"
      },
      "source": [
        "predictions_logit = model_logit.predict(X_test)\n",
        "# посмотреть на точность предсказания \n",
        "f1_score(y_test,predictions_logit)"
      ],
      "execution_count": null,
      "outputs": [
        {
          "output_type": "execute_result",
          "data": {
            "text/plain": [
              "0.7674841053587648"
            ]
          },
          "metadata": {
            "tags": []
          },
          "execution_count": 51
        }
      ]
    },
    {
      "cell_type": "code",
      "metadata": {
        "colab": {
          "base_uri": "https://localhost:8080/"
        },
        "id": "TdpIX53Df_0D",
        "outputId": "e742b919-31fb-4073-b3ad-d9d6fb5c29bc"
      },
      "source": [
        "print(precision_score(y_test,predictions_logit))\n",
        "print(recall_score(y_test,predictions_logit))"
      ],
      "execution_count": null,
      "outputs": [
        {
          "output_type": "stream",
          "text": [
            "0.8341559723593287\n",
            "0.7106812447434819\n"
          ],
          "name": "stdout"
        }
      ]
    },
    {
      "cell_type": "markdown",
      "metadata": {
        "id": "HJyY8cHs0buN"
      },
      "source": [
        "АДАБУСТ КЛАССИФАЙР"
      ]
    },
    {
      "cell_type": "code",
      "metadata": {
        "id": "ORCkXkvDf0ww"
      },
      "source": [
        "adaboost = AdaBoostClassifier(random_state= 120)"
      ],
      "execution_count": null,
      "outputs": []
    },
    {
      "cell_type": "code",
      "metadata": {
        "id": "OLGz5Pcjf6j6"
      },
      "source": [
        "model_adaboost = adaboost.fit(X_train, y_train)"
      ],
      "execution_count": null,
      "outputs": []
    },
    {
      "cell_type": "code",
      "metadata": {
        "colab": {
          "base_uri": "https://localhost:8080/"
        },
        "id": "cpGGFOOaf8Ja",
        "outputId": "fc853f5f-17f5-490c-bca4-05a20d7a6572"
      },
      "source": [
        "# предсказать значения тестовой выборки\n",
        "predictions_adaboost = model_adaboost.predict(X_test)\n",
        "# посмотреть на точность предсказания \n",
        "f1_score(y_test, predictions_adaboost,average='micro')"
      ],
      "execution_count": null,
      "outputs": [
        {
          "output_type": "execute_result",
          "data": {
            "text/plain": [
              "0.7732445184568416"
            ]
          },
          "metadata": {
            "tags": []
          },
          "execution_count": 55
        }
      ]
    },
    {
      "cell_type": "code",
      "metadata": {
        "colab": {
          "base_uri": "https://localhost:8080/"
        },
        "id": "BhWgatlOgdPB",
        "outputId": "2637f981-303c-4ec0-a309-d3fdd25d1e52"
      },
      "source": [
        "print(precision_score(y_test,predictions_adaboost))\n",
        "print(recall_score(y_test,predictions_adaboost))"
      ],
      "execution_count": null,
      "outputs": [
        {
          "output_type": "stream",
          "text": [
            "0.8444444444444444\n",
            "0.383515559293524\n"
          ],
          "name": "stdout"
        }
      ]
    },
    {
      "cell_type": "markdown",
      "metadata": {
        "id": "jT1CfkHI0ePo"
      },
      "source": [
        "К-БЛИЖАЙШИХ СОСЕДЕЙ"
      ]
    },
    {
      "cell_type": "code",
      "metadata": {
        "id": "j7kbnMmtgdSV"
      },
      "source": [
        "# n =3  уже подобранное число соседа\n",
        "knn = KNeighborsClassifier(n_neighbors=9, n_jobs=-1)"
      ],
      "execution_count": null,
      "outputs": []
    },
    {
      "cell_type": "code",
      "metadata": {
        "colab": {
          "base_uri": "https://localhost:8080/"
        },
        "id": "l0F3ULwqgmWo",
        "outputId": "f7177c03-4201-4bc2-a213-b3fcee260acf"
      },
      "source": [
        "knn.fit(X_train,y_train)"
      ],
      "execution_count": null,
      "outputs": [
        {
          "output_type": "execute_result",
          "data": {
            "text/plain": [
              "KNeighborsClassifier(algorithm='auto', leaf_size=30, metric='minkowski',\n",
              "                     metric_params=None, n_jobs=-1, n_neighbors=9, p=2,\n",
              "                     weights='uniform')"
            ]
          },
          "metadata": {
            "tags": []
          },
          "execution_count": 58
        }
      ]
    },
    {
      "cell_type": "code",
      "metadata": {
        "colab": {
          "base_uri": "https://localhost:8080/"
        },
        "id": "faRmMgtMgoHO",
        "outputId": "15fe79fc-925d-46c3-a537-9bc887ac53d3"
      },
      "source": [
        "# предсказать значения тестовой выборки\n",
        "predictions_knn = knn.predict(X_test)\n",
        "# посмотреть на точность предсказания \n",
        "f1_score(y_test, predictions_knn,average='micro')"
      ],
      "execution_count": null,
      "outputs": [
        {
          "output_type": "execute_result",
          "data": {
            "text/plain": [
              "0.7113516514016097"
            ]
          },
          "metadata": {
            "tags": []
          },
          "execution_count": 59
        }
      ]
    },
    {
      "cell_type": "code",
      "metadata": {
        "colab": {
          "base_uri": "https://localhost:8080/"
        },
        "id": "JJmQzAxUgqTE",
        "outputId": "253d9b6a-54e5-4558-f95d-febf8102c839"
      },
      "source": [
        "print(precision_score(y_test,predictions_knn))\n",
        "print(recall_score(y_test,predictions_knn))"
      ],
      "execution_count": null,
      "outputs": [
        {
          "output_type": "stream",
          "text": [
            "0.6867167919799498\n",
            "0.2304457527333894\n"
          ],
          "name": "stdout"
        }
      ]
    },
    {
      "cell_type": "markdown",
      "metadata": {
        "id": "kpyjQNbB0jN_"
      },
      "source": [
        "МЕТОД ОПОРНО МАШИННЫХ ВЕКТОРОВ"
      ]
    },
    {
      "cell_type": "code",
      "metadata": {
        "id": "OAm-Cc9Fguca"
      },
      "source": [
        "from sklearn.svm import SVC"
      ],
      "execution_count": null,
      "outputs": []
    },
    {
      "cell_type": "code",
      "metadata": {
        "id": "61C5VIMDgxv1"
      },
      "source": [
        "svc = SVC()"
      ],
      "execution_count": null,
      "outputs": []
    },
    {
      "cell_type": "code",
      "metadata": {
        "id": "gi-b0f7Mgzh7"
      },
      "source": [
        "model_svc = svc.fit(X_train,y_train)"
      ],
      "execution_count": null,
      "outputs": []
    },
    {
      "cell_type": "code",
      "metadata": {
        "colab": {
          "base_uri": "https://localhost:8080/"
        },
        "id": "hXDUYb0Jg2wr",
        "outputId": "b6e02a64-62b4-4826-d259-237a682f7592"
      },
      "source": [
        "# предсказать значения тестовой выборки\n",
        "predictions_svc = model_svc.predict(X_test)\n",
        "# посмотреть на точность предсказания \n",
        "f1_score(y_test, predictions_svc,average='micro')"
      ],
      "execution_count": null,
      "outputs": [
        {
          "output_type": "execute_result",
          "data": {
            "text/plain": [
              "0.8268109908409659"
            ]
          },
          "metadata": {
            "tags": []
          },
          "execution_count": 64
        }
      ]
    },
    {
      "cell_type": "code",
      "metadata": {
        "colab": {
          "base_uri": "https://localhost:8080/"
        },
        "id": "Dv0CnlZJg5JP",
        "outputId": "76df7b5b-0c4b-4756-9b6b-881a63e6134d"
      },
      "source": [
        "print(precision_score(y_test,predictions_svc))\n",
        "print(recall_score(y_test,predictions_svc))"
      ],
      "execution_count": null,
      "outputs": [
        {
          "output_type": "stream",
          "text": [
            "0.8907330567081605\n",
            "0.5416316232127838\n"
          ],
          "name": "stdout"
        }
      ]
    },
    {
      "cell_type": "markdown",
      "metadata": {
        "id": "igRK-l9m0m32"
      },
      "source": [
        "ДЕРЕВЬЯ РЕШЕНИЙ"
      ]
    },
    {
      "cell_type": "code",
      "metadata": {
        "id": "KkyMSxqqg-Uo"
      },
      "source": [
        "decisiontree = DecisionTreeClassifier(criterion = 'entropy', random_state = 244)"
      ],
      "execution_count": null,
      "outputs": []
    },
    {
      "cell_type": "code",
      "metadata": {
        "id": "AOaxTccThGCF"
      },
      "source": [
        "model_tree = decisiontree.fit(X_train,y_train)"
      ],
      "execution_count": null,
      "outputs": []
    },
    {
      "cell_type": "code",
      "metadata": {
        "colab": {
          "base_uri": "https://localhost:8080/"
        },
        "id": "tm8fDRgxhKtG",
        "outputId": "169e7470-568b-439a-aabd-a8fdc4150834"
      },
      "source": [
        "# предсказать значения тестовой выборки\n",
        "predictions_tree = model_tree.predict(X_test)\n",
        "# посмотреть на точность предсказания \n",
        "f1_score(y_test, predictions_tree,average='micro')"
      ],
      "execution_count": null,
      "outputs": [
        {
          "output_type": "execute_result",
          "data": {
            "text/plain": [
              "0.7760199833472107"
            ]
          },
          "metadata": {
            "tags": []
          },
          "execution_count": 68
        }
      ]
    },
    {
      "cell_type": "code",
      "metadata": {
        "colab": {
          "base_uri": "https://localhost:8080/"
        },
        "id": "RnX8VfgyhMsw",
        "outputId": "c6a175a5-7012-4b83-f678-04602d4ce4d4"
      },
      "source": [
        "print(precision_score(y_test,predictions_tree))\n",
        "print(recall_score(y_test,predictions_tree))"
      ],
      "execution_count": null,
      "outputs": [
        {
          "output_type": "stream",
          "text": [
            "0.6826003824091779\n",
            "0.6005046257359126\n"
          ],
          "name": "stdout"
        }
      ]
    },
    {
      "cell_type": "markdown",
      "metadata": {
        "id": "skJHZzdY0pp5"
      },
      "source": [
        "ПОЛИНОМИАЛЬНЫЙ БАЙЕСС"
      ]
    },
    {
      "cell_type": "code",
      "metadata": {
        "id": "T1sBtJh1hQdD"
      },
      "source": [
        "from sklearn.naive_bayes import MultinomialNB"
      ],
      "execution_count": null,
      "outputs": []
    },
    {
      "cell_type": "code",
      "metadata": {
        "id": "dGczvIGphT2T"
      },
      "source": [
        "classifier = MultinomialNB()\n",
        "X_class = X_train.toarray()"
      ],
      "execution_count": null,
      "outputs": []
    },
    {
      "cell_type": "code",
      "metadata": {
        "id": "4nENt0Z_hT5q"
      },
      "source": [
        "model_bayes = classifier.fit(X_class, y_train)"
      ],
      "execution_count": null,
      "outputs": []
    },
    {
      "cell_type": "code",
      "metadata": {
        "colab": {
          "base_uri": "https://localhost:8080/"
        },
        "id": "dZlN5HINhT9R",
        "outputId": "60bbb0f9-2cdc-4b1a-a4ba-4f57dd3d33ca"
      },
      "source": [
        "# предсказать значения тестовой выборки\n",
        "predictions_bayes = model_bayes.predict(X_test)\n",
        "# посмотреть на точность предсказания \n",
        "f1_score(y_test, predictions_bayes,average='micro')"
      ],
      "execution_count": null,
      "outputs": [
        {
          "output_type": "execute_result",
          "data": {
            "text/plain": [
              "0.8870385789619761"
            ]
          },
          "metadata": {
            "tags": []
          },
          "execution_count": 73
        }
      ]
    },
    {
      "cell_type": "code",
      "metadata": {
        "colab": {
          "base_uri": "https://localhost:8080/"
        },
        "id": "sf6q0CkthUAN",
        "outputId": "0a2064e1-c11b-4b86-c2b0-caf40aa9a011"
      },
      "source": [
        "print(precision_score(y_test,predictions_bayes))\n",
        "print(recall_score(y_test,predictions_bayes))"
      ],
      "execution_count": null,
      "outputs": [
        {
          "output_type": "stream",
          "text": [
            "0.8441901408450704\n",
            "0.8065601345668629\n"
          ],
          "name": "stdout"
        }
      ]
    },
    {
      "cell_type": "markdown",
      "metadata": {
        "id": "4y0daZTY0sI1"
      },
      "source": [
        "БЕРНУЛЛИЕВ БАЙЕСС"
      ]
    },
    {
      "cell_type": "code",
      "metadata": {
        "id": "pzwz3J7phfLI"
      },
      "source": [
        "from sklearn.naive_bayes import BernoulliNB"
      ],
      "execution_count": null,
      "outputs": []
    },
    {
      "cell_type": "code",
      "metadata": {
        "id": "gE6nIlRahiTl"
      },
      "source": [
        "classifier_bernulli = BernoulliNB()"
      ],
      "execution_count": null,
      "outputs": []
    },
    {
      "cell_type": "code",
      "metadata": {
        "id": "g4cNniubhieV"
      },
      "source": [
        "model_bernulli = classifier_bernulli.fit(X_class,y_train)"
      ],
      "execution_count": null,
      "outputs": []
    },
    {
      "cell_type": "code",
      "metadata": {
        "colab": {
          "base_uri": "https://localhost:8080/"
        },
        "id": "CCBMsbnZhihY",
        "outputId": "658ffab0-0f5b-44fd-9591-9dbcf1db7096"
      },
      "source": [
        "# предсказать значения тестовой выборки\n",
        "predictions_bernulli = model_bernulli.predict(X_test)\n",
        "# посмотреть на точность предсказания \n",
        "f1_score(y_test, predictions_bernulli,average='micro')"
      ],
      "execution_count": null,
      "outputs": [
        {
          "output_type": "execute_result",
          "data": {
            "text/plain": [
              "0.8820427421593117"
            ]
          },
          "metadata": {
            "tags": []
          },
          "execution_count": 78
        }
      ]
    },
    {
      "cell_type": "code",
      "metadata": {
        "colab": {
          "base_uri": "https://localhost:8080/"
        },
        "id": "wN307ivehikU",
        "outputId": "6d93ddd4-6c42-49ac-9df6-f06a2dfa3a6c"
      },
      "source": [
        "print(precision_score(y_test,predictions_bernulli))\n",
        "print(recall_score(y_test,predictions_bernulli))"
      ],
      "execution_count": null,
      "outputs": [
        {
          "output_type": "stream",
          "text": [
            "0.8666026871401151\n",
            "0.7594617325483599\n"
          ],
          "name": "stdout"
        }
      ]
    },
    {
      "cell_type": "markdown",
      "metadata": {
        "id": "Um5x4S0g0wOC"
      },
      "source": [
        "СЛУЧАЙНЫЕ ЛЕСА"
      ]
    },
    {
      "cell_type": "code",
      "metadata": {
        "colab": {
          "base_uri": "https://localhost:8080/"
        },
        "id": "bPXvbwV1hinC",
        "outputId": "c825c69b-3ab7-4804-8533-e962053ada84"
      },
      "source": [
        "# создание модели случайного леса\n",
        "rfc = RandomForestClassifier(criterion = 'entropy',oob_score=True,n_jobs=-1, random_state=105)\n",
        "# начинаем подгонку модели на тренировачных данных\n",
        "rfc.fit(X_train, y_train)"
      ],
      "execution_count": null,
      "outputs": [
        {
          "output_type": "execute_result",
          "data": {
            "text/plain": [
              "RandomForestClassifier(bootstrap=True, ccp_alpha=0.0, class_weight=None,\n",
              "                       criterion='entropy', max_depth=None, max_features='auto',\n",
              "                       max_leaf_nodes=None, max_samples=None,\n",
              "                       min_impurity_decrease=0.0, min_impurity_split=None,\n",
              "                       min_samples_leaf=1, min_samples_split=2,\n",
              "                       min_weight_fraction_leaf=0.0, n_estimators=100,\n",
              "                       n_jobs=-1, oob_score=True, random_state=105, verbose=0,\n",
              "                       warm_start=False)"
            ]
          },
          "metadata": {
            "tags": []
          },
          "execution_count": 80
        }
      ]
    },
    {
      "cell_type": "code",
      "metadata": {
        "colab": {
          "base_uri": "https://localhost:8080/"
        },
        "id": "VUgxcq4shzCU",
        "outputId": "51a2f9a9-ad21-43db-da72-97e27ddb5dca"
      },
      "source": [
        "# предсказать значения тестовой выборки\n",
        "predictions_rfc = rfc.predict(X_test)\n",
        "# посмотреть на точность предсказания \n",
        "f1_score(y_test,predictions_rfc)"
      ],
      "execution_count": null,
      "outputs": [
        {
          "output_type": "execute_result",
          "data": {
            "text/plain": [
              "0.681701691440287"
            ]
          },
          "metadata": {
            "tags": []
          },
          "execution_count": 81
        }
      ]
    },
    {
      "cell_type": "code",
      "metadata": {
        "colab": {
          "base_uri": "https://localhost:8080/"
        },
        "id": "JF9Z4ODUh7eq",
        "outputId": "e5334091-1ce0-425a-9752-a2301ebdd6f4"
      },
      "source": [
        "print(precision_score(y_test,predictions_rfc))\n",
        "print(recall_score(y_test,predictions_rfc))"
      ],
      "execution_count": null,
      "outputs": [
        {
          "output_type": "stream",
          "text": [
            "0.8727034120734908\n",
            "0.5592935239697224\n"
          ],
          "name": "stdout"
        }
      ]
    },
    {
      "cell_type": "code",
      "metadata": {
        "id": "ATWqV0Obil68"
      },
      "source": [],
      "execution_count": null,
      "outputs": []
    },
    {
      "cell_type": "markdown",
      "metadata": {
        "id": "YavoaHAR02_v"
      },
      "source": [
        "ОПТИМИЗАЦИЯ АЛГОРИТМОВ - ПОДБОР ГИППЕРПАРАМЕТРОВ"
      ]
    },
    {
      "cell_type": "code",
      "metadata": {
        "id": "3a8c-6NLimGZ"
      },
      "source": [
        "from sklearn.model_selection import GridSearchCV"
      ],
      "execution_count": null,
      "outputs": []
    },
    {
      "cell_type": "markdown",
      "metadata": {
        "id": "WChN91n1092S"
      },
      "source": [
        "ЛОГИСТИЧЕСКАЯ РЕГРЕССИЯ"
      ]
    },
    {
      "cell_type": "code",
      "metadata": {
        "id": "fObowToBinyP"
      },
      "source": [
        "penalty = ['l1','l2']\n",
        "C = np.logspace(0,4,10)\n",
        "hyperparametrs = dict(C=C, penalty=penalty)"
      ],
      "execution_count": null,
      "outputs": []
    },
    {
      "cell_type": "code",
      "metadata": {
        "id": "iSPpOxEQisIc"
      },
      "source": [
        "grid_search_logit = GridSearchCV(logit, hyperparametrs, cv = 5, verbose = 0)"
      ],
      "execution_count": null,
      "outputs": []
    },
    {
      "cell_type": "code",
      "metadata": {
        "id": "DgPx5PqviuHq"
      },
      "source": [
        "best_model_logit = grid_search_logit.fit(X_train, y_train)"
      ],
      "execution_count": null,
      "outputs": []
    },
    {
      "cell_type": "code",
      "metadata": {
        "colab": {
          "base_uri": "https://localhost:8080/"
        },
        "id": "dgr0rYjxiuLZ",
        "outputId": "704293ee-ca5b-46ed-9bab-9f56ef224e48"
      },
      "source": [
        "print('Лучший штраф:', best_model_logit.best_estimator_.get_params()['penalty'])\n",
        "print('Лучший C:', best_model_logit.best_estimator_.get_params()['C'])"
      ],
      "execution_count": null,
      "outputs": [
        {
          "output_type": "stream",
          "text": [
            "Лучший штраф: l2\n",
            "Лучший C: 2.7825594022071245\n"
          ],
          "name": "stdout"
        }
      ]
    },
    {
      "cell_type": "markdown",
      "metadata": {
        "id": "KFQGnIe61Aq6"
      },
      "source": [
        "К-БЛИЖАЙШИХ СОСЕДЕЙ"
      ]
    },
    {
      "cell_type": "code",
      "metadata": {
        "id": "yRFZccR3jlqC"
      },
      "source": [
        "n_neighbors = range(1,11)\n",
        "param_grid = {'n_neighbors':n_neighbors,}"
      ],
      "execution_count": null,
      "outputs": []
    },
    {
      "cell_type": "code",
      "metadata": {
        "id": "tGcIXZqpjluM"
      },
      "source": [
        "gs = GridSearchCV(knn, param_grid, cv = 5, verbose=1, n_jobs=-1)"
      ],
      "execution_count": null,
      "outputs": []
    },
    {
      "cell_type": "code",
      "metadata": {
        "colab": {
          "base_uri": "https://localhost:8080/"
        },
        "id": "f1SyidAQjlyd",
        "outputId": "f05ec4a6-b495-4f27-e2a4-b88b938536c5"
      },
      "source": [
        "best_model_knn = gs.fit(X_train,y_train)"
      ],
      "execution_count": null,
      "outputs": [
        {
          "output_type": "stream",
          "text": [
            "Fitting 5 folds for each of 10 candidates, totalling 50 fits\n"
          ],
          "name": "stdout"
        },
        {
          "output_type": "stream",
          "text": [
            "[Parallel(n_jobs=-1)]: Using backend LokyBackend with 2 concurrent workers.\n",
            "[Parallel(n_jobs=-1)]: Done  46 tasks      | elapsed:   30.6s\n",
            "[Parallel(n_jobs=-1)]: Done  50 out of  50 | elapsed:   33.0s finished\n"
          ],
          "name": "stderr"
        }
      ]
    },
    {
      "cell_type": "code",
      "metadata": {
        "colab": {
          "base_uri": "https://localhost:8080/"
        },
        "id": "jUL_FdRZjl1t",
        "outputId": "464ede6b-5240-4f7a-8238-40b86390953f"
      },
      "source": [
        "best_model_knn.best_params_"
      ],
      "execution_count": null,
      "outputs": [
        {
          "output_type": "execute_result",
          "data": {
            "text/plain": [
              "{'n_neighbors': 9}"
            ]
          },
          "metadata": {
            "tags": []
          },
          "execution_count": 91
        }
      ]
    },
    {
      "cell_type": "markdown",
      "metadata": {
        "id": "fYtr_mWw1E2A"
      },
      "source": [
        "МЕТОД МАШИННО ОПОРНЫХ ВЕКТОРОВ"
      ]
    },
    {
      "cell_type": "code",
      "metadata": {
        "id": "omZZ9Y1Ljl-X"
      },
      "source": [
        "param_grid_svm = {'C': range(1,21,2),\n",
        "                  'gamma': [1,0.1, 0.01, 0.001, 0.0001],\n",
        "                  'kernel':['rbf','linear','poly','sigmoid']}"
      ],
      "execution_count": null,
      "outputs": []
    },
    {
      "cell_type": "code",
      "metadata": {
        "id": "8UAD2o4rjmBv"
      },
      "source": [
        "grid_svm = GridSearchCV(svc, param_grid_svm,cv=5, verbose=3, n_jobs=-1)"
      ],
      "execution_count": null,
      "outputs": []
    },
    {
      "cell_type": "code",
      "metadata": {
        "colab": {
          "base_uri": "https://localhost:8080/"
        },
        "id": "tAokIfqjkdoy",
        "outputId": "938f6c94-a478-4fef-fee9-3962864fbe6f"
      },
      "source": [
        "best_model_svm = grid_svm.fit(X_train,y_train)"
      ],
      "execution_count": null,
      "outputs": [
        {
          "output_type": "stream",
          "text": [
            "[Parallel(n_jobs=-1)]: Using backend LokyBackend with 2 concurrent workers.\n"
          ],
          "name": "stderr"
        },
        {
          "output_type": "stream",
          "text": [
            "Fitting 5 folds for each of 200 candidates, totalling 1000 fits\n"
          ],
          "name": "stdout"
        },
        {
          "output_type": "stream",
          "text": [
            "[Parallel(n_jobs=-1)]: Done  28 tasks      | elapsed:  5.3min\n",
            "[Parallel(n_jobs=-1)]: Done 124 tasks      | elapsed: 22.1min\n",
            "[Parallel(n_jobs=-1)]: Done 284 tasks      | elapsed: 49.1min\n",
            "[Parallel(n_jobs=-1)]: Done 508 tasks      | elapsed: 90.5min\n",
            "[Parallel(n_jobs=-1)]: Done 796 tasks      | elapsed: 142.2min\n",
            "[Parallel(n_jobs=-1)]: Done 1000 out of 1000 | elapsed: 179.7min finished\n"
          ],
          "name": "stderr"
        }
      ]
    },
    {
      "cell_type": "code",
      "metadata": {
        "id": "BAVqsE5Ckds6",
        "colab": {
          "base_uri": "https://localhost:8080/"
        },
        "outputId": "2e936327-7c3a-4395-b8f4-b8f23ac2d761"
      },
      "source": [
        "best_model_svm.best_params_"
      ],
      "execution_count": null,
      "outputs": [
        {
          "output_type": "execute_result",
          "data": {
            "text/plain": [
              "{'C': 15, 'gamma': 0.01, 'kernel': 'rbf'}"
            ]
          },
          "metadata": {
            "tags": []
          },
          "execution_count": 95
        }
      ]
    },
    {
      "cell_type": "code",
      "metadata": {
        "id": "57RdWvCTkdwU"
      },
      "source": [],
      "execution_count": null,
      "outputs": []
    }
  ]
}