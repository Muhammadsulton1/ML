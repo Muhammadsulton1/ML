{
  "nbformat": 4,
  "nbformat_minor": 0,
  "metadata": {
    "colab": {
      "provenance": [],
      "collapsed_sections": [],
      "authorship_tag": "ABX9TyN1NuDbQxXzm5yMkhRdwGAD",
      "include_colab_link": true
    },
    "kernelspec": {
      "name": "python3",
      "display_name": "Python 3"
    },
    "language_info": {
      "name": "python"
    }
  },
  "cells": [
    {
      "cell_type": "markdown",
      "metadata": {
        "id": "view-in-github",
        "colab_type": "text"
      },
      "source": [
        "<a href=\"https://colab.research.google.com/github/Muhammadsulton1/ML/blob/main/ML_gens.ipynb\" target=\"_parent\"><img src=\"https://colab.research.google.com/assets/colab-badge.svg\" alt=\"Open In Colab\"/></a>"
      ]
    },
    {
      "cell_type": "code",
      "metadata": {
        "id": "0nRJR-BXlltB"
      },
      "source": [
        "import pandas as pd\n",
        "import numpy as np\n",
        "import scipy.io\n",
        "import matplotlib.pyplot as plt\n",
        "%matplotlib inline \n",
        "\n",
        "from sklearn.model_selection import train_test_split\n",
        "from sklearn.preprocessing import MinMaxScaler\n",
        "from sklearn.linear_model import LinearRegression,Ridge,Lasso,LassoCV,RidgeCV\n",
        "from sklearn.metrics import mean_squared_error,r2_score, classification_report"
      ],
      "execution_count": null,
      "outputs": []
    },
    {
      "cell_type": "code",
      "metadata": {
        "colab": {
          "base_uri": "https://localhost:8080/",
          "height": 206
        },
        "id": "XV8Ld-vOoQrw",
        "outputId": "fc9619d3-7c91-4917-edc9-1e5b25dc511c"
      },
      "source": [
        "genes = pd.read_table(\"/content/selected-genes-meta.tsv\")\n",
        "genes.head()"
      ],
      "execution_count": null,
      "outputs": [
        {
          "output_type": "execute_result",
          "data": {
            "text/html": [
              "<div>\n",
              "<style scoped>\n",
              "    .dataframe tbody tr th:only-of-type {\n",
              "        vertical-align: middle;\n",
              "    }\n",
              "\n",
              "    .dataframe tbody tr th {\n",
              "        vertical-align: top;\n",
              "    }\n",
              "\n",
              "    .dataframe thead th {\n",
              "        text-align: right;\n",
              "    }\n",
              "</style>\n",
              "<table border=\"1\" class=\"dataframe\">\n",
              "  <thead>\n",
              "    <tr style=\"text-align: right;\">\n",
              "      <th></th>\n",
              "      <th>Unnamed: 0</th>\n",
              "      <th>gene_id</th>\n",
              "      <th>gene_name</th>\n",
              "    </tr>\n",
              "  </thead>\n",
              "  <tbody>\n",
              "    <tr>\n",
              "      <th>0</th>\n",
              "      <td>0</td>\n",
              "      <td>SLC18A1</td>\n",
              "      <td>vMAT1</td>\n",
              "    </tr>\n",
              "    <tr>\n",
              "      <th>1</th>\n",
              "      <td>1</td>\n",
              "      <td>SLC18A2</td>\n",
              "      <td>vMAT2</td>\n",
              "    </tr>\n",
              "    <tr>\n",
              "      <th>2</th>\n",
              "      <td>2</td>\n",
              "      <td>SLC17A9</td>\n",
              "      <td>vNuT</td>\n",
              "    </tr>\n",
              "    <tr>\n",
              "      <th>3</th>\n",
              "      <td>3</td>\n",
              "      <td>SLC17A7</td>\n",
              "      <td>vGlut1</td>\n",
              "    </tr>\n",
              "    <tr>\n",
              "      <th>4</th>\n",
              "      <td>4</td>\n",
              "      <td>SLC17A6</td>\n",
              "      <td>vGlut2</td>\n",
              "    </tr>\n",
              "  </tbody>\n",
              "</table>\n",
              "</div>"
            ],
            "text/plain": [
              "   Unnamed: 0  gene_id gene_name\n",
              "0           0  SLC18A1     vMAT1\n",
              "1           1  SLC18A2     vMAT2\n",
              "2           2  SLC17A9      vNuT\n",
              "3           3  SLC17A7    vGlut1\n",
              "4           4  SLC17A6    vGlut2"
            ]
          },
          "metadata": {},
          "execution_count": 3
        }
      ]
    },
    {
      "cell_type": "code",
      "metadata": {
        "id": "bD5qK3V-wps9"
      },
      "source": [
        "expression = scipy.io.mmread('/content/selected-genes.mtx')\n",
        "expression = expression.todense()"
      ],
      "execution_count": null,
      "outputs": []
    },
    {
      "cell_type": "code",
      "metadata": {
        "id": "-rKchT5XxAaA"
      },
      "source": [
        "meta = pd.read_table(\"/content/metadata_human_cells.tsv\")\n",
        "meta = meta.reset_index()"
      ],
      "execution_count": null,
      "outputs": []
    },
    {
      "cell_type": "code",
      "metadata": {
        "id": "BZu69QFmyGee"
      },
      "source": [
        "all_neuronal_lineages = ['neuroepithelial-like cells',\n",
        "                         'ectodermal/neuroectodermal-like cells',\n",
        "                         'midbrain/hindbrain cells',\n",
        "                         'ventral progenitors and neurons 3',\n",
        "                         'cortical neurons 1',\n",
        "                         'cycling dorsal progenitors',\n",
        "                         'ventral progenitors and neurons 2',\n",
        "                         'IPs and early cortical neurons',\n",
        "                         'cycling ventral progenitors',\n",
        "                         'cortical neurons 2',\n",
        "                         'ventral progenitors and neurons 1',\n",
        "                         'stem cells 2',\n",
        "                         'stem cells 1',\n",
        "                         'stem cells 3'                         \n",
        "                         ]"
      ],
      "execution_count": null,
      "outputs": []
    },
    {
      "cell_type": "code",
      "metadata": {
        "id": "5N3o8KVeyOyf"
      },
      "source": [
        "all_neuronal_indexes = meta.index[meta['cl_FullLineage'].isin(all_neuronal_lineages)]"
      ],
      "execution_count": null,
      "outputs": []
    },
    {
      "cell_type": "code",
      "metadata": {
        "id": "n9sn-NlHyQXS"
      },
      "source": [
        "my_lines = ['409b2']\n",
        "my_genes = ['Synapsin1']"
      ],
      "execution_count": null,
      "outputs": []
    },
    {
      "cell_type": "code",
      "metadata": {
        "id": "2ngiIk-jzESk"
      },
      "source": [
        "stages_cells = []\n",
        "for s in ['Organoid-4M']:\n",
        "    i = meta.index[meta['Stage'] == s]\n",
        "    stages_cells.append(i)"
      ],
      "execution_count": null,
      "outputs": []
    },
    {
      "cell_type": "code",
      "metadata": {
        "id": "LMzdchS0zHwz"
      },
      "source": [
        "# Индекс целевого гена:\n",
        "target_gene_index = genes[genes['gene_name'].isin(my_genes)].index"
      ],
      "execution_count": null,
      "outputs": []
    },
    {
      "cell_type": "code",
      "metadata": {
        "id": "HHywnbLPzLAn"
      },
      "source": [
        "# Индексы нужной линии и нужной стадии:\n",
        "lines_indexes = meta.index[meta['Line'].isin(my_lines)]\n",
        "stages_indexes = meta.index[meta['Stage'].isin(['Organoid-4M'])]"
      ],
      "execution_count": null,
      "outputs": []
    },
    {
      "cell_type": "code",
      "metadata": {
        "id": "PQLNyJh8zs37"
      },
      "source": [
        "#Индексы клеток нейронов:\n",
        "neuronal_indexes = meta.index[meta['cl_FullLineage'].isin(all_neuronal_lineages)]"
      ],
      "execution_count": null,
      "outputs": []
    },
    {
      "cell_type": "code",
      "metadata": {
        "id": "nPvYNXE7zs61"
      },
      "source": [
        "# Полная матрица экспрессий, удовлетворяющая условиям задачи (75 генов):\n",
        "matrix = expression[0:expression.shape[0], stages_indexes.intersection(neuronal_indexes).intersection(lines_indexes)]"
      ],
      "execution_count": null,
      "outputs": []
    },
    {
      "cell_type": "code",
      "metadata": {
        "colab": {
          "base_uri": "https://localhost:8080/"
        },
        "id": "8GkttuWkBCSY",
        "outputId": "ddf3249a-e953-416e-cfc9-40461c4cf81a"
      },
      "source": [
        "matrix"
      ],
      "execution_count": null,
      "outputs": [
        {
          "output_type": "execute_result",
          "data": {
            "text/plain": [
              "matrix([[0, 0, 0, ..., 0, 0, 0],\n",
              "        [0, 0, 0, ..., 0, 0, 0],\n",
              "        [0, 0, 0, ..., 0, 0, 0],\n",
              "        ...,\n",
              "        [0, 0, 0, ..., 0, 0, 0],\n",
              "        [0, 0, 0, ..., 0, 0, 0],\n",
              "        [0, 0, 0, ..., 1, 0, 0]])"
            ]
          },
          "metadata": {},
          "execution_count": 14
        }
      ]
    },
    {
      "cell_type": "code",
      "metadata": {
        "id": "ArbOmC4x0Prj"
      },
      "source": [
        "# Целевые значения (целевой ген):\n",
        "target = matrix[target_gene_index, ]"
      ],
      "execution_count": null,
      "outputs": []
    },
    {
      "cell_type": "code",
      "metadata": {
        "colab": {
          "base_uri": "https://localhost:8080/"
        },
        "id": "fdOMqzKUBMbT",
        "outputId": "c67c617c-d581-45df-80d1-018b0d2122a0"
      },
      "source": [
        "target"
      ],
      "execution_count": null,
      "outputs": [
        {
          "output_type": "execute_result",
          "data": {
            "text/plain": [
              "matrix([[0, 0, 1, ..., 0, 1, 0]])"
            ]
          },
          "metadata": {},
          "execution_count": 16
        }
      ]
    },
    {
      "cell_type": "code",
      "metadata": {
        "id": "TqeY6Gxw0PuC"
      },
      "source": [
        "# Признаковые значения (остальные гены):\n",
        "features = np.delete(matrix, target_gene_index, axis=0)"
      ],
      "execution_count": null,
      "outputs": []
    },
    {
      "cell_type": "code",
      "metadata": {
        "id": "JjUQJdxK0Py1"
      },
      "source": [
        "X = features.T\n",
        "y = target.T"
      ],
      "execution_count": null,
      "outputs": []
    },
    {
      "cell_type": "code",
      "metadata": {
        "id": "wJsvb0oX0QoI"
      },
      "source": [
        "X_train, X_test, y_train, y_test = train_test_split(X, y, test_size=0.2, random_state=42)"
      ],
      "execution_count": null,
      "outputs": []
    },
    {
      "cell_type": "code",
      "metadata": {
        "id": "Sb3qLZvD0Qqm",
        "colab": {
          "base_uri": "https://localhost:8080/"
        },
        "outputId": "10ad811c-280a-42f2-d74c-8184e0cdd460"
      },
      "source": [
        "scaler = MinMaxScaler()\n",
        "X_train = scaler.fit_transform(X_train)\n",
        "X_test = scaler.transform(X_test)"
      ],
      "execution_count": null,
      "outputs": [
        {
          "output_type": "stream",
          "name": "stderr",
          "text": [
            "/usr/local/lib/python3.7/dist-packages/sklearn/utils/validation.py:590: FutureWarning: np.matrix usage is deprecated in 1.0 and will raise a TypeError in 1.2. Please convert to a numpy array with np.asarray. For more information see: https://numpy.org/doc/stable/reference/generated/numpy.matrix.html\n",
            "  FutureWarning,\n",
            "/usr/local/lib/python3.7/dist-packages/sklearn/utils/validation.py:590: FutureWarning: np.matrix usage is deprecated in 1.0 and will raise a TypeError in 1.2. Please convert to a numpy array with np.asarray. For more information see: https://numpy.org/doc/stable/reference/generated/numpy.matrix.html\n",
            "  FutureWarning,\n",
            "/usr/local/lib/python3.7/dist-packages/sklearn/utils/validation.py:590: FutureWarning: np.matrix usage is deprecated in 1.0 and will raise a TypeError in 1.2. Please convert to a numpy array with np.asarray. For more information see: https://numpy.org/doc/stable/reference/generated/numpy.matrix.html\n",
            "  FutureWarning,\n"
          ]
        }
      ]
    },
    {
      "cell_type": "markdown",
      "metadata": {
        "id": "gdUITqxjSK-l"
      },
      "source": [
        "#Lasso regression"
      ]
    },
    {
      "cell_type": "code",
      "metadata": {
        "colab": {
          "base_uri": "https://localhost:8080/"
        },
        "id": "4aVIwdKqGq0D",
        "outputId": "684f3456-a16b-403e-be28-81160e8e1564"
      },
      "source": [
        "lasso = LassoCV(random_state=17)\n",
        "model_lasso = lasso.fit(X_train,y_train)\n",
        "pred_lasso = model_lasso.predict(X_test)\n",
        "print(\"rmse:{}\".format(np.sqrt(mean_squared_error(y_test,pred_lasso))))\n",
        "print(\"r2_score:{}\".format(r2_score(y_test,pred_lasso)))"
      ],
      "execution_count": null,
      "outputs": [
        {
          "output_type": "stream",
          "name": "stderr",
          "text": [
            "/usr/local/lib/python3.7/dist-packages/sklearn/utils/validation.py:590: FutureWarning: np.matrix usage is deprecated in 1.0 and will raise a TypeError in 1.2. Please convert to a numpy array with np.asarray. For more information see: https://numpy.org/doc/stable/reference/generated/numpy.matrix.html\n",
            "  FutureWarning,\n",
            "/usr/local/lib/python3.7/dist-packages/sklearn/linear_model/_coordinate_descent.py:1572: DataConversionWarning: A column-vector y was passed when a 1d array was expected. Please change the shape of y to (n_samples, ), for example using ravel().\n",
            "  y = column_or_1d(y, warn=True)\n"
          ]
        },
        {
          "output_type": "stream",
          "name": "stdout",
          "text": [
            "rmse:0.5627632051631107\n",
            "r2_score:0.20342498094308703\n"
          ]
        },
        {
          "output_type": "stream",
          "name": "stderr",
          "text": [
            "/usr/local/lib/python3.7/dist-packages/sklearn/utils/validation.py:590: FutureWarning: np.matrix usage is deprecated in 1.0 and will raise a TypeError in 1.2. Please convert to a numpy array with np.asarray. For more information see: https://numpy.org/doc/stable/reference/generated/numpy.matrix.html\n",
            "  FutureWarning,\n",
            "/usr/local/lib/python3.7/dist-packages/sklearn/utils/validation.py:590: FutureWarning: np.matrix usage is deprecated in 1.0 and will raise a TypeError in 1.2. Please convert to a numpy array with np.asarray. For more information see: https://numpy.org/doc/stable/reference/generated/numpy.matrix.html\n",
            "  FutureWarning,\n"
          ]
        }
      ]
    },
    {
      "cell_type": "markdown",
      "metadata": {
        "id": "3TEoBfOoSOa7"
      },
      "source": [
        "#Ridge regression"
      ]
    },
    {
      "cell_type": "code",
      "metadata": {
        "colab": {
          "base_uri": "https://localhost:8080/"
        },
        "id": "0ZZZDK_OGq2j",
        "outputId": "0b9811fa-75eb-467b-c132-92e745e3240c"
      },
      "source": [
        "ridge = Ridge(alpha=0.1)\n",
        "model_ridge = lasso.fit(X_train,y_train)\n",
        "pred_ridge = model_ridge.predict(X_test)\n",
        "print(\"rmse:{}\".format(np.sqrt(mean_squared_error(y_test,pred_ridge))))\n",
        "print(\"r2_score:{}\".format(r2_score(y_test,pred_ridge)))"
      ],
      "execution_count": null,
      "outputs": [
        {
          "output_type": "stream",
          "name": "stderr",
          "text": [
            "/usr/local/lib/python3.7/dist-packages/sklearn/utils/validation.py:590: FutureWarning: np.matrix usage is deprecated in 1.0 and will raise a TypeError in 1.2. Please convert to a numpy array with np.asarray. For more information see: https://numpy.org/doc/stable/reference/generated/numpy.matrix.html\n",
            "  FutureWarning,\n",
            "/usr/local/lib/python3.7/dist-packages/sklearn/linear_model/_coordinate_descent.py:1572: DataConversionWarning: A column-vector y was passed when a 1d array was expected. Please change the shape of y to (n_samples, ), for example using ravel().\n",
            "  y = column_or_1d(y, warn=True)\n"
          ]
        },
        {
          "output_type": "stream",
          "name": "stdout",
          "text": [
            "rmse:0.5627632051631107\n",
            "r2_score:0.20342498094308703\n"
          ]
        },
        {
          "output_type": "stream",
          "name": "stderr",
          "text": [
            "/usr/local/lib/python3.7/dist-packages/sklearn/utils/validation.py:590: FutureWarning: np.matrix usage is deprecated in 1.0 and will raise a TypeError in 1.2. Please convert to a numpy array with np.asarray. For more information see: https://numpy.org/doc/stable/reference/generated/numpy.matrix.html\n",
            "  FutureWarning,\n",
            "/usr/local/lib/python3.7/dist-packages/sklearn/utils/validation.py:590: FutureWarning: np.matrix usage is deprecated in 1.0 and will raise a TypeError in 1.2. Please convert to a numpy array with np.asarray. For more information see: https://numpy.org/doc/stable/reference/generated/numpy.matrix.html\n",
            "  FutureWarning,\n"
          ]
        }
      ]
    },
    {
      "cell_type": "markdown",
      "metadata": {
        "id": "vm3bid1wSQ1X"
      },
      "source": [
        "#linear regression"
      ]
    },
    {
      "cell_type": "code",
      "metadata": {
        "colab": {
          "base_uri": "https://localhost:8080/"
        },
        "id": "LwBE6id-Gq5T",
        "outputId": "f44088ea-2448-4a83-f160-9cd69771d8c1"
      },
      "source": [
        "lin = LinearRegression()\n",
        "model_lin = lin.fit(X_train,y_train)\n",
        "pred_lin = model_lin.predict(X_test)\n",
        "print(\"rmse:{}\".format(np.sqrt(mean_squared_error(y_test,pred_lin))))\n",
        "print(\"r2_score:{}\".format(r2_score(y_test,pred_lin)))"
      ],
      "execution_count": null,
      "outputs": [
        {
          "output_type": "stream",
          "name": "stdout",
          "text": [
            "rmse:0.5889972219949429\n",
            "r2_score:0.12742696765244932\n"
          ]
        },
        {
          "output_type": "stream",
          "name": "stderr",
          "text": [
            "/usr/local/lib/python3.7/dist-packages/sklearn/utils/validation.py:590: FutureWarning: np.matrix usage is deprecated in 1.0 and will raise a TypeError in 1.2. Please convert to a numpy array with np.asarray. For more information see: https://numpy.org/doc/stable/reference/generated/numpy.matrix.html\n",
            "  FutureWarning,\n",
            "/usr/local/lib/python3.7/dist-packages/sklearn/utils/validation.py:590: FutureWarning: np.matrix usage is deprecated in 1.0 and will raise a TypeError in 1.2. Please convert to a numpy array with np.asarray. For more information see: https://numpy.org/doc/stable/reference/generated/numpy.matrix.html\n",
            "  FutureWarning,\n",
            "/usr/local/lib/python3.7/dist-packages/sklearn/utils/validation.py:590: FutureWarning: np.matrix usage is deprecated in 1.0 and will raise a TypeError in 1.2. Please convert to a numpy array with np.asarray. For more information see: https://numpy.org/doc/stable/reference/generated/numpy.matrix.html\n",
            "  FutureWarning,\n"
          ]
        }
      ]
    },
    {
      "cell_type": "markdown",
      "metadata": {
        "id": "6Q3UpAAyRep5"
      },
      "source": [
        "#коэффициенты модели"
      ]
    },
    {
      "cell_type": "code",
      "metadata": {
        "colab": {
          "base_uri": "https://localhost:8080/"
        },
        "id": "xzU234vxRdA3",
        "outputId": "176761fc-f120-4499-ea30-e0f124fa350e"
      },
      "source": [
        "lin.coef_"
      ],
      "execution_count": null,
      "outputs": [
        {
          "output_type": "execute_result",
          "data": {
            "text/plain": [
              "array([[ 6.45158336e-02,  5.25813158e-01, -1.05857411e+12,\n",
              "         1.62737253e-01,  2.26631467e-01, -5.01010280e-01,\n",
              "         1.01926715e-01,  3.33354782e-03,  7.86381646e-02,\n",
              "         1.50286894e-02, -1.32743065e-01, -2.11942573e-02,\n",
              "        -1.38781224e-01,  4.83415223e-01, -9.05726199e+09,\n",
              "        -9.55788094e+09,  2.55783165e-03,  2.54281626e-01,\n",
              "        -2.04867025e-01, -2.49020927e-02, -8.81491358e-02,\n",
              "        -3.09083635e-02,  7.87117271e-02,  1.21063172e+00,\n",
              "        -5.40901578e-01, -1.05714238e-01, -5.39059650e-02,\n",
              "         3.70590283e-01,  9.38817294e-02, -1.87770646e-02,\n",
              "         5.72246050e-02,  7.23397910e-01, -2.38869711e-02,\n",
              "         1.87915802e-01,  2.09550858e-01,  2.56530762e-01,\n",
              "         1.91452026e-01, -3.47076416e-01,  2.05444336e-01,\n",
              "         1.65710449e-02,  4.40856934e-01, -1.60522461e-02,\n",
              "         1.45324707e-01,  3.71818542e-01,  3.80790710e-01,\n",
              "         3.60809326e-01,  4.71757173e+03,  1.20452881e-01,\n",
              "         5.76014572e+03,  2.09735107e+00, -4.60571803e+02,\n",
              "         2.37121582e-01, -3.79043579e-01, -8.52584839e-02,\n",
              "         1.72363281e-01,  5.39353371e-01,  1.76696777e-01,\n",
              "         3.63696240e+00, -1.94625854e-02,  4.61914062e-01,\n",
              "        -1.44924164e-01, -6.41448975e-01, -1.41011953e-01,\n",
              "         4.08172607e-02, -1.50451660e-01,  2.74047852e-02,\n",
              "         5.24871826e-01,  2.47863770e-01,  2.30712891e-02,\n",
              "        -8.30993652e-02, -2.42309570e-02, -1.12960815e-01,\n",
              "         8.70239258e-01, -2.22473145e-01]])"
            ]
          },
          "metadata": {},
          "execution_count": 24
        }
      ]
    },
    {
      "cell_type": "markdown",
      "metadata": {
        "id": "2Q7Fw7T3Rjje"
      },
      "source": [
        "#Регрессия на pytorch"
      ]
    },
    {
      "cell_type": "code",
      "metadata": {
        "id": "FEPqiBgGJNsG"
      },
      "source": [
        "import torch\n",
        "from torch.autograd import Variable"
      ],
      "execution_count": null,
      "outputs": []
    },
    {
      "cell_type": "code",
      "metadata": {
        "id": "JhdR40SJKKW1"
      },
      "source": [
        "X_train = torch.from_numpy(X_train)\n",
        "X_test = torch.from_numpy(X_test)\n",
        "y_train = torch.from_numpy(y_train)\n",
        "y_test = torch.from_numpy(y_test)"
      ],
      "execution_count": null,
      "outputs": []
    },
    {
      "cell_type": "code",
      "metadata": {
        "id": "LCFOn1JkJXda"
      },
      "source": [
        "class RegressionNet(torch.nn.Module):\n",
        "    def __init__(self, input, output):\n",
        "        super(RegressionNet, self).__init__()\n",
        "        self.fc1 = torch.nn.Linear(input, 74)\n",
        "        self.act = torch.nn.Sigmoid()\n",
        "        self.fc2 = torch.nn.Linear(74,output)\n",
        "\n",
        "    def forward(self, x):\n",
        "        x = self.fc1(x)\n",
        "        x = self.act(x)\n",
        "        x = self.fc2(x)\n",
        "        return x"
      ],
      "execution_count": null,
      "outputs": []
    },
    {
      "cell_type": "code",
      "metadata": {
        "id": "i13BMk3lJ5ZQ"
      },
      "source": [
        "epochs = 100\n",
        "\n",
        "model = RegressionNet(74, 1)"
      ],
      "execution_count": null,
      "outputs": []
    },
    {
      "cell_type": "code",
      "metadata": {
        "id": "CwAuQaJTLfPN"
      },
      "source": [
        "criterion = torch.nn.MSELoss() \n",
        "optimizer = torch.optim.Adam(model.parameters(), lr=1e-4)"
      ],
      "execution_count": null,
      "outputs": []
    },
    {
      "cell_type": "code",
      "metadata": {
        "colab": {
          "base_uri": "https://localhost:8080/"
        },
        "id": "4-CsLBWkKbxs",
        "outputId": "0a59fcac-6289-434a-98c2-3c28de5f1229"
      },
      "source": [
        "for epoch in range(epochs):\n",
        "    inputs = X_train.float()\n",
        "    labels = y_train.float()\n",
        "\n",
        "    # Clear gradient buffers because we don't want any gradient from previous epoch to carry forward, dont want to cummulate gradients\n",
        "    optimizer.zero_grad()\n",
        "\n",
        "    # get output from the model, given the inputs\n",
        "    outputs = model(inputs)\n",
        "\n",
        "    # get loss for the predicted output\n",
        "    loss = criterion(outputs, labels)\n",
        "    print(loss)\n",
        "    # get gradients w.r.t to parameters\n",
        "    loss.backward()\n",
        "\n",
        "    # update parameters\n",
        "    optimizer.step()\n",
        "\n",
        "    print('epoch {}, loss {}'.format(epoch, loss.item()))"
      ],
      "execution_count": null,
      "outputs": [
        {
          "output_type": "stream",
          "name": "stdout",
          "text": [
            "tensor(0.5022, grad_fn=<MseLossBackward0>)\n",
            "epoch 0, loss 0.5021981000900269\n",
            "tensor(0.5001, grad_fn=<MseLossBackward0>)\n",
            "epoch 1, loss 0.5001422166824341\n",
            "tensor(0.4981, grad_fn=<MseLossBackward0>)\n",
            "epoch 2, loss 0.4981229603290558\n",
            "tensor(0.4961, grad_fn=<MseLossBackward0>)\n",
            "epoch 3, loss 0.49614083766937256\n",
            "tensor(0.4942, grad_fn=<MseLossBackward0>)\n",
            "epoch 4, loss 0.49419647455215454\n",
            "tensor(0.4923, grad_fn=<MseLossBackward0>)\n",
            "epoch 5, loss 0.4922904372215271\n",
            "tensor(0.4904, grad_fn=<MseLossBackward0>)\n",
            "epoch 6, loss 0.49042314291000366\n",
            "tensor(0.4886, grad_fn=<MseLossBackward0>)\n",
            "epoch 7, loss 0.48859506845474243\n",
            "tensor(0.4868, grad_fn=<MseLossBackward0>)\n",
            "epoch 8, loss 0.4868066608905792\n",
            "tensor(0.4851, grad_fn=<MseLossBackward0>)\n",
            "epoch 9, loss 0.4850582778453827\n",
            "tensor(0.4834, grad_fn=<MseLossBackward0>)\n",
            "epoch 10, loss 0.48335012793540955\n",
            "tensor(0.4817, grad_fn=<MseLossBackward0>)\n",
            "epoch 11, loss 0.4816826283931732\n",
            "tensor(0.4801, grad_fn=<MseLossBackward0>)\n",
            "epoch 12, loss 0.48005589842796326\n",
            "tensor(0.4785, grad_fn=<MseLossBackward0>)\n",
            "epoch 13, loss 0.4784701466560364\n",
            "tensor(0.4769, grad_fn=<MseLossBackward0>)\n",
            "epoch 14, loss 0.4769253730773926\n",
            "tensor(0.4754, grad_fn=<MseLossBackward0>)\n",
            "epoch 15, loss 0.4754217565059662\n",
            "tensor(0.4740, grad_fn=<MseLossBackward0>)\n",
            "epoch 16, loss 0.4739592671394348\n",
            "tensor(0.4725, grad_fn=<MseLossBackward0>)\n",
            "epoch 17, loss 0.4725378453731537\n",
            "tensor(0.4712, grad_fn=<MseLossBackward0>)\n",
            "epoch 18, loss 0.47115734219551086\n",
            "tensor(0.4698, grad_fn=<MseLossBackward0>)\n",
            "epoch 19, loss 0.4698176681995392\n",
            "tensor(0.4685, grad_fn=<MseLossBackward0>)\n",
            "epoch 20, loss 0.46851858496665955\n",
            "tensor(0.4673, grad_fn=<MseLossBackward0>)\n",
            "epoch 21, loss 0.4672597646713257\n",
            "tensor(0.4660, grad_fn=<MseLossBackward0>)\n",
            "epoch 22, loss 0.4660409986972809\n",
            "tensor(0.4649, grad_fn=<MseLossBackward0>)\n",
            "epoch 23, loss 0.4648618996143341\n",
            "tensor(0.4637, grad_fn=<MseLossBackward0>)\n",
            "epoch 24, loss 0.46372196078300476\n",
            "tensor(0.4626, grad_fn=<MseLossBackward0>)\n",
            "epoch 25, loss 0.4626208543777466\n",
            "tensor(0.4616, grad_fn=<MseLossBackward0>)\n",
            "epoch 26, loss 0.4615579843521118\n",
            "tensor(0.4605, grad_fn=<MseLossBackward0>)\n",
            "epoch 27, loss 0.4605328142642975\n",
            "tensor(0.4595, grad_fn=<MseLossBackward0>)\n",
            "epoch 28, loss 0.4595448672771454\n",
            "tensor(0.4586, grad_fn=<MseLossBackward0>)\n",
            "epoch 29, loss 0.4585934579372406\n",
            "tensor(0.4577, grad_fn=<MseLossBackward0>)\n",
            "epoch 30, loss 0.4576779007911682\n",
            "tensor(0.4568, grad_fn=<MseLossBackward0>)\n",
            "epoch 31, loss 0.4567974805831909\n",
            "tensor(0.4560, grad_fn=<MseLossBackward0>)\n",
            "epoch 32, loss 0.4559515118598938\n",
            "tensor(0.4551, grad_fn=<MseLossBackward0>)\n",
            "epoch 33, loss 0.45513924956321716\n",
            "tensor(0.4544, grad_fn=<MseLossBackward0>)\n",
            "epoch 34, loss 0.45435991883277893\n",
            "tensor(0.4536, grad_fn=<MseLossBackward0>)\n",
            "epoch 35, loss 0.45361262559890747\n",
            "tensor(0.4529, grad_fn=<MseLossBackward0>)\n",
            "epoch 36, loss 0.45289668440818787\n",
            "tensor(0.4522, grad_fn=<MseLossBackward0>)\n",
            "epoch 37, loss 0.4522112011909485\n",
            "tensor(0.4516, grad_fn=<MseLossBackward0>)\n",
            "epoch 38, loss 0.4515552222728729\n",
            "tensor(0.4509, grad_fn=<MseLossBackward0>)\n",
            "epoch 39, loss 0.4509279727935791\n",
            "tensor(0.4503, grad_fn=<MseLossBackward0>)\n",
            "epoch 40, loss 0.4503285586833954\n",
            "tensor(0.4498, grad_fn=<MseLossBackward0>)\n",
            "epoch 41, loss 0.44975602626800537\n",
            "tensor(0.4492, grad_fn=<MseLossBackward0>)\n",
            "epoch 42, loss 0.4492095410823822\n",
            "tensor(0.4487, grad_fn=<MseLossBackward0>)\n",
            "epoch 43, loss 0.44868817925453186\n",
            "tensor(0.4482, grad_fn=<MseLossBackward0>)\n",
            "epoch 44, loss 0.4481910169124603\n",
            "tensor(0.4477, grad_fn=<MseLossBackward0>)\n",
            "epoch 45, loss 0.44771718978881836\n",
            "tensor(0.4473, grad_fn=<MseLossBackward0>)\n",
            "epoch 46, loss 0.44726571440696716\n",
            "tensor(0.4468, grad_fn=<MseLossBackward0>)\n",
            "epoch 47, loss 0.4468357563018799\n",
            "tensor(0.4464, grad_fn=<MseLossBackward0>)\n",
            "epoch 48, loss 0.4464264512062073\n",
            "tensor(0.4460, grad_fn=<MseLossBackward0>)\n",
            "epoch 49, loss 0.44603684544563293\n",
            "tensor(0.4457, grad_fn=<MseLossBackward0>)\n",
            "epoch 50, loss 0.4456661343574524\n",
            "tensor(0.4453, grad_fn=<MseLossBackward0>)\n",
            "epoch 51, loss 0.445313423871994\n",
            "tensor(0.4450, grad_fn=<MseLossBackward0>)\n",
            "epoch 52, loss 0.44497787952423096\n",
            "tensor(0.4447, grad_fn=<MseLossBackward0>)\n",
            "epoch 53, loss 0.4446587562561035\n",
            "tensor(0.4444, grad_fn=<MseLossBackward0>)\n",
            "epoch 54, loss 0.4443551301956177\n",
            "tensor(0.4441, grad_fn=<MseLossBackward0>)\n",
            "epoch 55, loss 0.44406622648239136\n",
            "tensor(0.4438, grad_fn=<MseLossBackward0>)\n",
            "epoch 56, loss 0.44379130005836487\n",
            "tensor(0.4435, grad_fn=<MseLossBackward0>)\n",
            "epoch 57, loss 0.4435296058654785\n",
            "tensor(0.4433, grad_fn=<MseLossBackward0>)\n",
            "epoch 58, loss 0.443280428647995\n",
            "tensor(0.4430, grad_fn=<MseLossBackward0>)\n",
            "epoch 59, loss 0.4430430233478546\n",
            "tensor(0.4428, grad_fn=<MseLossBackward0>)\n",
            "epoch 60, loss 0.44281667470932007\n",
            "tensor(0.4426, grad_fn=<MseLossBackward0>)\n",
            "epoch 61, loss 0.442600816488266\n",
            "tensor(0.4424, grad_fn=<MseLossBackward0>)\n",
            "epoch 62, loss 0.44239476323127747\n",
            "tensor(0.4422, grad_fn=<MseLossBackward0>)\n",
            "epoch 63, loss 0.44219785928726196\n",
            "tensor(0.4420, grad_fn=<MseLossBackward0>)\n",
            "epoch 64, loss 0.4420095682144165\n",
            "tensor(0.4418, grad_fn=<MseLossBackward0>)\n",
            "epoch 65, loss 0.44182926416397095\n",
            "tensor(0.4417, grad_fn=<MseLossBackward0>)\n",
            "epoch 66, loss 0.4416565001010895\n",
            "tensor(0.4415, grad_fn=<MseLossBackward0>)\n",
            "epoch 67, loss 0.44149062037467957\n",
            "tensor(0.4413, grad_fn=<MseLossBackward0>)\n",
            "epoch 68, loss 0.44133126735687256\n",
            "tensor(0.4412, grad_fn=<MseLossBackward0>)\n",
            "epoch 69, loss 0.4411778151988983\n",
            "tensor(0.4410, grad_fn=<MseLossBackward0>)\n",
            "epoch 70, loss 0.4410300552845001\n",
            "tensor(0.4409, grad_fn=<MseLossBackward0>)\n",
            "epoch 71, loss 0.44088730216026306\n",
            "tensor(0.4407, grad_fn=<MseLossBackward0>)\n",
            "epoch 72, loss 0.4407493472099304\n",
            "tensor(0.4406, grad_fn=<MseLossBackward0>)\n",
            "epoch 73, loss 0.4406156837940216\n",
            "tensor(0.4405, grad_fn=<MseLossBackward0>)\n",
            "epoch 74, loss 0.44048601388931274\n",
            "tensor(0.4404, grad_fn=<MseLossBackward0>)\n",
            "epoch 75, loss 0.4403599798679352\n",
            "tensor(0.4402, grad_fn=<MseLossBackward0>)\n",
            "epoch 76, loss 0.44023728370666504\n",
            "tensor(0.4401, grad_fn=<MseLossBackward0>)\n",
            "epoch 77, loss 0.44011765718460083\n",
            "tensor(0.4400, grad_fn=<MseLossBackward0>)\n",
            "epoch 78, loss 0.4400008022785187\n",
            "tensor(0.4399, grad_fn=<MseLossBackward0>)\n",
            "epoch 79, loss 0.4398864209651947\n",
            "tensor(0.4398, grad_fn=<MseLossBackward0>)\n",
            "epoch 80, loss 0.4397742748260498\n",
            "tensor(0.4397, grad_fn=<MseLossBackward0>)\n",
            "epoch 81, loss 0.43966421484947205\n",
            "tensor(0.4396, grad_fn=<MseLossBackward0>)\n",
            "epoch 82, loss 0.43955591320991516\n",
            "tensor(0.4394, grad_fn=<MseLossBackward0>)\n",
            "epoch 83, loss 0.43944934010505676\n",
            "tensor(0.4393, grad_fn=<MseLossBackward0>)\n",
            "epoch 84, loss 0.4393441677093506\n",
            "tensor(0.4392, grad_fn=<MseLossBackward0>)\n",
            "epoch 85, loss 0.4392402470111847\n",
            "tensor(0.4391, grad_fn=<MseLossBackward0>)\n",
            "epoch 86, loss 0.4391375780105591\n",
            "tensor(0.4390, grad_fn=<MseLossBackward0>)\n",
            "epoch 87, loss 0.4390358626842499\n",
            "tensor(0.4389, grad_fn=<MseLossBackward0>)\n",
            "epoch 88, loss 0.43893513083457947\n",
            "tensor(0.4388, grad_fn=<MseLossBackward0>)\n",
            "epoch 89, loss 0.4388350248336792\n",
            "tensor(0.4387, grad_fn=<MseLossBackward0>)\n",
            "epoch 90, loss 0.438735693693161\n",
            "tensor(0.4386, grad_fn=<MseLossBackward0>)\n",
            "epoch 91, loss 0.4386368989944458\n",
            "tensor(0.4385, grad_fn=<MseLossBackward0>)\n",
            "epoch 92, loss 0.4385386109352112\n",
            "tensor(0.4384, grad_fn=<MseLossBackward0>)\n",
            "epoch 93, loss 0.4384407103061676\n",
            "tensor(0.4383, grad_fn=<MseLossBackward0>)\n",
            "epoch 94, loss 0.4383431375026703\n",
            "tensor(0.4382, grad_fn=<MseLossBackward0>)\n",
            "epoch 95, loss 0.4382459223270416\n",
            "tensor(0.4381, grad_fn=<MseLossBackward0>)\n",
            "epoch 96, loss 0.43814894556999207\n",
            "tensor(0.4381, grad_fn=<MseLossBackward0>)\n",
            "epoch 97, loss 0.43805205821990967\n",
            "tensor(0.4380, grad_fn=<MseLossBackward0>)\n",
            "epoch 98, loss 0.437955379486084\n",
            "tensor(0.4379, grad_fn=<MseLossBackward0>)\n",
            "epoch 99, loss 0.43785884976387024\n"
          ]
        }
      ]
    },
    {
      "cell_type": "code",
      "metadata": {
        "colab": {
          "base_uri": "https://localhost:8080/"
        },
        "id": "EwkSt0IMLnVR",
        "outputId": "102e0086-5a2c-4305-f890-1bd62e164cec"
      },
      "source": [
        "with torch.no_grad(): # we don't need gradients in the testing phase\n",
        "  predicted = model(X_test.float())\n",
        "print(predicted)"
      ],
      "execution_count": null,
      "outputs": [
        {
          "output_type": "stream",
          "name": "stdout",
          "text": [
            "tensor([[0.3314],\n",
            "        [0.3028],\n",
            "        [0.2939],\n",
            "        [0.2897],\n",
            "        [0.3121],\n",
            "        [0.3168],\n",
            "        [0.3015],\n",
            "        [0.2950],\n",
            "        [0.3078],\n",
            "        [0.3006],\n",
            "        [0.2869],\n",
            "        [0.3259],\n",
            "        [0.2965],\n",
            "        [0.3071],\n",
            "        [0.3385],\n",
            "        [0.2941],\n",
            "        [0.2937],\n",
            "        [0.3318],\n",
            "        [0.2983],\n",
            "        [0.2942],\n",
            "        [0.3411],\n",
            "        [0.3305],\n",
            "        [0.2906],\n",
            "        [0.3149],\n",
            "        [0.2996],\n",
            "        [0.3296],\n",
            "        [0.3571],\n",
            "        [0.3254],\n",
            "        [0.3369],\n",
            "        [0.3292],\n",
            "        [0.3128],\n",
            "        [0.2861],\n",
            "        [0.2907],\n",
            "        [0.3170],\n",
            "        [0.3123],\n",
            "        [0.2957],\n",
            "        [0.3618],\n",
            "        [0.2989],\n",
            "        [0.3174],\n",
            "        [0.3508],\n",
            "        [0.3409],\n",
            "        [0.3171],\n",
            "        [0.2939],\n",
            "        [0.3089],\n",
            "        [0.2953],\n",
            "        [0.2903],\n",
            "        [0.3448],\n",
            "        [0.2971],\n",
            "        [0.3108],\n",
            "        [0.3177],\n",
            "        [0.3209],\n",
            "        [0.3018],\n",
            "        [0.3194],\n",
            "        [0.2986],\n",
            "        [0.2997],\n",
            "        [0.3333],\n",
            "        [0.3203],\n",
            "        [0.3060],\n",
            "        [0.3213],\n",
            "        [0.3036],\n",
            "        [0.2931],\n",
            "        [0.2998],\n",
            "        [0.3066],\n",
            "        [0.2975],\n",
            "        [0.3000],\n",
            "        [0.2854],\n",
            "        [0.3095],\n",
            "        [0.3024],\n",
            "        [0.3025],\n",
            "        [0.3214],\n",
            "        [0.2938],\n",
            "        [0.3001],\n",
            "        [0.3052],\n",
            "        [0.2945],\n",
            "        [0.2955],\n",
            "        [0.3052],\n",
            "        [0.2871],\n",
            "        [0.3405],\n",
            "        [0.3007],\n",
            "        [0.3211],\n",
            "        [0.2928],\n",
            "        [0.3555],\n",
            "        [0.3279],\n",
            "        [0.3115],\n",
            "        [0.3366],\n",
            "        [0.3139],\n",
            "        [0.3026],\n",
            "        [0.2907],\n",
            "        [0.3466],\n",
            "        [0.2993],\n",
            "        [0.3446],\n",
            "        [0.3359],\n",
            "        [0.3016],\n",
            "        [0.2874],\n",
            "        [0.3138],\n",
            "        [0.3356],\n",
            "        [0.3180],\n",
            "        [0.3135],\n",
            "        [0.2979],\n",
            "        [0.3009],\n",
            "        [0.3068],\n",
            "        [0.3010],\n",
            "        [0.3029],\n",
            "        [0.3257],\n",
            "        [0.3031],\n",
            "        [0.2963],\n",
            "        [0.2986],\n",
            "        [0.3108],\n",
            "        [0.2984],\n",
            "        [0.2994],\n",
            "        [0.3264],\n",
            "        [0.3031],\n",
            "        [0.3538],\n",
            "        [0.2971],\n",
            "        [0.2941],\n",
            "        [0.3188],\n",
            "        [0.3071],\n",
            "        [0.2959],\n",
            "        [0.3551],\n",
            "        [0.2855],\n",
            "        [0.3323],\n",
            "        [0.2862],\n",
            "        [0.3162],\n",
            "        [0.3317],\n",
            "        [0.3039],\n",
            "        [0.3034],\n",
            "        [0.3324],\n",
            "        [0.3085],\n",
            "        [0.2962],\n",
            "        [0.3072],\n",
            "        [0.3186],\n",
            "        [0.2933],\n",
            "        [0.3201],\n",
            "        [0.3087],\n",
            "        [0.2961],\n",
            "        [0.2978],\n",
            "        [0.3290],\n",
            "        [0.3085],\n",
            "        [0.3085],\n",
            "        [0.3163],\n",
            "        [0.3006],\n",
            "        [0.2981],\n",
            "        [0.3231],\n",
            "        [0.3289],\n",
            "        [0.3125],\n",
            "        [0.2991],\n",
            "        [0.3281],\n",
            "        [0.3025],\n",
            "        [0.3481],\n",
            "        [0.2919],\n",
            "        [0.3090],\n",
            "        [0.3020],\n",
            "        [0.2992],\n",
            "        [0.2957],\n",
            "        [0.3754],\n",
            "        [0.2911],\n",
            "        [0.2941],\n",
            "        [0.3093],\n",
            "        [0.2955],\n",
            "        [0.2986],\n",
            "        [0.2971],\n",
            "        [0.2962],\n",
            "        [0.3454],\n",
            "        [0.3195],\n",
            "        [0.3064],\n",
            "        [0.3134],\n",
            "        [0.2991],\n",
            "        [0.3063],\n",
            "        [0.2884],\n",
            "        [0.3042],\n",
            "        [0.3092],\n",
            "        [0.3027],\n",
            "        [0.2971],\n",
            "        [0.3172],\n",
            "        [0.2975],\n",
            "        [0.3049],\n",
            "        [0.2922],\n",
            "        [0.3255],\n",
            "        [0.3087],\n",
            "        [0.3221],\n",
            "        [0.2971],\n",
            "        [0.2954],\n",
            "        [0.3149],\n",
            "        [0.3074],\n",
            "        [0.3024],\n",
            "        [0.2946],\n",
            "        [0.3019],\n",
            "        [0.3599],\n",
            "        [0.3070],\n",
            "        [0.2930],\n",
            "        [0.3147],\n",
            "        [0.3066],\n",
            "        [0.3160],\n",
            "        [0.2991],\n",
            "        [0.2908],\n",
            "        [0.3206],\n",
            "        [0.3454],\n",
            "        [0.3126],\n",
            "        [0.3198],\n",
            "        [0.3029],\n",
            "        [0.3138],\n",
            "        [0.3040],\n",
            "        [0.3025],\n",
            "        [0.2979],\n",
            "        [0.3050],\n",
            "        [0.3341],\n",
            "        [0.2921],\n",
            "        [0.2970],\n",
            "        [0.2978],\n",
            "        [0.2885],\n",
            "        [0.3125],\n",
            "        [0.3092],\n",
            "        [0.2996],\n",
            "        [0.2970],\n",
            "        [0.3419],\n",
            "        [0.3043],\n",
            "        [0.3141],\n",
            "        [0.3045],\n",
            "        [0.2901],\n",
            "        [0.3024],\n",
            "        [0.3107],\n",
            "        [0.2982],\n",
            "        [0.2983],\n",
            "        [0.3314],\n",
            "        [0.3136],\n",
            "        [0.3144],\n",
            "        [0.3182],\n",
            "        [0.3193],\n",
            "        [0.2921],\n",
            "        [0.3046],\n",
            "        [0.3364],\n",
            "        [0.3055],\n",
            "        [0.2985],\n",
            "        [0.2955],\n",
            "        [0.3189],\n",
            "        [0.2863],\n",
            "        [0.3280],\n",
            "        [0.3019],\n",
            "        [0.2977],\n",
            "        [0.2960],\n",
            "        [0.3071],\n",
            "        [0.2954],\n",
            "        [0.3157],\n",
            "        [0.3125],\n",
            "        [0.2943],\n",
            "        [0.3107],\n",
            "        [0.2955],\n",
            "        [0.2921],\n",
            "        [0.2890],\n",
            "        [0.3229],\n",
            "        [0.3063],\n",
            "        [0.3002],\n",
            "        [0.2909],\n",
            "        [0.3095],\n",
            "        [0.3064],\n",
            "        [0.2833],\n",
            "        [0.2922],\n",
            "        [0.3099],\n",
            "        [0.3421],\n",
            "        [0.3109],\n",
            "        [0.2944],\n",
            "        [0.2926],\n",
            "        [0.3290],\n",
            "        [0.3043],\n",
            "        [0.3060],\n",
            "        [0.3174],\n",
            "        [0.2950],\n",
            "        [0.3053],\n",
            "        [0.2941],\n",
            "        [0.3265],\n",
            "        [0.3015],\n",
            "        [0.3015],\n",
            "        [0.3016],\n",
            "        [0.2947],\n",
            "        [0.3179],\n",
            "        [0.3009],\n",
            "        [0.3087],\n",
            "        [0.3216],\n",
            "        [0.2913],\n",
            "        [0.2984],\n",
            "        [0.2966],\n",
            "        [0.2943],\n",
            "        [0.2964],\n",
            "        [0.3028],\n",
            "        [0.3006],\n",
            "        [0.3160],\n",
            "        [0.3008],\n",
            "        [0.2937],\n",
            "        [0.2898],\n",
            "        [0.2919],\n",
            "        [0.2909],\n",
            "        [0.3130],\n",
            "        [0.2885],\n",
            "        [0.2961],\n",
            "        [0.2927],\n",
            "        [0.3037],\n",
            "        [0.3071],\n",
            "        [0.3187],\n",
            "        [0.2925],\n",
            "        [0.3048],\n",
            "        [0.3211],\n",
            "        [0.2955],\n",
            "        [0.2980],\n",
            "        [0.3419],\n",
            "        [0.3183],\n",
            "        [0.3187],\n",
            "        [0.3003],\n",
            "        [0.3042],\n",
            "        [0.2933],\n",
            "        [0.3221],\n",
            "        [0.2947],\n",
            "        [0.3166],\n",
            "        [0.3051],\n",
            "        [0.2990],\n",
            "        [0.2892],\n",
            "        [0.2956],\n",
            "        [0.3389],\n",
            "        [0.3433],\n",
            "        [0.2962],\n",
            "        [0.3065],\n",
            "        [0.3009],\n",
            "        [0.3005],\n",
            "        [0.3062],\n",
            "        [0.2946],\n",
            "        [0.3043],\n",
            "        [0.3259],\n",
            "        [0.2891],\n",
            "        [0.3035],\n",
            "        [0.2939],\n",
            "        [0.3128],\n",
            "        [0.3146],\n",
            "        [0.2915],\n",
            "        [0.3035],\n",
            "        [0.3111],\n",
            "        [0.2978],\n",
            "        [0.3000],\n",
            "        [0.3090],\n",
            "        [0.2979],\n",
            "        [0.3128],\n",
            "        [0.3136],\n",
            "        [0.3079],\n",
            "        [0.2960],\n",
            "        [0.3023],\n",
            "        [0.2993],\n",
            "        [0.3787],\n",
            "        [0.3674],\n",
            "        [0.3419],\n",
            "        [0.3015],\n",
            "        [0.3087],\n",
            "        [0.3047],\n",
            "        [0.2932],\n",
            "        [0.3025],\n",
            "        [0.3192],\n",
            "        [0.2964],\n",
            "        [0.3136],\n",
            "        [0.3040],\n",
            "        [0.3321],\n",
            "        [0.3449],\n",
            "        [0.3017],\n",
            "        [0.3248],\n",
            "        [0.2976],\n",
            "        [0.3220],\n",
            "        [0.3122],\n",
            "        [0.2942],\n",
            "        [0.3169],\n",
            "        [0.3153],\n",
            "        [0.3023],\n",
            "        [0.3253],\n",
            "        [0.3439],\n",
            "        [0.3013],\n",
            "        [0.3018],\n",
            "        [0.3152],\n",
            "        [0.3303],\n",
            "        [0.3833],\n",
            "        [0.3112],\n",
            "        [0.2986],\n",
            "        [0.3052],\n",
            "        [0.3017],\n",
            "        [0.3230],\n",
            "        [0.2998],\n",
            "        [0.2975],\n",
            "        [0.2898],\n",
            "        [0.3088],\n",
            "        [0.3080],\n",
            "        [0.3099],\n",
            "        [0.2944],\n",
            "        [0.2901],\n",
            "        [0.3291],\n",
            "        [0.2971],\n",
            "        [0.3008],\n",
            "        [0.3274],\n",
            "        [0.2931],\n",
            "        [0.2882],\n",
            "        [0.3083],\n",
            "        [0.3023],\n",
            "        [0.3025],\n",
            "        [0.3014],\n",
            "        [0.3022],\n",
            "        [0.2959],\n",
            "        [0.2981],\n",
            "        [0.3014],\n",
            "        [0.3047],\n",
            "        [0.3014],\n",
            "        [0.3166],\n",
            "        [0.2886],\n",
            "        [0.2896],\n",
            "        [0.3531],\n",
            "        [0.3372],\n",
            "        [0.3246],\n",
            "        [0.3005],\n",
            "        [0.3050],\n",
            "        [0.2937],\n",
            "        [0.3492],\n",
            "        [0.2908],\n",
            "        [0.2915],\n",
            "        [0.3037],\n",
            "        [0.3113],\n",
            "        [0.2990],\n",
            "        [0.2955],\n",
            "        [0.2960],\n",
            "        [0.2924],\n",
            "        [0.2969],\n",
            "        [0.2940],\n",
            "        [0.2923],\n",
            "        [0.3061],\n",
            "        [0.2957],\n",
            "        [0.2942],\n",
            "        [0.2927],\n",
            "        [0.3113],\n",
            "        [0.2917],\n",
            "        [0.2972],\n",
            "        [0.3310],\n",
            "        [0.2990],\n",
            "        [0.3021],\n",
            "        [0.3423],\n",
            "        [0.2994],\n",
            "        [0.3095],\n",
            "        [0.3465],\n",
            "        [0.2921],\n",
            "        [0.2927],\n",
            "        [0.2903],\n",
            "        [0.3037],\n",
            "        [0.3100],\n",
            "        [0.2993],\n",
            "        [0.3072],\n",
            "        [0.3215],\n",
            "        [0.3190],\n",
            "        [0.2924],\n",
            "        [0.2905],\n",
            "        [0.2926],\n",
            "        [0.3020],\n",
            "        [0.3051],\n",
            "        [0.3008],\n",
            "        [0.2999],\n",
            "        [0.2892],\n",
            "        [0.3193],\n",
            "        [0.3039],\n",
            "        [0.3286],\n",
            "        [0.3026],\n",
            "        [0.3047],\n",
            "        [0.3236],\n",
            "        [0.2967],\n",
            "        [0.3072],\n",
            "        [0.2861],\n",
            "        [0.3076],\n",
            "        [0.2947],\n",
            "        [0.2995],\n",
            "        [0.3057],\n",
            "        [0.3142],\n",
            "        [0.3030],\n",
            "        [0.3226],\n",
            "        [0.3333],\n",
            "        [0.2932],\n",
            "        [0.3090],\n",
            "        [0.3066],\n",
            "        [0.2903],\n",
            "        [0.2974],\n",
            "        [0.3830],\n",
            "        [0.2925],\n",
            "        [0.3212],\n",
            "        [0.2934],\n",
            "        [0.2997],\n",
            "        [0.3574],\n",
            "        [0.3137],\n",
            "        [0.3129],\n",
            "        [0.2986],\n",
            "        [0.2987],\n",
            "        [0.3279],\n",
            "        [0.3034],\n",
            "        [0.2990],\n",
            "        [0.3117],\n",
            "        [0.2927],\n",
            "        [0.3142],\n",
            "        [0.2913],\n",
            "        [0.3001],\n",
            "        [0.3031],\n",
            "        [0.2917],\n",
            "        [0.2925],\n",
            "        [0.3297],\n",
            "        [0.3138],\n",
            "        [0.3246],\n",
            "        [0.2994],\n",
            "        [0.2875],\n",
            "        [0.3129],\n",
            "        [0.3043],\n",
            "        [0.3044],\n",
            "        [0.3157],\n",
            "        [0.3062],\n",
            "        [0.2899],\n",
            "        [0.2939],\n",
            "        [0.3181],\n",
            "        [0.3604],\n",
            "        [0.3010],\n",
            "        [0.2945],\n",
            "        [0.3067],\n",
            "        [0.3012],\n",
            "        [0.3030],\n",
            "        [0.3309],\n",
            "        [0.2995],\n",
            "        [0.2944],\n",
            "        [0.3085],\n",
            "        [0.3065],\n",
            "        [0.2973],\n",
            "        [0.2966],\n",
            "        [0.2978],\n",
            "        [0.3344],\n",
            "        [0.3411],\n",
            "        [0.3043],\n",
            "        [0.3255],\n",
            "        [0.3220],\n",
            "        [0.3398],\n",
            "        [0.3002],\n",
            "        [0.3121],\n",
            "        [0.3115],\n",
            "        [0.3095],\n",
            "        [0.2918],\n",
            "        [0.3137],\n",
            "        [0.2920],\n",
            "        [0.3324],\n",
            "        [0.2940],\n",
            "        [0.2874],\n",
            "        [0.3005],\n",
            "        [0.3184],\n",
            "        [0.3012],\n",
            "        [0.2840],\n",
            "        [0.3079],\n",
            "        [0.3552],\n",
            "        [0.3015],\n",
            "        [0.2939],\n",
            "        [0.3162],\n",
            "        [0.3004],\n",
            "        [0.2939],\n",
            "        [0.2955],\n",
            "        [0.3550],\n",
            "        [0.3252],\n",
            "        [0.3220],\n",
            "        [0.2968],\n",
            "        [0.3188],\n",
            "        [0.2980],\n",
            "        [0.3099],\n",
            "        [0.3107],\n",
            "        [0.3031],\n",
            "        [0.3251],\n",
            "        [0.2921],\n",
            "        [0.3129],\n",
            "        [0.3012],\n",
            "        [0.2996],\n",
            "        [0.2925],\n",
            "        [0.3475],\n",
            "        [0.3002],\n",
            "        [0.3320],\n",
            "        [0.3253],\n",
            "        [0.2996],\n",
            "        [0.3146],\n",
            "        [0.3225],\n",
            "        [0.3052],\n",
            "        [0.3331],\n",
            "        [0.3141],\n",
            "        [0.3017],\n",
            "        [0.2965],\n",
            "        [0.2930],\n",
            "        [0.3205],\n",
            "        [0.2971],\n",
            "        [0.3598],\n",
            "        [0.3176],\n",
            "        [0.2930],\n",
            "        [0.2924],\n",
            "        [0.2932],\n",
            "        [0.3045],\n",
            "        [0.3164],\n",
            "        [0.3061],\n",
            "        [0.2922],\n",
            "        [0.3175],\n",
            "        [0.3311],\n",
            "        [0.2988],\n",
            "        [0.2869],\n",
            "        [0.3221],\n",
            "        [0.2967],\n",
            "        [0.2952],\n",
            "        [0.2929],\n",
            "        [0.3460],\n",
            "        [0.3046],\n",
            "        [0.2920],\n",
            "        [0.3230],\n",
            "        [0.3112],\n",
            "        [0.3268],\n",
            "        [0.2952],\n",
            "        [0.3040],\n",
            "        [0.3044],\n",
            "        [0.2972],\n",
            "        [0.2897],\n",
            "        [0.3236],\n",
            "        [0.3435],\n",
            "        [0.2992],\n",
            "        [0.3057],\n",
            "        [0.3206],\n",
            "        [0.3156],\n",
            "        [0.3622],\n",
            "        [0.3517],\n",
            "        [0.2914],\n",
            "        [0.2976],\n",
            "        [0.3069],\n",
            "        [0.3000],\n",
            "        [0.2953],\n",
            "        [0.3043],\n",
            "        [0.3027],\n",
            "        [0.3127],\n",
            "        [0.3103],\n",
            "        [0.3077],\n",
            "        [0.2981],\n",
            "        [0.3008],\n",
            "        [0.2934],\n",
            "        [0.3227],\n",
            "        [0.3109],\n",
            "        [0.2935],\n",
            "        [0.2992],\n",
            "        [0.2986],\n",
            "        [0.2999],\n",
            "        [0.3035],\n",
            "        [0.2926],\n",
            "        [0.3220],\n",
            "        [0.3033],\n",
            "        [0.2932],\n",
            "        [0.3734],\n",
            "        [0.3064],\n",
            "        [0.3123],\n",
            "        [0.3334],\n",
            "        [0.3237],\n",
            "        [0.3010],\n",
            "        [0.3082],\n",
            "        [0.3177],\n",
            "        [0.3110],\n",
            "        [0.3067],\n",
            "        [0.2951],\n",
            "        [0.2920],\n",
            "        [0.2951],\n",
            "        [0.2876],\n",
            "        [0.3260],\n",
            "        [0.3020],\n",
            "        [0.2940],\n",
            "        [0.2938],\n",
            "        [0.3113],\n",
            "        [0.2868],\n",
            "        [0.3049],\n",
            "        [0.3307],\n",
            "        [0.3041],\n",
            "        [0.3207],\n",
            "        [0.3079],\n",
            "        [0.2928],\n",
            "        [0.3005],\n",
            "        [0.3077],\n",
            "        [0.2909],\n",
            "        [0.3263],\n",
            "        [0.2862],\n",
            "        [0.3087],\n",
            "        [0.2877],\n",
            "        [0.3052],\n",
            "        [0.3106],\n",
            "        [0.2980],\n",
            "        [0.2967],\n",
            "        [0.2976],\n",
            "        [0.2925],\n",
            "        [0.3234],\n",
            "        [0.3548],\n",
            "        [0.3070],\n",
            "        [0.2971],\n",
            "        [0.2892],\n",
            "        [0.2989],\n",
            "        [0.2925],\n",
            "        [0.2866],\n",
            "        [0.3194],\n",
            "        [0.3020],\n",
            "        [0.2992],\n",
            "        [0.3185],\n",
            "        [0.3042],\n",
            "        [0.3116],\n",
            "        [0.3084],\n",
            "        [0.3062],\n",
            "        [0.2944],\n",
            "        [0.2905],\n",
            "        [0.3169],\n",
            "        [0.2973],\n",
            "        [0.3196],\n",
            "        [0.2920],\n",
            "        [0.3050],\n",
            "        [0.3121],\n",
            "        [0.3257],\n",
            "        [0.3115],\n",
            "        [0.2899],\n",
            "        [0.3160],\n",
            "        [0.3081],\n",
            "        [0.3248],\n",
            "        [0.2910],\n",
            "        [0.2978],\n",
            "        [0.3486],\n",
            "        [0.3206],\n",
            "        [0.3060],\n",
            "        [0.2986],\n",
            "        [0.3085],\n",
            "        [0.3482],\n",
            "        [0.2932],\n",
            "        [0.2963],\n",
            "        [0.3494],\n",
            "        [0.3091],\n",
            "        [0.3008],\n",
            "        [0.3021],\n",
            "        [0.3086],\n",
            "        [0.2963],\n",
            "        [0.3087],\n",
            "        [0.3080],\n",
            "        [0.2918],\n",
            "        [0.3310],\n",
            "        [0.3547],\n",
            "        [0.3096],\n",
            "        [0.2969],\n",
            "        [0.3056],\n",
            "        [0.3406],\n",
            "        [0.3051],\n",
            "        [0.3316],\n",
            "        [0.3031],\n",
            "        [0.2905],\n",
            "        [0.3049],\n",
            "        [0.3088],\n",
            "        [0.3088],\n",
            "        [0.3026],\n",
            "        [0.3362],\n",
            "        [0.2940],\n",
            "        [0.3874],\n",
            "        [0.3050],\n",
            "        [0.2915],\n",
            "        [0.2922],\n",
            "        [0.3878],\n",
            "        [0.3069],\n",
            "        [0.2902],\n",
            "        [0.3069],\n",
            "        [0.2955],\n",
            "        [0.2992],\n",
            "        [0.3188],\n",
            "        [0.3093],\n",
            "        [0.3502],\n",
            "        [0.2993],\n",
            "        [0.2959],\n",
            "        [0.2969],\n",
            "        [0.3130],\n",
            "        [0.3414],\n",
            "        [0.2880],\n",
            "        [0.3067],\n",
            "        [0.3053],\n",
            "        [0.2997],\n",
            "        [0.3103],\n",
            "        [0.3174],\n",
            "        [0.3120],\n",
            "        [0.3065],\n",
            "        [0.3005],\n",
            "        [0.3266],\n",
            "        [0.3062],\n",
            "        [0.3024],\n",
            "        [0.2977],\n",
            "        [0.3054],\n",
            "        [0.2939],\n",
            "        [0.3159],\n",
            "        [0.3141],\n",
            "        [0.2924],\n",
            "        [0.3041],\n",
            "        [0.2951],\n",
            "        [0.3096],\n",
            "        [0.2939],\n",
            "        [0.2930],\n",
            "        [0.2991]])\n"
          ]
        }
      ]
    },
    {
      "cell_type": "code",
      "metadata": {
        "colab": {
          "base_uri": "https://localhost:8080/"
        },
        "id": "ImcbfVYMN-l0",
        "outputId": "dd6bf357-6ffb-4447-f107-2ec6e1fe7f80"
      },
      "source": [
        "print(\"r2 score:\",r2_score(y_test,predicted))\n",
        "print(\"rmse:\", np.sqrt(mean_squared_error(y_test,predicted)))"
      ],
      "execution_count": null,
      "outputs": [
        {
          "output_type": "stream",
          "name": "stdout",
          "text": [
            "r2 score: 0.020423750117542272\n",
            "rmse: 0.6240673714230922\n"
          ]
        }
      ]
    },
    {
      "cell_type": "markdown",
      "metadata": {
        "id": "WBja0T4Zy58J"
      },
      "source": [
        "#классификация "
      ]
    },
    {
      "cell_type": "code",
      "metadata": {
        "colab": {
          "base_uri": "https://localhost:8080/",
          "height": 313
        },
        "id": "jAdRoy3iy3pi",
        "outputId": "2c3aee81-8b0a-40cf-d9c0-b43498de2729"
      },
      "source": [
        "meta.head()"
      ],
      "execution_count": null,
      "outputs": [
        {
          "output_type": "execute_result",
          "data": {
            "text/html": [
              "<div>\n",
              "<style scoped>\n",
              "    .dataframe tbody tr th:only-of-type {\n",
              "        vertical-align: middle;\n",
              "    }\n",
              "\n",
              "    .dataframe tbody tr th {\n",
              "        vertical-align: top;\n",
              "    }\n",
              "\n",
              "    .dataframe thead th {\n",
              "        text-align: right;\n",
              "    }\n",
              "</style>\n",
              "<table border=\"1\" class=\"dataframe\">\n",
              "  <thead>\n",
              "    <tr style=\"text-align: right;\">\n",
              "      <th></th>\n",
              "      <th>index</th>\n",
              "      <th>Species</th>\n",
              "      <th>Stage</th>\n",
              "      <th>Line</th>\n",
              "      <th>Sample</th>\n",
              "      <th>Barcode</th>\n",
              "      <th>PredCellType</th>\n",
              "      <th>nGene</th>\n",
              "      <th>nUMI</th>\n",
              "      <th>PercentMito</th>\n",
              "      <th>in_FullLineage</th>\n",
              "      <th>in_LineComp</th>\n",
              "      <th>in_DE</th>\n",
              "      <th>pseudocellIdx_FullLineage</th>\n",
              "      <th>pseudocellIdx_LineComp</th>\n",
              "      <th>pseudocellIdx_DE</th>\n",
              "      <th>cl_FullLineage</th>\n",
              "      <th>cl_LineComp</th>\n",
              "    </tr>\n",
              "  </thead>\n",
              "  <tbody>\n",
              "    <tr>\n",
              "      <th>0</th>\n",
              "      <td>EC00001</td>\n",
              "      <td>human</td>\n",
              "      <td>iPSCs</td>\n",
              "      <td>409b2</td>\n",
              "      <td>h409B2_iPSCs</td>\n",
              "      <td>AAACCTGAGACACTAA-1</td>\n",
              "      <td>IPC</td>\n",
              "      <td>1885</td>\n",
              "      <td>5650</td>\n",
              "      <td>0.059292</td>\n",
              "      <td>True</td>\n",
              "      <td>False</td>\n",
              "      <td>False</td>\n",
              "      <td>12361.0</td>\n",
              "      <td>NaN</td>\n",
              "      <td>NaN</td>\n",
              "      <td>stem cells 2</td>\n",
              "      <td>NaN</td>\n",
              "    </tr>\n",
              "    <tr>\n",
              "      <th>1</th>\n",
              "      <td>EC00004</td>\n",
              "      <td>human</td>\n",
              "      <td>iPSCs</td>\n",
              "      <td>409b2</td>\n",
              "      <td>h409B2_iPSCs</td>\n",
              "      <td>AAACCTGCACCACCAG-1</td>\n",
              "      <td>IPC</td>\n",
              "      <td>4185</td>\n",
              "      <td>18053</td>\n",
              "      <td>0.052678</td>\n",
              "      <td>True</td>\n",
              "      <td>False</td>\n",
              "      <td>False</td>\n",
              "      <td>12171.0</td>\n",
              "      <td>NaN</td>\n",
              "      <td>NaN</td>\n",
              "      <td>stem cells 2</td>\n",
              "      <td>NaN</td>\n",
              "    </tr>\n",
              "    <tr>\n",
              "      <th>2</th>\n",
              "      <td>EC00005</td>\n",
              "      <td>human</td>\n",
              "      <td>iPSCs</td>\n",
              "      <td>409b2</td>\n",
              "      <td>h409B2_iPSCs</td>\n",
              "      <td>AAACCTGCACGGTTTA-1</td>\n",
              "      <td>IPC</td>\n",
              "      <td>3018</td>\n",
              "      <td>11332</td>\n",
              "      <td>0.028592</td>\n",
              "      <td>True</td>\n",
              "      <td>False</td>\n",
              "      <td>False</td>\n",
              "      <td>12362.0</td>\n",
              "      <td>NaN</td>\n",
              "      <td>NaN</td>\n",
              "      <td>stem cells 2</td>\n",
              "      <td>NaN</td>\n",
              "    </tr>\n",
              "    <tr>\n",
              "      <th>3</th>\n",
              "      <td>EC00006</td>\n",
              "      <td>human</td>\n",
              "      <td>iPSCs</td>\n",
              "      <td>H9</td>\n",
              "      <td>H9_iPSCs</td>\n",
              "      <td>AAACCTGCACTGAAGG-1</td>\n",
              "      <td>IPC</td>\n",
              "      <td>3198</td>\n",
              "      <td>12563</td>\n",
              "      <td>0.060097</td>\n",
              "      <td>True</td>\n",
              "      <td>False</td>\n",
              "      <td>False</td>\n",
              "      <td>5533.0</td>\n",
              "      <td>NaN</td>\n",
              "      <td>NaN</td>\n",
              "      <td>stem cells 2</td>\n",
              "      <td>NaN</td>\n",
              "    </tr>\n",
              "    <tr>\n",
              "      <th>4</th>\n",
              "      <td>EC00007</td>\n",
              "      <td>human</td>\n",
              "      <td>iPSCs</td>\n",
              "      <td>409b2</td>\n",
              "      <td>h409B2_iPSCs</td>\n",
              "      <td>AAACCTGCAGTGAGTG-1</td>\n",
              "      <td>RG</td>\n",
              "      <td>5301</td>\n",
              "      <td>29534</td>\n",
              "      <td>0.050755</td>\n",
              "      <td>True</td>\n",
              "      <td>False</td>\n",
              "      <td>False</td>\n",
              "      <td>12437.0</td>\n",
              "      <td>NaN</td>\n",
              "      <td>NaN</td>\n",
              "      <td>stem cells 1</td>\n",
              "      <td>NaN</td>\n",
              "    </tr>\n",
              "  </tbody>\n",
              "</table>\n",
              "</div>"
            ],
            "text/plain": [
              "     index Species  Stage  ... pseudocellIdx_DE cl_FullLineage cl_LineComp\n",
              "0  EC00001   human  iPSCs  ...              NaN   stem cells 2         NaN\n",
              "1  EC00004   human  iPSCs  ...              NaN   stem cells 2         NaN\n",
              "2  EC00005   human  iPSCs  ...              NaN   stem cells 2         NaN\n",
              "3  EC00006   human  iPSCs  ...              NaN   stem cells 2         NaN\n",
              "4  EC00007   human  iPSCs  ...              NaN   stem cells 1         NaN\n",
              "\n",
              "[5 rows x 18 columns]"
            ]
          },
          "metadata": {},
          "execution_count": 33
        }
      ]
    },
    {
      "cell_type": "code",
      "metadata": {
        "colab": {
          "base_uri": "https://localhost:8080/"
        },
        "id": "ms5JborCzFmM",
        "outputId": "d3ac5bb4-f5f4-4c08-c62d-8b0a58d79ca7"
      },
      "source": [
        "stages = meta['Stage'].unique()\n",
        "for i in range(len(stages)):\n",
        "    print('stage: ', stages[i])"
      ],
      "execution_count": null,
      "outputs": [
        {
          "output_type": "stream",
          "name": "stdout",
          "text": [
            "stage:  iPSCs\n",
            "stage:  EB\n",
            "stage:  Neuroectoderm\n",
            "stage:  Neuroepithelium\n",
            "stage:  Organoid-1M\n",
            "stage:  Organoid-2M\n",
            "stage:  Organoid-4M\n"
          ]
        }
      ]
    },
    {
      "cell_type": "code",
      "metadata": {
        "id": "7N0oV1kezLDg"
      },
      "source": [
        "stages_cells = []\n",
        "for s in stages:\n",
        "    i = meta.index[meta['Stage'] == s]\n",
        "    stages_cells.append(i)"
      ],
      "execution_count": null,
      "outputs": []
    },
    {
      "cell_type": "code",
      "metadata": {
        "id": "H5VNAXD-zVML"
      },
      "source": [
        "my_line = '409b2'"
      ],
      "execution_count": null,
      "outputs": []
    },
    {
      "cell_type": "code",
      "metadata": {
        "colab": {
          "base_uri": "https://localhost:8080/"
        },
        "id": "JF3HdpZMzbiw",
        "outputId": "08f372a2-975e-4a9b-a51e-c917a2592d7b"
      },
      "source": [
        "intrested_indexes = meta.index[meta['Line'] == my_line]\n",
        "matrix = expression[:, intrested_indexes]\n",
        "matrix.shape"
      ],
      "execution_count": null,
      "outputs": [
        {
          "output_type": "execute_result",
          "data": {
            "text/plain": [
              "(75, 24983)"
            ]
          },
          "metadata": {},
          "execution_count": 37
        }
      ]
    },
    {
      "cell_type": "code",
      "metadata": {
        "colab": {
          "base_uri": "https://localhost:8080/"
        },
        "id": "M6_Jgqcczdak",
        "outputId": "89dddda2-f6b1-40ed-d94f-f4553e083b0d"
      },
      "source": [
        "targets = meta[meta['Line'] == my_line]['Stage']\n",
        "print('target shape: ', targets.shape, '\\n')\n",
        "targets.tail()"
      ],
      "execution_count": null,
      "outputs": [
        {
          "output_type": "stream",
          "name": "stdout",
          "text": [
            "target shape:  (24983,) \n",
            "\n"
          ]
        },
        {
          "output_type": "execute_result",
          "data": {
            "text/plain": [
              "68638    Organoid-4M\n",
              "68639    Organoid-4M\n",
              "68640    Organoid-4M\n",
              "68641    Organoid-4M\n",
              "68642    Organoid-4M\n",
              "Name: Stage, dtype: object"
            ]
          },
          "metadata": {},
          "execution_count": 38
        }
      ]
    },
    {
      "cell_type": "code",
      "metadata": {
        "colab": {
          "base_uri": "https://localhost:8080/"
        },
        "id": "5nEoKbi8zi1J",
        "outputId": "ea003006-c3b1-4c10-a777-86c0f5a1134d"
      },
      "source": [
        "from sklearn.preprocessing import StandardScaler\n",
        "X = matrix.T\n",
        "y = targets.copy()\n",
        "X_train, X_test, y_train, y_test = train_test_split(X, y, test_size=0.2, random_state=42)\n",
        "\n",
        "scaler = StandardScaler()\n",
        "X_train = scaler.fit_transform(X_train)\n",
        "X_test = scaler.transform(X_test)"
      ],
      "execution_count": null,
      "outputs": [
        {
          "output_type": "stream",
          "name": "stderr",
          "text": [
            "/usr/local/lib/python3.7/dist-packages/sklearn/utils/validation.py:590: FutureWarning: np.matrix usage is deprecated in 1.0 and will raise a TypeError in 1.2. Please convert to a numpy array with np.asarray. For more information see: https://numpy.org/doc/stable/reference/generated/numpy.matrix.html\n",
            "  FutureWarning,\n",
            "/usr/local/lib/python3.7/dist-packages/sklearn/utils/validation.py:590: FutureWarning: np.matrix usage is deprecated in 1.0 and will raise a TypeError in 1.2. Please convert to a numpy array with np.asarray. For more information see: https://numpy.org/doc/stable/reference/generated/numpy.matrix.html\n",
            "  FutureWarning,\n",
            "/usr/local/lib/python3.7/dist-packages/sklearn/utils/validation.py:590: FutureWarning: np.matrix usage is deprecated in 1.0 and will raise a TypeError in 1.2. Please convert to a numpy array with np.asarray. For more information see: https://numpy.org/doc/stable/reference/generated/numpy.matrix.html\n",
            "  FutureWarning,\n"
          ]
        }
      ]
    },
    {
      "cell_type": "code",
      "metadata": {
        "id": "mtay8Jtfzqr6"
      },
      "source": [
        "from sklearn.multiclass import OneVsRestClassifier\n",
        "from sklearn.linear_model import LogisticRegression\n",
        "from sklearn.metrics import roc_auc_score\n",
        "import warnings\n",
        "warnings.filterwarnings(\"ignore\")"
      ],
      "execution_count": null,
      "outputs": []
    },
    {
      "cell_type": "code",
      "metadata": {
        "id": "Rdc8VFr4zv0w"
      },
      "source": [
        "clf = OneVsRestClassifier(LogisticRegression()).fit(X_train, y_train)"
      ],
      "execution_count": null,
      "outputs": []
    },
    {
      "cell_type": "code",
      "metadata": {
        "id": "ddHUu5hDzxiq"
      },
      "source": [
        "preds = clf.predict(X_test)"
      ],
      "execution_count": null,
      "outputs": []
    },
    {
      "cell_type": "code",
      "metadata": {
        "id": "LSdXfGEHz7yJ"
      },
      "source": [
        "from sklearn.metrics import plot_confusion_matrix\n",
        "import matplotlib.pyplot as plt\n",
        "%matplotlib inline\n",
        "plt.rcParams[\"figure.figsize\"] = (12,10)"
      ],
      "execution_count": null,
      "outputs": []
    },
    {
      "cell_type": "code",
      "metadata": {
        "colab": {
          "base_uri": "https://localhost:8080/",
          "height": 602
        },
        "id": "X--SsubC0EG1",
        "outputId": "04184dc8-d103-454d-df31-31df0e2b9620"
      },
      "source": [
        "plot_confusion_matrix(clf, X_test, y_test)\n",
        "plt.show()"
      ],
      "execution_count": null,
      "outputs": [
        {
          "output_type": "display_data",
          "data": {
            "image/png": "[encoded data removed]",
            "text/plain": [
              "<Figure size 864x720 with 2 Axes>"
            ]
          },
          "metadata": {
            "needs_background": "light"
          }
        }
      ]
    },
    {
      "cell_type": "markdown",
      "metadata": {
        "id": "8OVW65FW1nq3"
      },
      "source": [
        "#голосовоние "
      ]
    },
    {
      "cell_type": "code",
      "metadata": {
        "id": "g60Oexdb0PMM"
      },
      "source": [
        "log_iPSCs = LogisticRegression(random_state=42)\n",
        "log_EB = LogisticRegression(random_state=42)\n",
        "log_Neuroectoderm = LogisticRegression(random_state=42)\n",
        "log_Neuroepithelium = LogisticRegression(random_state=42)\n",
        "log_Organoid_1M = LogisticRegression(random_state=42)\n",
        "log_Organoid_2M = LogisticRegression(random_state=42)\n",
        "log_Organoid_4M = LogisticRegression(random_state=42)\n",
        "\n",
        "models = []\n",
        "models.append(log_iPSCs)\n",
        "models.append(log_EB)\n",
        "models.append(log_Neuroectoderm)\n",
        "models.append(log_Neuroepithelium)\n",
        "models.append(log_Organoid_1M)\n",
        "models.append(log_Organoid_2M)\n",
        "models.append(log_Organoid_4M)"
      ],
      "execution_count": null,
      "outputs": []
    },
    {
      "cell_type": "code",
      "metadata": {
        "colab": {
          "base_uri": "https://localhost:8080/"
        },
        "id": "3cdXCFIa1rTS",
        "outputId": "98e0d48c-b0fe-4e2a-8b70-9143bed42edc"
      },
      "source": [
        "fitted_models = {}\n",
        "for stage, model in zip(stages, models):\n",
        "    y_train_ = y_train.copy()\n",
        "    y_test_ = y_test.copy()\n",
        "\n",
        "    y_train_[y_train_ != stage] = 0\n",
        "    y_train_[y_train_ == stage] = 1\n",
        "    y_test_[y_test_ != stage] = 0\n",
        "    y_test_[y_test_ == stage] = 1\n",
        "\n",
        "    y_train_ = np.array(y_train_).astype('int')\n",
        "    y_test_ = np.array(y_test_).astype('int')\n",
        "\n",
        "    model = model.fit(X_train, y_train_)\n",
        "    preds = model.predict(X_test)\n",
        "    preds_proba = model.predict_proba(X_test)\n",
        "\n",
        "    print(f'{stage} ROC_AUC: ', round(roc_auc_score(y_test_, preds), 3))  \n",
        "      \n",
        "    fitted_models[stage] = {'model': model,\n",
        "                            'predicts_proba': preds_proba}"
      ],
      "execution_count": null,
      "outputs": [
        {
          "output_type": "stream",
          "name": "stdout",
          "text": [
            "iPSCs ROC_AUC:  0.755\n",
            "EB ROC_AUC:  0.741\n",
            "Neuroectoderm ROC_AUC:  0.745\n",
            "Neuroepithelium ROC_AUC:  0.526\n",
            "Organoid-1M ROC_AUC:  0.553\n",
            "Organoid-2M ROC_AUC:  0.755\n",
            "Organoid-4M ROC_AUC:  0.792\n"
          ]
        }
      ]
    },
    {
      "cell_type": "code",
      "metadata": {
        "id": "frzdNORj1y4W"
      },
      "source": [],
      "execution_count": null,
      "outputs": []
    }
  ]
}