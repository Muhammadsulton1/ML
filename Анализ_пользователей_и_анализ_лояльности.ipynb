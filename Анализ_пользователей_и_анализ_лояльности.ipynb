{
  "nbformat": 4,
  "nbformat_minor": 0,
  "metadata": {
    "colab": {
      "name": "Анализ пользователей и анализ лояльности.ipynb",
      "provenance": [],
      "collapsed_sections": [],
      "authorship_tag": "ABX9TyMm/oCnXdxCQ2mYo/wZh8Vv",
      "include_colab_link": true
    },
    "kernelspec": {
      "name": "python3",
      "display_name": "Python 3"
    },
    "language_info": {
      "name": "python"
    }
  },
  "cells": [
    {
      "cell_type": "markdown",
      "metadata": {
        "id": "view-in-github",
        "colab_type": "text"
      },
      "source": [
        "<a href=\"https://colab.research.google.com/github/Muhammadsulton1/ML/blob/main/%D0%90%D0%BD%D0%B0%D0%BB%D0%B8%D0%B7_%D0%BF%D0%BE%D0%BB%D1%8C%D0%B7%D0%BE%D0%B2%D0%B0%D1%82%D0%B5%D0%BB%D0%B5%D0%B9_%D0%B8_%D0%B0%D0%BD%D0%B0%D0%BB%D0%B8%D0%B7_%D0%BB%D0%BE%D1%8F%D0%BB%D1%8C%D0%BD%D0%BE%D1%81%D1%82%D0%B8.ipynb\" target=\"_parent\"><img src=\"https://colab.research.google.com/assets/colab-badge.svg\" alt=\"Open In Colab\"/></a>"
      ]
    },
    {
      "cell_type": "code",
      "metadata": {
        "id": "B3JnEueg6C-3"
      },
      "source": [
        "import pandas as pd\n",
        "import seaborn as sns\n",
        "import matplotlib.pyplot as plt\n",
        "%matplotlib inline"
      ],
      "execution_count": null,
      "outputs": []
    },
    {
      "cell_type": "code",
      "metadata": {
        "colab": {
          "resources": {
            "http://localhost:8080/nbextensions/google.colab/files.js": {
              "data": "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",
              "ok": true,
              "headers": [
                [
                  "content-type",
                  "application/javascript"
                ]
              ],
              "status": 200,
              "status_text": ""
            }
          },
          "base_uri": "https://localhost:8080/",
          "height": 72
        },
        "id": "3ASKmJM1YdUZ",
        "outputId": "deec7d46-3136-4f9b-9649-89d79644141e"
      },
      "source": [
        "from google.colab import files\n",
        "upload = files.upload()"
      ],
      "execution_count": null,
      "outputs": [
        {
          "output_type": "display_data",
          "data": {
            "text/html": [
              "\n",
              "     <input type=\"file\" id=\"files-8a1f3dd4-3210-4adb-8b88-f13ee4acfb50\" name=\"files[]\" multiple disabled\n",
              "        style=\"border:none\" />\n",
              "     <output id=\"result-8a1f3dd4-3210-4adb-8b88-f13ee4acfb50\">\n",
              "      Upload widget is only available when the cell has been executed in the\n",
              "      current browser session. Please rerun this cell to enable.\n",
              "      </output>\n",
              "      <script src=\"/nbextensions/google.colab/files.js\"></script> "
            ],
            "text/plain": [
              "<IPython.core.display.HTML object>"
            ]
          },
          "metadata": {
            "tags": []
          }
        },
        {
          "output_type": "stream",
          "text": [
            "Saving lesson_3_data__1_.csv to lesson_3_data__1_.csv\n"
          ],
          "name": "stdout"
        }
      ]
    },
    {
      "cell_type": "markdown",
      "metadata": {
        "id": "Pd85t6VhZJmR"
      },
      "source": [
        "задача - выявить максимально лояльных клиентов которым будет выдоваться скидка в размере 80%"
      ]
    },
    {
      "cell_type": "code",
      "metadata": {
        "id": "5kTqBpav6TSQ"
      },
      "source": [
        "data = pd.read_csv('lesson_3_data__1_.csv',encoding='windows-1251')"
      ],
      "execution_count": null,
      "outputs": []
    },
    {
      "cell_type": "code",
      "metadata": {
        "colab": {
          "base_uri": "https://localhost:8080/",
          "height": 411
        },
        "id": "sV4utT7GZVRU",
        "outputId": "672051b4-ec5d-492a-b917-b5581b0c6d8f"
      },
      "source": [
        "data.head()"
      ],
      "execution_count": null,
      "outputs": [
        {
          "output_type": "execute_result",
          "data": {
            "text/html": [
              "<div>\n",
              "<style scoped>\n",
              "    .dataframe tbody tr th:only-of-type {\n",
              "        vertical-align: middle;\n",
              "    }\n",
              "\n",
              "    .dataframe tbody tr th {\n",
              "        vertical-align: top;\n",
              "    }\n",
              "\n",
              "    .dataframe thead th {\n",
              "        text-align: right;\n",
              "    }\n",
              "</style>\n",
              "<table border=\"1\" class=\"dataframe\">\n",
              "  <thead>\n",
              "    <tr style=\"text-align: right;\">\n",
              "      <th></th>\n",
              "      <th>Unnamed: 0</th>\n",
              "      <th>tk</th>\n",
              "      <th>pl</th>\n",
              "      <th>dia</th>\n",
              "      <th>hs</th>\n",
              "      <th>tc</th>\n",
              "      <th>cta</th>\n",
              "      <th>id_art</th>\n",
              "      <th>id_subsubfam</th>\n",
              "      <th>id_subfam</th>\n",
              "      <th>id_fam</th>\n",
              "      <th>id_famn</th>\n",
              "      <th>id_seccion</th>\n",
              "      <th>id_subagr</th>\n",
              "      <th>id_agr</th>\n",
              "      <th>vta</th>\n",
              "      <th>uni</th>\n",
              "      <th>id_artn</th>\n",
              "      <th>art_sp</th>\n",
              "      <th>fam_sp</th>\n",
              "      <th>fam_en</th>\n",
              "    </tr>\n",
              "  </thead>\n",
              "  <tbody>\n",
              "    <tr>\n",
              "      <th>0</th>\n",
              "      <td>1242</td>\n",
              "      <td>120071109002055793</td>\n",
              "      <td>1</td>\n",
              "      <td>2007/11/09</td>\n",
              "      <td>0.505729</td>\n",
              "      <td>110000761</td>\n",
              "      <td>11000076</td>\n",
              "      <td>21895</td>\n",
              "      <td>101070640100</td>\n",
              "      <td>1010706401</td>\n",
              "      <td>10107064</td>\n",
              "      <td>10107064</td>\n",
              "      <td>10107</td>\n",
              "      <td>101</td>\n",
              "      <td>1</td>\n",
              "      <td>0.68</td>\n",
              "      <td>1.0</td>\n",
              "      <td>21895</td>\n",
              "      <td>MARAVILLA        500 G Store_Brand</td>\n",
              "      <td>PASTA ALIMENTICIA SE</td>\n",
              "      <td>pasta</td>\n",
              "    </tr>\n",
              "    <tr>\n",
              "      <th>1</th>\n",
              "      <td>1243</td>\n",
              "      <td>120070601004053633</td>\n",
              "      <td>1</td>\n",
              "      <td>2007/06/01</td>\n",
              "      <td>0.588519</td>\n",
              "      <td>110000761</td>\n",
              "      <td>11000076</td>\n",
              "      <td>21816</td>\n",
              "      <td>101070640100</td>\n",
              "      <td>1010706401</td>\n",
              "      <td>10107064</td>\n",
              "      <td>10107064</td>\n",
              "      <td>10107</td>\n",
              "      <td>101</td>\n",
              "      <td>1</td>\n",
              "      <td>0.38</td>\n",
              "      <td>1.0</td>\n",
              "      <td>21816</td>\n",
              "      <td>FIDEO CABELLIN   500 G Store_Brand</td>\n",
              "      <td>PASTA ALIMENTICIA SE</td>\n",
              "      <td>pasta</td>\n",
              "    </tr>\n",
              "    <tr>\n",
              "      <th>2</th>\n",
              "      <td>1244</td>\n",
              "      <td>120070928004076410</td>\n",
              "      <td>1</td>\n",
              "      <td>2007/09/28</td>\n",
              "      <td>0.785498</td>\n",
              "      <td>28491841</td>\n",
              "      <td>2849184</td>\n",
              "      <td>562840</td>\n",
              "      <td>101070640100</td>\n",
              "      <td>1010706401</td>\n",
              "      <td>10107064</td>\n",
              "      <td>10107064</td>\n",
              "      <td>10107</td>\n",
              "      <td>101</td>\n",
              "      <td>1</td>\n",
              "      <td>1.55</td>\n",
              "      <td>2.0</td>\n",
              "      <td>562840</td>\n",
              "      <td>SPAGUETTI Nє 5 500 G Brand_1</td>\n",
              "      <td>PASTA ALIMENTICIA SE</td>\n",
              "      <td>pasta</td>\n",
              "    </tr>\n",
              "    <tr>\n",
              "      <th>3</th>\n",
              "      <td>1245</td>\n",
              "      <td>120070616003074261</td>\n",
              "      <td>1</td>\n",
              "      <td>2007/06/16</td>\n",
              "      <td>0.550961</td>\n",
              "      <td>95931501</td>\n",
              "      <td>9593150</td>\n",
              "      <td>28914</td>\n",
              "      <td>101070640100</td>\n",
              "      <td>1010706401</td>\n",
              "      <td>10107064</td>\n",
              "      <td>10107064</td>\n",
              "      <td>10107</td>\n",
              "      <td>101</td>\n",
              "      <td>1</td>\n",
              "      <td>1.03</td>\n",
              "      <td>2.0</td>\n",
              "      <td>28914</td>\n",
              "      <td>FIDEO FIDEUБ      500 Brand_7</td>\n",
              "      <td>PASTA ALIMENTICIA SE</td>\n",
              "      <td>pasta</td>\n",
              "    </tr>\n",
              "    <tr>\n",
              "      <th>4</th>\n",
              "      <td>1246</td>\n",
              "      <td>120070519001018477</td>\n",
              "      <td>1</td>\n",
              "      <td>2007/05/19</td>\n",
              "      <td>0.804954</td>\n",
              "      <td>93265591</td>\n",
              "      <td>9326559</td>\n",
              "      <td>159867</td>\n",
              "      <td>101070640100</td>\n",
              "      <td>1010706401</td>\n",
              "      <td>10107064</td>\n",
              "      <td>10107064</td>\n",
              "      <td>10107</td>\n",
              "      <td>101</td>\n",
              "      <td>1</td>\n",
              "      <td>1.09</td>\n",
              "      <td>1.0</td>\n",
              "      <td>159867</td>\n",
              "      <td>MACARRONES  GRATINAR 5 Brand_2</td>\n",
              "      <td>PASTA ALIMENTICIA SE</td>\n",
              "      <td>pasta</td>\n",
              "    </tr>\n",
              "  </tbody>\n",
              "</table>\n",
              "</div>"
            ],
            "text/plain": [
              "   Unnamed: 0                  tk  ...                fam_sp fam_en\n",
              "0        1242  120071109002055793  ...  PASTA ALIMENTICIA SE  pasta\n",
              "1        1243  120070601004053633  ...  PASTA ALIMENTICIA SE  pasta\n",
              "2        1244  120070928004076410  ...  PASTA ALIMENTICIA SE  pasta\n",
              "3        1245  120070616003074261  ...  PASTA ALIMENTICIA SE  pasta\n",
              "4        1246  120070519001018477  ...  PASTA ALIMENTICIA SE  pasta\n",
              "\n",
              "[5 rows x 21 columns]"
            ]
          },
          "metadata": {
            "tags": []
          },
          "execution_count": 4
        }
      ]
    },
    {
      "cell_type": "code",
      "metadata": {
        "id": "Zrsz2OcFaGP5"
      },
      "source": [
        "#tc - id пользователя, art_sp - бренд который определенный человек покупает\n",
        "user_df = data[['tc','art_sp']]"
      ],
      "execution_count": null,
      "outputs": []
    },
    {
      "cell_type": "code",
      "metadata": {
        "colab": {
          "base_uri": "https://localhost:8080/",
          "height": 419
        },
        "id": "ew0wRnnYaaxW",
        "outputId": "f5d0e4e2-04ef-4921-8a09-e8f799b66b4f"
      },
      "source": [
        "user_df"
      ],
      "execution_count": null,
      "outputs": [
        {
          "output_type": "execute_result",
          "data": {
            "text/html": [
              "<div>\n",
              "<style scoped>\n",
              "    .dataframe tbody tr th:only-of-type {\n",
              "        vertical-align: middle;\n",
              "    }\n",
              "\n",
              "    .dataframe tbody tr th {\n",
              "        vertical-align: top;\n",
              "    }\n",
              "\n",
              "    .dataframe thead th {\n",
              "        text-align: right;\n",
              "    }\n",
              "</style>\n",
              "<table border=\"1\" class=\"dataframe\">\n",
              "  <thead>\n",
              "    <tr style=\"text-align: right;\">\n",
              "      <th></th>\n",
              "      <th>tc</th>\n",
              "      <th>art_sp</th>\n",
              "    </tr>\n",
              "  </thead>\n",
              "  <tbody>\n",
              "    <tr>\n",
              "      <th>0</th>\n",
              "      <td>110000761</td>\n",
              "      <td>MARAVILLA        500 G Store_Brand</td>\n",
              "    </tr>\n",
              "    <tr>\n",
              "      <th>1</th>\n",
              "      <td>110000761</td>\n",
              "      <td>FIDEO CABELLIN   500 G Store_Brand</td>\n",
              "    </tr>\n",
              "    <tr>\n",
              "      <th>2</th>\n",
              "      <td>28491841</td>\n",
              "      <td>SPAGUETTI Nє 5 500 G Brand_1</td>\n",
              "    </tr>\n",
              "    <tr>\n",
              "      <th>3</th>\n",
              "      <td>95931501</td>\n",
              "      <td>FIDEO FIDEUБ      500 Brand_7</td>\n",
              "    </tr>\n",
              "    <tr>\n",
              "      <th>4</th>\n",
              "      <td>93265591</td>\n",
              "      <td>MACARRONES  GRATINAR 5 Brand_2</td>\n",
              "    </tr>\n",
              "    <tr>\n",
              "      <th>...</th>\n",
              "      <td>...</td>\n",
              "      <td>...</td>\n",
              "    </tr>\n",
              "    <tr>\n",
              "      <th>48124</th>\n",
              "      <td>45518841</td>\n",
              "      <td>FIDEOS 0         500 G Brand_4</td>\n",
              "    </tr>\n",
              "    <tr>\n",
              "      <th>48125</th>\n",
              "      <td>110824211</td>\n",
              "      <td>PLUMAS 3         500 G Brand_4</td>\n",
              "    </tr>\n",
              "    <tr>\n",
              "      <th>48126</th>\n",
              "      <td>1408670389</td>\n",
              "      <td>MACARRONES       500 G Store_Brand</td>\n",
              "    </tr>\n",
              "    <tr>\n",
              "      <th>48127</th>\n",
              "      <td>1408670389</td>\n",
              "      <td>SPAGHETTI        500 G Store_Brand</td>\n",
              "    </tr>\n",
              "    <tr>\n",
              "      <th>48128</th>\n",
              "      <td>48582221</td>\n",
              "      <td>SPAGHETTINI      500 G Store_Brand</td>\n",
              "    </tr>\n",
              "  </tbody>\n",
              "</table>\n",
              "<p>48129 rows × 2 columns</p>\n",
              "</div>"
            ],
            "text/plain": [
              "               tc                              art_sp\n",
              "0       110000761  MARAVILLA        500 G Store_Brand\n",
              "1       110000761  FIDEO CABELLIN   500 G Store_Brand\n",
              "2        28491841        SPAGUETTI Nє 5 500 G Brand_1\n",
              "3        95931501       FIDEO FIDEUБ      500 Brand_7\n",
              "4        93265591      MACARRONES  GRATINAR 5 Brand_2\n",
              "...           ...                                 ...\n",
              "48124    45518841      FIDEOS 0         500 G Brand_4\n",
              "48125   110824211      PLUMAS 3         500 G Brand_4\n",
              "48126  1408670389  MACARRONES       500 G Store_Brand\n",
              "48127  1408670389  SPAGHETTI        500 G Store_Brand\n",
              "48128    48582221  SPAGHETTINI      500 G Store_Brand\n",
              "\n",
              "[48129 rows x 2 columns]"
            ]
          },
          "metadata": {
            "tags": []
          },
          "execution_count": 6
        }
      ]
    },
    {
      "cell_type": "code",
      "metadata": {
        "id": "a84DM9nfabuw"
      },
      "source": [
        "user_df = user_df.rename(columns={'tc':'user_id','art_sp':'brand_info'})"
      ],
      "execution_count": null,
      "outputs": []
    },
    {
      "cell_type": "code",
      "metadata": {
        "colab": {
          "base_uri": "https://localhost:8080/",
          "height": 204
        },
        "id": "0bSA72V-bNgc",
        "outputId": "0fb6a53a-b77d-4002-92c5-38a51ae1bb4a"
      },
      "source": [
        "#видим что один человек покупает разные макароны одно и того же бренда его можно считать лояльным \n",
        "user_df.head()"
      ],
      "execution_count": null,
      "outputs": [
        {
          "output_type": "execute_result",
          "data": {
            "text/html": [
              "<div>\n",
              "<style scoped>\n",
              "    .dataframe tbody tr th:only-of-type {\n",
              "        vertical-align: middle;\n",
              "    }\n",
              "\n",
              "    .dataframe tbody tr th {\n",
              "        vertical-align: top;\n",
              "    }\n",
              "\n",
              "    .dataframe thead th {\n",
              "        text-align: right;\n",
              "    }\n",
              "</style>\n",
              "<table border=\"1\" class=\"dataframe\">\n",
              "  <thead>\n",
              "    <tr style=\"text-align: right;\">\n",
              "      <th></th>\n",
              "      <th>user_id</th>\n",
              "      <th>brand_info</th>\n",
              "    </tr>\n",
              "  </thead>\n",
              "  <tbody>\n",
              "    <tr>\n",
              "      <th>0</th>\n",
              "      <td>110000761</td>\n",
              "      <td>MARAVILLA        500 G Store_Brand</td>\n",
              "    </tr>\n",
              "    <tr>\n",
              "      <th>1</th>\n",
              "      <td>110000761</td>\n",
              "      <td>FIDEO CABELLIN   500 G Store_Brand</td>\n",
              "    </tr>\n",
              "    <tr>\n",
              "      <th>2</th>\n",
              "      <td>28491841</td>\n",
              "      <td>SPAGUETTI Nє 5 500 G Brand_1</td>\n",
              "    </tr>\n",
              "    <tr>\n",
              "      <th>3</th>\n",
              "      <td>95931501</td>\n",
              "      <td>FIDEO FIDEUБ      500 Brand_7</td>\n",
              "    </tr>\n",
              "    <tr>\n",
              "      <th>4</th>\n",
              "      <td>93265591</td>\n",
              "      <td>MACARRONES  GRATINAR 5 Brand_2</td>\n",
              "    </tr>\n",
              "  </tbody>\n",
              "</table>\n",
              "</div>"
            ],
            "text/plain": [
              "     user_id                          brand_info\n",
              "0  110000761  MARAVILLA        500 G Store_Brand\n",
              "1  110000761  FIDEO CABELLIN   500 G Store_Brand\n",
              "2   28491841        SPAGUETTI Nє 5 500 G Brand_1\n",
              "3   95931501       FIDEO FIDEUБ      500 Brand_7\n",
              "4   93265591      MACARRONES  GRATINAR 5 Brand_2"
            ]
          },
          "metadata": {
            "tags": []
          },
          "execution_count": 8
        }
      ]
    },
    {
      "cell_type": "markdown",
      "metadata": {
        "id": "jizJNWDrcdTg"
      },
      "source": [
        "из списка с наименованием товара и брендов взять только название бренда"
      ]
    },
    {
      "cell_type": "code",
      "metadata": {
        "id": "MtC8fKIwboeh"
      },
      "source": [
        "brand_name = 'MARAVILLA 500 G Store_Brand'"
      ],
      "execution_count": null,
      "outputs": []
    },
    {
      "cell_type": "code",
      "metadata": {
        "colab": {
          "base_uri": "https://localhost:8080/",
          "height": 35
        },
        "id": "j25p2x6LcRCB",
        "outputId": "b25a4dbb-3c22-403f-ae71-1c9de962822c"
      },
      "source": [
        "brand_name.split(' ')[-1]"
      ],
      "execution_count": null,
      "outputs": [
        {
          "output_type": "execute_result",
          "data": {
            "application/vnd.google.colaboratory.intrinsic+json": {
              "type": "string"
            },
            "text/plain": [
              "'Store_Brand'"
            ]
          },
          "metadata": {
            "tags": []
          },
          "execution_count": 10
        }
      ]
    },
    {
      "cell_type": "markdown",
      "metadata": {
        "id": "4JHga2EleN5t"
      },
      "source": [
        "Функция для отбора только названия бренда"
      ]
    },
    {
      "cell_type": "code",
      "metadata": {
        "id": "rvZGDO1fd-_c"
      },
      "source": [
        "def split_brand(brand_name_data):\n",
        "  return brand_name_data.split(' ')[-1]"
      ],
      "execution_count": null,
      "outputs": []
    },
    {
      "cell_type": "code",
      "metadata": {
        "id": "5EOl4BVtc59k"
      },
      "source": [
        "user_df['brand_name'] = user_df['brand_info'].apply(split_brand) "
      ],
      "execution_count": null,
      "outputs": []
    },
    {
      "cell_type": "code",
      "metadata": {
        "colab": {
          "base_uri": "https://localhost:8080/",
          "height": 204
        },
        "id": "8vZLNkc7ejGe",
        "outputId": "cdcea04b-01d5-433a-b026-411df3601fd2"
      },
      "source": [
        "user_df.head()"
      ],
      "execution_count": null,
      "outputs": [
        {
          "output_type": "execute_result",
          "data": {
            "text/html": [
              "<div>\n",
              "<style scoped>\n",
              "    .dataframe tbody tr th:only-of-type {\n",
              "        vertical-align: middle;\n",
              "    }\n",
              "\n",
              "    .dataframe tbody tr th {\n",
              "        vertical-align: top;\n",
              "    }\n",
              "\n",
              "    .dataframe thead th {\n",
              "        text-align: right;\n",
              "    }\n",
              "</style>\n",
              "<table border=\"1\" class=\"dataframe\">\n",
              "  <thead>\n",
              "    <tr style=\"text-align: right;\">\n",
              "      <th></th>\n",
              "      <th>user_id</th>\n",
              "      <th>brand_info</th>\n",
              "      <th>brand_name</th>\n",
              "    </tr>\n",
              "  </thead>\n",
              "  <tbody>\n",
              "    <tr>\n",
              "      <th>0</th>\n",
              "      <td>110000761</td>\n",
              "      <td>MARAVILLA        500 G Store_Brand</td>\n",
              "      <td>Store_Brand</td>\n",
              "    </tr>\n",
              "    <tr>\n",
              "      <th>1</th>\n",
              "      <td>110000761</td>\n",
              "      <td>FIDEO CABELLIN   500 G Store_Brand</td>\n",
              "      <td>Store_Brand</td>\n",
              "    </tr>\n",
              "    <tr>\n",
              "      <th>2</th>\n",
              "      <td>28491841</td>\n",
              "      <td>SPAGUETTI Nє 5 500 G Brand_1</td>\n",
              "      <td>Brand_1</td>\n",
              "    </tr>\n",
              "    <tr>\n",
              "      <th>3</th>\n",
              "      <td>95931501</td>\n",
              "      <td>FIDEO FIDEUБ      500 Brand_7</td>\n",
              "      <td>Brand_7</td>\n",
              "    </tr>\n",
              "    <tr>\n",
              "      <th>4</th>\n",
              "      <td>93265591</td>\n",
              "      <td>MACARRONES  GRATINAR 5 Brand_2</td>\n",
              "      <td>Brand_2</td>\n",
              "    </tr>\n",
              "  </tbody>\n",
              "</table>\n",
              "</div>"
            ],
            "text/plain": [
              "     user_id                          brand_info   brand_name\n",
              "0  110000761  MARAVILLA        500 G Store_Brand  Store_Brand\n",
              "1  110000761  FIDEO CABELLIN   500 G Store_Brand  Store_Brand\n",
              "2   28491841        SPAGUETTI Nє 5 500 G Brand_1      Brand_1\n",
              "3   95931501       FIDEO FIDEUБ      500 Brand_7      Brand_7\n",
              "4   93265591      MACARRONES  GRATINAR 5 Brand_2      Brand_2"
            ]
          },
          "metadata": {
            "tags": []
          },
          "execution_count": 13
        }
      ]
    },
    {
      "cell_type": "code",
      "metadata": {
        "id": "0rQfeigWekg5"
      },
      "source": [
        "#равносильно нашей функции\n",
        "#user_df['brand_info'].apply(lambda x: x.split(' ')[-1]) "
      ],
      "execution_count": null,
      "outputs": []
    },
    {
      "cell_type": "code",
      "metadata": {
        "id": "hkQj3jYVfLtm"
      },
      "source": [
        "users_purchases = user_df.groupby('user_id',as_index=False)\\\n",
        "  .agg({'brand_name':'count'})\\\n",
        "  .rename(columns={'brand_name':'purchases'})"
      ],
      "execution_count": null,
      "outputs": []
    },
    {
      "cell_type": "markdown",
      "metadata": {
        "id": "xf4P3TKEh9Da"
      },
      "source": [
        "#считаем сколько раз определнный айдишник выбрал этот бренд(т.е. купил)"
      ]
    },
    {
      "cell_type": "markdown",
      "metadata": {
        "id": "lrNZiM_UifSx"
      },
      "source": [
        "Лояльных клиентов считаем людей которые выбрали один и тот же бренд n-раз и имеют тенденцию выбирать один бренд из множества"
      ]
    },
    {
      "cell_type": "code",
      "metadata": {
        "colab": {
          "base_uri": "https://localhost:8080/",
          "height": 204
        },
        "id": "81y70zWahhx8",
        "outputId": "90c32ae4-cae2-40e8-9683-9dcee79c9eb3"
      },
      "source": [
        "users_purchases.head()"
      ],
      "execution_count": null,
      "outputs": [
        {
          "output_type": "execute_result",
          "data": {
            "text/html": [
              "<div>\n",
              "<style scoped>\n",
              "    .dataframe tbody tr th:only-of-type {\n",
              "        vertical-align: middle;\n",
              "    }\n",
              "\n",
              "    .dataframe tbody tr th {\n",
              "        vertical-align: top;\n",
              "    }\n",
              "\n",
              "    .dataframe thead th {\n",
              "        text-align: right;\n",
              "    }\n",
              "</style>\n",
              "<table border=\"1\" class=\"dataframe\">\n",
              "  <thead>\n",
              "    <tr style=\"text-align: right;\">\n",
              "      <th></th>\n",
              "      <th>user_id</th>\n",
              "      <th>purchases</th>\n",
              "    </tr>\n",
              "  </thead>\n",
              "  <tbody>\n",
              "    <tr>\n",
              "      <th>0</th>\n",
              "      <td>-1236394515</td>\n",
              "      <td>1</td>\n",
              "    </tr>\n",
              "    <tr>\n",
              "      <th>1</th>\n",
              "      <td>1031</td>\n",
              "      <td>6</td>\n",
              "    </tr>\n",
              "    <tr>\n",
              "      <th>2</th>\n",
              "      <td>4241</td>\n",
              "      <td>5</td>\n",
              "    </tr>\n",
              "    <tr>\n",
              "      <th>3</th>\n",
              "      <td>17311</td>\n",
              "      <td>2</td>\n",
              "    </tr>\n",
              "    <tr>\n",
              "      <th>4</th>\n",
              "      <td>17312</td>\n",
              "      <td>2</td>\n",
              "    </tr>\n",
              "  </tbody>\n",
              "</table>\n",
              "</div>"
            ],
            "text/plain": [
              "      user_id  purchases\n",
              "0 -1236394515          1\n",
              "1        1031          6\n",
              "2        4241          5\n",
              "3       17311          2\n",
              "4       17312          2"
            ]
          },
          "metadata": {
            "tags": []
          },
          "execution_count": 16
        }
      ]
    },
    {
      "cell_type": "code",
      "metadata": {
        "colab": {
          "base_uri": "https://localhost:8080/"
        },
        "id": "bQBIxix_hh0s",
        "outputId": "3d8796a5-d194-430a-a0a3-6fac2ea76474"
      },
      "source": [
        "#считаем медианное количество покупок\n",
        "users_purchases['purchases'].median()\n",
        "#2 - это 50% людей которые купили до 2х покупок и 50% которые купили больше 2х покупок"
      ],
      "execution_count": null,
      "outputs": [
        {
          "output_type": "execute_result",
          "data": {
            "text/plain": [
              "2.0"
            ]
          },
          "metadata": {
            "tags": []
          },
          "execution_count": 17
        }
      ]
    },
    {
      "cell_type": "code",
      "metadata": {
        "colab": {
          "base_uri": "https://localhost:8080/",
          "height": 297
        },
        "id": "jeI81pkehh27",
        "outputId": "1ce614e6-ab9e-489a-dba1-fa880b987888"
      },
      "source": [
        "users_purchases.describe()"
      ],
      "execution_count": null,
      "outputs": [
        {
          "output_type": "execute_result",
          "data": {
            "text/html": [
              "<div>\n",
              "<style scoped>\n",
              "    .dataframe tbody tr th:only-of-type {\n",
              "        vertical-align: middle;\n",
              "    }\n",
              "\n",
              "    .dataframe tbody tr th {\n",
              "        vertical-align: top;\n",
              "    }\n",
              "\n",
              "    .dataframe thead th {\n",
              "        text-align: right;\n",
              "    }\n",
              "</style>\n",
              "<table border=\"1\" class=\"dataframe\">\n",
              "  <thead>\n",
              "    <tr style=\"text-align: right;\">\n",
              "      <th></th>\n",
              "      <th>user_id</th>\n",
              "      <th>purchases</th>\n",
              "    </tr>\n",
              "  </thead>\n",
              "  <tbody>\n",
              "    <tr>\n",
              "      <th>count</th>\n",
              "      <td>1.176400e+04</td>\n",
              "      <td>11764.000000</td>\n",
              "    </tr>\n",
              "    <tr>\n",
              "      <th>mean</th>\n",
              "      <td>7.690517e+07</td>\n",
              "      <td>4.091210</td>\n",
              "    </tr>\n",
              "    <tr>\n",
              "      <th>std</th>\n",
              "      <td>1.622210e+08</td>\n",
              "      <td>4.573143</td>\n",
              "    </tr>\n",
              "    <tr>\n",
              "      <th>min</th>\n",
              "      <td>-1.236395e+09</td>\n",
              "      <td>1.000000</td>\n",
              "    </tr>\n",
              "    <tr>\n",
              "      <th>25%</th>\n",
              "      <td>1.503761e+07</td>\n",
              "      <td>1.000000</td>\n",
              "    </tr>\n",
              "    <tr>\n",
              "      <th>50%</th>\n",
              "      <td>4.682179e+07</td>\n",
              "      <td>2.000000</td>\n",
              "    </tr>\n",
              "    <tr>\n",
              "      <th>75%</th>\n",
              "      <td>9.311601e+07</td>\n",
              "      <td>5.000000</td>\n",
              "    </tr>\n",
              "    <tr>\n",
              "      <th>max</th>\n",
              "      <td>1.408849e+09</td>\n",
              "      <td>60.000000</td>\n",
              "    </tr>\n",
              "  </tbody>\n",
              "</table>\n",
              "</div>"
            ],
            "text/plain": [
              "            user_id     purchases\n",
              "count  1.176400e+04  11764.000000\n",
              "mean   7.690517e+07      4.091210\n",
              "std    1.622210e+08      4.573143\n",
              "min   -1.236395e+09      1.000000\n",
              "25%    1.503761e+07      1.000000\n",
              "50%    4.682179e+07      2.000000\n",
              "75%    9.311601e+07      5.000000\n",
              "max    1.408849e+09     60.000000"
            ]
          },
          "metadata": {
            "tags": []
          },
          "execution_count": 18
        }
      ]
    },
    {
      "cell_type": "markdown",
      "metadata": {
        "id": "TIxifCAUjyDF"
      },
      "source": [
        "по 75% процентилю видим что 25% пользователей совершили больше 5 покупок \n",
        "для первичного анализа отберем людей которые совершили больше 5 покупок"
      ]
    },
    {
      "cell_type": "code",
      "metadata": {
        "id": "9MGN8Gdbhh53"
      },
      "source": [
        "users_purchases = users_purchases.query('purchases >= 5')"
      ],
      "execution_count": null,
      "outputs": []
    },
    {
      "cell_type": "code",
      "metadata": {
        "colab": {
          "base_uri": "https://localhost:8080/",
          "height": 419
        },
        "id": "2Y1Ydt3_hh8N",
        "outputId": "fb9a3c3c-b594-4ea2-d20e-ff3fb6ade3cd"
      },
      "source": [
        "users_purchases"
      ],
      "execution_count": null,
      "outputs": [
        {
          "output_type": "execute_result",
          "data": {
            "text/html": [
              "<div>\n",
              "<style scoped>\n",
              "    .dataframe tbody tr th:only-of-type {\n",
              "        vertical-align: middle;\n",
              "    }\n",
              "\n",
              "    .dataframe tbody tr th {\n",
              "        vertical-align: top;\n",
              "    }\n",
              "\n",
              "    .dataframe thead th {\n",
              "        text-align: right;\n",
              "    }\n",
              "</style>\n",
              "<table border=\"1\" class=\"dataframe\">\n",
              "  <thead>\n",
              "    <tr style=\"text-align: right;\">\n",
              "      <th></th>\n",
              "      <th>user_id</th>\n",
              "      <th>purchases</th>\n",
              "    </tr>\n",
              "  </thead>\n",
              "  <tbody>\n",
              "    <tr>\n",
              "      <th>1</th>\n",
              "      <td>1031</td>\n",
              "      <td>6</td>\n",
              "    </tr>\n",
              "    <tr>\n",
              "      <th>2</th>\n",
              "      <td>4241</td>\n",
              "      <td>5</td>\n",
              "    </tr>\n",
              "    <tr>\n",
              "      <th>11</th>\n",
              "      <td>25971</td>\n",
              "      <td>7</td>\n",
              "    </tr>\n",
              "    <tr>\n",
              "      <th>14</th>\n",
              "      <td>40911</td>\n",
              "      <td>27</td>\n",
              "    </tr>\n",
              "    <tr>\n",
              "      <th>16</th>\n",
              "      <td>45181</td>\n",
              "      <td>5</td>\n",
              "    </tr>\n",
              "    <tr>\n",
              "      <th>...</th>\n",
              "      <td>...</td>\n",
              "      <td>...</td>\n",
              "    </tr>\n",
              "    <tr>\n",
              "      <th>11740</th>\n",
              "      <td>1408767189</td>\n",
              "      <td>5</td>\n",
              "    </tr>\n",
              "    <tr>\n",
              "      <th>11750</th>\n",
              "      <td>1408783189</td>\n",
              "      <td>10</td>\n",
              "    </tr>\n",
              "    <tr>\n",
              "      <th>11751</th>\n",
              "      <td>1408783379</td>\n",
              "      <td>6</td>\n",
              "    </tr>\n",
              "    <tr>\n",
              "      <th>11754</th>\n",
              "      <td>1408798879</td>\n",
              "      <td>8</td>\n",
              "    </tr>\n",
              "    <tr>\n",
              "      <th>11757</th>\n",
              "      <td>1408810219</td>\n",
              "      <td>9</td>\n",
              "    </tr>\n",
              "  </tbody>\n",
              "</table>\n",
              "<p>3383 rows × 2 columns</p>\n",
              "</div>"
            ],
            "text/plain": [
              "          user_id  purchases\n",
              "1            1031          6\n",
              "2            4241          5\n",
              "11          25971          7\n",
              "14          40911         27\n",
              "16          45181          5\n",
              "...           ...        ...\n",
              "11740  1408767189          5\n",
              "11750  1408783189         10\n",
              "11751  1408783379          6\n",
              "11754  1408798879          8\n",
              "11757  1408810219          9\n",
              "\n",
              "[3383 rows x 2 columns]"
            ]
          },
          "metadata": {
            "tags": []
          },
          "execution_count": 20
        }
      ]
    },
    {
      "cell_type": "code",
      "metadata": {
        "colab": {
          "base_uri": "https://localhost:8080/",
          "height": 297
        },
        "id": "Cnop2VK1hh-6",
        "outputId": "698075ef-6cd4-4e9c-c122-cd6b3c512332"
      },
      "source": [
        "users_purchases.describe()"
      ],
      "execution_count": null,
      "outputs": [
        {
          "output_type": "execute_result",
          "data": {
            "text/html": [
              "<div>\n",
              "<style scoped>\n",
              "    .dataframe tbody tr th:only-of-type {\n",
              "        vertical-align: middle;\n",
              "    }\n",
              "\n",
              "    .dataframe tbody tr th {\n",
              "        vertical-align: top;\n",
              "    }\n",
              "\n",
              "    .dataframe thead th {\n",
              "        text-align: right;\n",
              "    }\n",
              "</style>\n",
              "<table border=\"1\" class=\"dataframe\">\n",
              "  <thead>\n",
              "    <tr style=\"text-align: right;\">\n",
              "      <th></th>\n",
              "      <th>user_id</th>\n",
              "      <th>purchases</th>\n",
              "    </tr>\n",
              "  </thead>\n",
              "  <tbody>\n",
              "    <tr>\n",
              "      <th>count</th>\n",
              "      <td>3.383000e+03</td>\n",
              "      <td>3383.000000</td>\n",
              "    </tr>\n",
              "    <tr>\n",
              "      <th>mean</th>\n",
              "      <td>6.421500e+07</td>\n",
              "      <td>9.320130</td>\n",
              "    </tr>\n",
              "    <tr>\n",
              "      <th>std</th>\n",
              "      <td>1.504830e+08</td>\n",
              "      <td>5.623993</td>\n",
              "    </tr>\n",
              "    <tr>\n",
              "      <th>min</th>\n",
              "      <td>1.031000e+03</td>\n",
              "      <td>5.000000</td>\n",
              "    </tr>\n",
              "    <tr>\n",
              "      <th>25%</th>\n",
              "      <td>8.871271e+06</td>\n",
              "      <td>6.000000</td>\n",
              "    </tr>\n",
              "    <tr>\n",
              "      <th>50%</th>\n",
              "      <td>2.842547e+07</td>\n",
              "      <td>7.000000</td>\n",
              "    </tr>\n",
              "    <tr>\n",
              "      <th>75%</th>\n",
              "      <td>8.542964e+07</td>\n",
              "      <td>11.000000</td>\n",
              "    </tr>\n",
              "    <tr>\n",
              "      <th>max</th>\n",
              "      <td>1.408810e+09</td>\n",
              "      <td>60.000000</td>\n",
              "    </tr>\n",
              "  </tbody>\n",
              "</table>\n",
              "</div>"
            ],
            "text/plain": [
              "            user_id    purchases\n",
              "count  3.383000e+03  3383.000000\n",
              "mean   6.421500e+07     9.320130\n",
              "std    1.504830e+08     5.623993\n",
              "min    1.031000e+03     5.000000\n",
              "25%    8.871271e+06     6.000000\n",
              "50%    2.842547e+07     7.000000\n",
              "75%    8.542964e+07    11.000000\n",
              "max    1.408810e+09    60.000000"
            ]
          },
          "metadata": {
            "tags": []
          },
          "execution_count": 21
        }
      ]
    },
    {
      "cell_type": "markdown",
      "metadata": {
        "id": "5BFjb_F_mizX"
      },
      "source": [
        "#Посчитаем сколько покупок одного бренда сделал пользователь"
      ]
    },
    {
      "cell_type": "markdown",
      "metadata": {
        "id": "6coS_JM0og4p"
      },
      "source": [
        "Возьмем для каждого пользователя первое его максимальное число покупок по какому-то бренду"
      ]
    },
    {
      "cell_type": "code",
      "metadata": {
        "id": "gAWJd0n6lDt6"
      },
      "source": [
        "lovely_brand_purchases_df = user_df.groupby(['user_id','brand_name'],as_index=False)\\\n",
        "  .agg({'brand_info':'count'})\\\n",
        "  .sort_values(['user_id','brand_info'],ascending=[False,False])\\\n",
        "  .groupby('user_id')\\\n",
        "  .head(1)\\\n",
        "  .rename(columns={'brand_name':'lovely_brand','brand_info':'lovely_brand_purchases'})"
      ],
      "execution_count": null,
      "outputs": []
    },
    {
      "cell_type": "markdown",
      "metadata": {
        "id": "ix-sgDR0qPFk"
      },
      "source": [
        "посмотрим определенный user_id сколько покупок совершил в определенном бренде"
      ]
    },
    {
      "cell_type": "code",
      "metadata": {
        "id": "-A9u-hzep4M5"
      },
      "source": [
        "user_unique_brands = user_df.groupby('user_id',as_index=False)\\\n",
        "  .agg({'brand_name': pd.Series.nunique})\\\n",
        "  .rename(columns={'brand_name':'uniques_brands'})"
      ],
      "execution_count": null,
      "outputs": []
    },
    {
      "cell_type": "code",
      "metadata": {
        "colab": {
          "base_uri": "https://localhost:8080/",
          "height": 204
        },
        "id": "fLnPuhKVp4Pc",
        "outputId": "272ab4e7-58d3-4e30-e643-8b134a075fae"
      },
      "source": [
        "#получили уникальных брендов для user_id\n",
        "user_unique_brands.head()"
      ],
      "execution_count": null,
      "outputs": [
        {
          "output_type": "execute_result",
          "data": {
            "text/html": [
              "<div>\n",
              "<style scoped>\n",
              "    .dataframe tbody tr th:only-of-type {\n",
              "        vertical-align: middle;\n",
              "    }\n",
              "\n",
              "    .dataframe tbody tr th {\n",
              "        vertical-align: top;\n",
              "    }\n",
              "\n",
              "    .dataframe thead th {\n",
              "        text-align: right;\n",
              "    }\n",
              "</style>\n",
              "<table border=\"1\" class=\"dataframe\">\n",
              "  <thead>\n",
              "    <tr style=\"text-align: right;\">\n",
              "      <th></th>\n",
              "      <th>user_id</th>\n",
              "      <th>uniques_brands</th>\n",
              "    </tr>\n",
              "  </thead>\n",
              "  <tbody>\n",
              "    <tr>\n",
              "      <th>0</th>\n",
              "      <td>-1236394515</td>\n",
              "      <td>1</td>\n",
              "    </tr>\n",
              "    <tr>\n",
              "      <th>1</th>\n",
              "      <td>1031</td>\n",
              "      <td>2</td>\n",
              "    </tr>\n",
              "    <tr>\n",
              "      <th>2</th>\n",
              "      <td>4241</td>\n",
              "      <td>2</td>\n",
              "    </tr>\n",
              "    <tr>\n",
              "      <th>3</th>\n",
              "      <td>17311</td>\n",
              "      <td>1</td>\n",
              "    </tr>\n",
              "    <tr>\n",
              "      <th>4</th>\n",
              "      <td>17312</td>\n",
              "      <td>2</td>\n",
              "    </tr>\n",
              "  </tbody>\n",
              "</table>\n",
              "</div>"
            ],
            "text/plain": [
              "      user_id  uniques_brands\n",
              "0 -1236394515               1\n",
              "1        1031               2\n",
              "2        4241               2\n",
              "3       17311               1\n",
              "4       17312               2"
            ]
          },
          "metadata": {
            "tags": []
          },
          "execution_count": 24
        }
      ]
    },
    {
      "cell_type": "code",
      "metadata": {
        "id": "a4pzP2f0p4Rq"
      },
      "source": [
        "loyalty_df = users_purchases.merge(user_unique_brands,on='user_id')\\\n",
        "  .merge(lovely_brand_purchases_df,on='user_id')"
      ],
      "execution_count": null,
      "outputs": []
    },
    {
      "cell_type": "markdown",
      "metadata": {
        "id": "Cn1MgdbIVrvL"
      },
      "source": [
        "#Отбираем всех пользоваталей у которых один уникальный магазин(часто выбираемый)"
      ]
    },
    {
      "cell_type": "markdown",
      "metadata": {
        "id": "QhZn45TIWWoc"
      },
      "source": [
        "loyal_user - лояльные клиенты которые совершают разные покупки которые используют только один бренд "
      ]
    },
    {
      "cell_type": "code",
      "metadata": {
        "colab": {
          "base_uri": "https://localhost:8080/",
          "height": 419
        },
        "id": "7KBnjfO7p4US",
        "outputId": "f5c3e9d6-172a-4f00-c491-1e9da48aa0fc"
      },
      "source": [
        "loyal_user = loyalty_df[loyalty_df['uniques_brands']==1]"
      ],
      "execution_count": null,
      "outputs": [
        {
          "output_type": "execute_result",
          "data": {
            "text/html": [
              "<div>\n",
              "<style scoped>\n",
              "    .dataframe tbody tr th:only-of-type {\n",
              "        vertical-align: middle;\n",
              "    }\n",
              "\n",
              "    .dataframe tbody tr th {\n",
              "        vertical-align: top;\n",
              "    }\n",
              "\n",
              "    .dataframe thead th {\n",
              "        text-align: right;\n",
              "    }\n",
              "</style>\n",
              "<table border=\"1\" class=\"dataframe\">\n",
              "  <thead>\n",
              "    <tr style=\"text-align: right;\">\n",
              "      <th></th>\n",
              "      <th>user_id</th>\n",
              "      <th>purchases</th>\n",
              "      <th>uniques_brands</th>\n",
              "      <th>lovely_brand</th>\n",
              "      <th>lovely_brand_purchases</th>\n",
              "    </tr>\n",
              "  </thead>\n",
              "  <tbody>\n",
              "    <tr>\n",
              "      <th>13</th>\n",
              "      <td>86281</td>\n",
              "      <td>14</td>\n",
              "      <td>1</td>\n",
              "      <td>Brand_4</td>\n",
              "      <td>14</td>\n",
              "    </tr>\n",
              "    <tr>\n",
              "      <th>18</th>\n",
              "      <td>94961</td>\n",
              "      <td>6</td>\n",
              "      <td>1</td>\n",
              "      <td>Brand_4</td>\n",
              "      <td>6</td>\n",
              "    </tr>\n",
              "    <tr>\n",
              "      <th>29</th>\n",
              "      <td>132061</td>\n",
              "      <td>9</td>\n",
              "      <td>1</td>\n",
              "      <td>Brand_4</td>\n",
              "      <td>9</td>\n",
              "    </tr>\n",
              "    <tr>\n",
              "      <th>30</th>\n",
              "      <td>134281</td>\n",
              "      <td>6</td>\n",
              "      <td>1</td>\n",
              "      <td>Brand_4</td>\n",
              "      <td>6</td>\n",
              "    </tr>\n",
              "    <tr>\n",
              "      <th>35</th>\n",
              "      <td>157311</td>\n",
              "      <td>12</td>\n",
              "      <td>1</td>\n",
              "      <td>Brand_4</td>\n",
              "      <td>12</td>\n",
              "    </tr>\n",
              "    <tr>\n",
              "      <th>...</th>\n",
              "      <td>...</td>\n",
              "      <td>...</td>\n",
              "      <td>...</td>\n",
              "      <td>...</td>\n",
              "      <td>...</td>\n",
              "    </tr>\n",
              "    <tr>\n",
              "      <th>3372</th>\n",
              "      <td>1010244089</td>\n",
              "      <td>9</td>\n",
              "      <td>1</td>\n",
              "      <td>Store_Brand</td>\n",
              "      <td>9</td>\n",
              "    </tr>\n",
              "    <tr>\n",
              "      <th>3374</th>\n",
              "      <td>1010247239</td>\n",
              "      <td>5</td>\n",
              "      <td>1</td>\n",
              "      <td>Brand_4</td>\n",
              "      <td>5</td>\n",
              "    </tr>\n",
              "    <tr>\n",
              "      <th>3376</th>\n",
              "      <td>1010274559</td>\n",
              "      <td>5</td>\n",
              "      <td>1</td>\n",
              "      <td>Brand_4</td>\n",
              "      <td>5</td>\n",
              "    </tr>\n",
              "    <tr>\n",
              "      <th>3377</th>\n",
              "      <td>1110091379</td>\n",
              "      <td>5</td>\n",
              "      <td>1</td>\n",
              "      <td>Brand_1</td>\n",
              "      <td>5</td>\n",
              "    </tr>\n",
              "    <tr>\n",
              "      <th>3378</th>\n",
              "      <td>1408767189</td>\n",
              "      <td>5</td>\n",
              "      <td>1</td>\n",
              "      <td>Brand_4</td>\n",
              "      <td>5</td>\n",
              "    </tr>\n",
              "  </tbody>\n",
              "</table>\n",
              "<p>911 rows × 5 columns</p>\n",
              "</div>"
            ],
            "text/plain": [
              "         user_id  purchases  ...  lovely_brand lovely_brand_purchases\n",
              "13         86281         14  ...       Brand_4                     14\n",
              "18         94961          6  ...       Brand_4                      6\n",
              "29        132061          9  ...       Brand_4                      9\n",
              "30        134281          6  ...       Brand_4                      6\n",
              "35        157311         12  ...       Brand_4                     12\n",
              "...          ...        ...  ...           ...                    ...\n",
              "3372  1010244089          9  ...   Store_Brand                      9\n",
              "3374  1010247239          5  ...       Brand_4                      5\n",
              "3376  1010274559          5  ...       Brand_4                      5\n",
              "3377  1110091379          5  ...       Brand_1                      5\n",
              "3378  1408767189          5  ...       Brand_4                      5\n",
              "\n",
              "[911 rows x 5 columns]"
            ]
          },
          "metadata": {
            "tags": []
          },
          "execution_count": 29
        }
      ]
    },
    {
      "cell_type": "markdown",
      "metadata": {
        "id": "j0-_d2afXVz0"
      },
      "source": [
        "посчитаем какая доль покупок пришла на любимый бренд"
      ]
    },
    {
      "cell_type": "code",
      "metadata": {
        "id": "XhZnt8sPp4Ws"
      },
      "source": [
        "loyalty_df['loyalty_score'] = loyalty_df['lovely_brand_purchases']/ loyalty_df['purchases']"
      ],
      "execution_count": null,
      "outputs": []
    },
    {
      "cell_type": "code",
      "metadata": {
        "colab": {
          "base_uri": "https://localhost:8080/",
          "height": 204
        },
        "id": "XnhvzCxFp4ZP",
        "outputId": "de58d84d-d069-47f2-96c8-d4dc294b0c1b"
      },
      "source": [
        "loyalty_df.head()"
      ],
      "execution_count": null,
      "outputs": [
        {
          "output_type": "execute_result",
          "data": {
            "text/html": [
              "<div>\n",
              "<style scoped>\n",
              "    .dataframe tbody tr th:only-of-type {\n",
              "        vertical-align: middle;\n",
              "    }\n",
              "\n",
              "    .dataframe tbody tr th {\n",
              "        vertical-align: top;\n",
              "    }\n",
              "\n",
              "    .dataframe thead th {\n",
              "        text-align: right;\n",
              "    }\n",
              "</style>\n",
              "<table border=\"1\" class=\"dataframe\">\n",
              "  <thead>\n",
              "    <tr style=\"text-align: right;\">\n",
              "      <th></th>\n",
              "      <th>user_id</th>\n",
              "      <th>purchases</th>\n",
              "      <th>uniques_brands</th>\n",
              "      <th>lovely_brand</th>\n",
              "      <th>lovely_brand_purchases</th>\n",
              "      <th>loyalty_score</th>\n",
              "    </tr>\n",
              "  </thead>\n",
              "  <tbody>\n",
              "    <tr>\n",
              "      <th>0</th>\n",
              "      <td>1031</td>\n",
              "      <td>6</td>\n",
              "      <td>2</td>\n",
              "      <td>Store_Brand</td>\n",
              "      <td>5</td>\n",
              "      <td>0.833333</td>\n",
              "    </tr>\n",
              "    <tr>\n",
              "      <th>1</th>\n",
              "      <td>4241</td>\n",
              "      <td>5</td>\n",
              "      <td>2</td>\n",
              "      <td>Brand_4</td>\n",
              "      <td>3</td>\n",
              "      <td>0.600000</td>\n",
              "    </tr>\n",
              "    <tr>\n",
              "      <th>2</th>\n",
              "      <td>25971</td>\n",
              "      <td>7</td>\n",
              "      <td>2</td>\n",
              "      <td>Store_Brand</td>\n",
              "      <td>5</td>\n",
              "      <td>0.714286</td>\n",
              "    </tr>\n",
              "    <tr>\n",
              "      <th>3</th>\n",
              "      <td>40911</td>\n",
              "      <td>27</td>\n",
              "      <td>5</td>\n",
              "      <td>Brand_4</td>\n",
              "      <td>19</td>\n",
              "      <td>0.703704</td>\n",
              "    </tr>\n",
              "    <tr>\n",
              "      <th>4</th>\n",
              "      <td>45181</td>\n",
              "      <td>5</td>\n",
              "      <td>4</td>\n",
              "      <td>Store_Brand</td>\n",
              "      <td>2</td>\n",
              "      <td>0.400000</td>\n",
              "    </tr>\n",
              "  </tbody>\n",
              "</table>\n",
              "</div>"
            ],
            "text/plain": [
              "   user_id  purchases  ...  lovely_brand_purchases loyalty_score\n",
              "0     1031          6  ...                       5      0.833333\n",
              "1     4241          5  ...                       3      0.600000\n",
              "2    25971          7  ...                       5      0.714286\n",
              "3    40911         27  ...                      19      0.703704\n",
              "4    45181          5  ...                       2      0.400000\n",
              "\n",
              "[5 rows x 6 columns]"
            ]
          },
          "metadata": {
            "tags": []
          },
          "execution_count": 31
        }
      ]
    },
    {
      "cell_type": "code",
      "metadata": {
        "colab": {
          "base_uri": "https://localhost:8080/",
          "height": 319
        },
        "id": "2GpPJI0DXqWe",
        "outputId": "ff395f2c-e395-402e-dbb4-44a00002fa54"
      },
      "source": [
        "ax = sns.distplot(x=loyalty_df['loyalty_score'],kde=False)"
      ],
      "execution_count": null,
      "outputs": [
        {
          "output_type": "stream",
          "text": [
            "/usr/local/lib/python3.7/dist-packages/seaborn/distributions.py:2557: FutureWarning: `distplot` is a deprecated function and will be removed in a future version. Please adapt your code to use either `displot` (a figure-level function with similar flexibility) or `histplot` (an axes-level function for histograms).\n",
            "  warnings.warn(msg, FutureWarning)\n"
          ],
          "name": "stderr"
        },
        {
          "output_type": "display_data",
          "data": {
            "image/png": "[encoded data removed]",
            "text/plain": [
              "<Figure size 432x288 with 1 Axes>"
            ]
          },
          "metadata": {
            "tags": [],
            "needs_background": "light"
          }
        }
      ]
    },
    {
      "cell_type": "markdown",
      "metadata": {
        "id": "sdi7YcwtahqC"
      },
      "source": [
        "Посчитаем медианное значение лояльности для разных брендов и количество лояльных клиентов для магазина"
      ]
    },
    {
      "cell_type": "code",
      "metadata": {
        "id": "rRQrsZdqYodY"
      },
      "source": [
        "loyalty_brand = loyalty_df.groupby('lovely_brand',as_index=False)\\\n",
        "  .agg({'loyalty_score':'median','user_id':'count'})\\\n",
        "  .sort_values('loyalty_score',ascending=False)"
      ],
      "execution_count": null,
      "outputs": []
    },
    {
      "cell_type": "code",
      "metadata": {
        "colab": {
          "base_uri": "https://localhost:8080/",
          "height": 266
        },
        "id": "K7c1F3JXbgdC",
        "outputId": "48b6848e-9dba-4116-e802-dbe0d33c0a2e"
      },
      "source": [
        "loyalty_brand"
      ],
      "execution_count": null,
      "outputs": [
        {
          "output_type": "execute_result",
          "data": {
            "text/html": [
              "<div>\n",
              "<style scoped>\n",
              "    .dataframe tbody tr th:only-of-type {\n",
              "        vertical-align: middle;\n",
              "    }\n",
              "\n",
              "    .dataframe tbody tr th {\n",
              "        vertical-align: top;\n",
              "    }\n",
              "\n",
              "    .dataframe thead th {\n",
              "        text-align: right;\n",
              "    }\n",
              "</style>\n",
              "<table border=\"1\" class=\"dataframe\">\n",
              "  <thead>\n",
              "    <tr style=\"text-align: right;\">\n",
              "      <th></th>\n",
              "      <th>lovely_brand</th>\n",
              "      <th>loyalty_score</th>\n",
              "      <th>user_id</th>\n",
              "    </tr>\n",
              "  </thead>\n",
              "  <tbody>\n",
              "    <tr>\n",
              "      <th>3</th>\n",
              "      <td>Brand_4</td>\n",
              "      <td>0.818182</td>\n",
              "      <td>2041</td>\n",
              "    </tr>\n",
              "    <tr>\n",
              "      <th>6</th>\n",
              "      <td>Store_Brand</td>\n",
              "      <td>0.750000</td>\n",
              "      <td>715</td>\n",
              "    </tr>\n",
              "    <tr>\n",
              "      <th>0</th>\n",
              "      <td>Brand_1</td>\n",
              "      <td>0.679487</td>\n",
              "      <td>410</td>\n",
              "    </tr>\n",
              "    <tr>\n",
              "      <th>1</th>\n",
              "      <td>Brand_2</td>\n",
              "      <td>0.600000</td>\n",
              "      <td>88</td>\n",
              "    </tr>\n",
              "    <tr>\n",
              "      <th>4</th>\n",
              "      <td>Brand_5</td>\n",
              "      <td>0.600000</td>\n",
              "      <td>5</td>\n",
              "    </tr>\n",
              "    <tr>\n",
              "      <th>2</th>\n",
              "      <td>Brand_3</td>\n",
              "      <td>0.500000</td>\n",
              "      <td>115</td>\n",
              "    </tr>\n",
              "    <tr>\n",
              "      <th>5</th>\n",
              "      <td>Brand_7</td>\n",
              "      <td>0.444444</td>\n",
              "      <td>9</td>\n",
              "    </tr>\n",
              "  </tbody>\n",
              "</table>\n",
              "</div>"
            ],
            "text/plain": [
              "  lovely_brand  loyalty_score  user_id\n",
              "3      Brand_4       0.818182     2041\n",
              "6  Store_Brand       0.750000      715\n",
              "0      Brand_1       0.679487      410\n",
              "1      Brand_2       0.600000       88\n",
              "4      Brand_5       0.600000        5\n",
              "2      Brand_3       0.500000      115\n",
              "5      Brand_7       0.444444        9"
            ]
          },
          "metadata": {
            "tags": []
          },
          "execution_count": 45
        }
      ]
    },
    {
      "cell_type": "code",
      "metadata": {
        "colab": {
          "base_uri": "https://localhost:8080/",
          "height": 281
        },
        "id": "HCKRXgJfafYe",
        "outputId": "0ad2b020-3467-41c5-b1a7-47da21332e51"
      },
      "source": [
        "sns.barplot(x=loyalty_brand['lovely_brand'],y=loyalty_brand['user_id']);"
      ],
      "execution_count": null,
      "outputs": [
        {
          "output_type": "display_data",
          "data": {
            "image/png": "[encoded data removed]",
            "text/plain": [
              "<Figure size 432x288 with 1 Axes>"
            ]
          },
          "metadata": {
            "tags": [],
            "needs_background": "light"
          }
        }
      ]
    },
    {
      "cell_type": "code",
      "metadata": {
        "id": "WSjQNeLXcAbP"
      },
      "source": [
        ""
      ],
      "execution_count": null,
      "outputs": []
    }
  ]
}