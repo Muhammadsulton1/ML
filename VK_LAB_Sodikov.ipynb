{
  "nbformat": 4,
  "nbformat_minor": 0,
  "metadata": {
    "colab": {
      "provenance": [],
      "mount_file_id": "1lqxWj9t0sgpiyPGg6HW30AV8Q0Bo7N7-",
      "authorship_tag": "ABX9TyNoaWmhGMxheCRghJYJhijO",
      "include_colab_link": true
    },
    "kernelspec": {
      "name": "python3",
      "display_name": "Python 3"
    },
    "language_info": {
      "name": "python"
    },
    "gpuClass": "standard",
    "accelerator": "GPU"
  },
  "cells": [
    {
      "cell_type": "markdown",
      "metadata": {
        "id": "view-in-github",
        "colab_type": "text"
      },
      "source": [
        "<a href=\"https://colab.research.google.com/github/Muhammadsulton1/ML/blob/main/VK_LAB_Sodikov.ipynb\" target=\"_parent\"><img src=\"https://colab.research.google.com/assets/colab-badge.svg\" alt=\"Open In Colab\"/></a>"
      ]
    },
    {
      "cell_type": "markdown",
      "source": [
        "# Опираясь на данную статью \n",
        "https://www.researchgate.net/publication/360410995_A_Topic_Modeling_Comparison_Between_LDA_NMF_Top2Vec_and_BERTopic_to_Demystify_Twitter_Posts\n",
        "#для тематического моделирования будет использоваться BertTopic (минус данного подхода является частая генерация выбросов)"
      ],
      "metadata": {
        "id": "FDldti2VguHa"
      }
    },
    {
      "cell_type": "code",
      "source": [
        " %%capture\n",
        "!pip install bertopic"
      ],
      "metadata": {
        "id": "N2zhJ7sNkCrN"
      },
      "execution_count": null,
      "outputs": []
    },
    {
      "cell_type": "code",
      "source": [
        "pip install sentence-transformers"
      ],
      "metadata": {
        "id": "yS_uX8yT43cV"
      },
      "execution_count": null,
      "outputs": []
    },
    {
      "cell_type": "code",
      "source": [
        "from bertopic import BERTopic\n",
        "import numpy as np\n",
        "import pandas as pd\n",
        "import os\n",
        "import json\n",
        "import re\n",
        "from sklearn.feature_extraction.text import TfidfVectorizer, CountVectorizer\n",
        "from sklearn.decomposition import NMF\n",
        "from sklearn.metrics import f1_score, recall_score, precision_score, accuracy_score, classification_report\n",
        "from sklearn.pipeline import Pipeline\n",
        "from sklearn.model_selection import train_test_split\n",
        "from sklearn.svm import SVC\n",
        "from sklearn.linear_model import LogisticRegression\n",
        "from sklearn.decomposition import TruncatedSVD\n",
        "from sklearn.preprocessing import StandardScaler\n",
        "from sklearn.naive_bayes import GaussianNB, BernoulliNB"
      ],
      "metadata": {
        "id": "WF9GLCDahRVp"
      },
      "execution_count": null,
      "outputs": []
    },
    {
      "cell_type": "code",
      "source": [
        "text = pd.read_json('/content/drive/MyDrive/data.jsonl', lines=True)"
      ],
      "metadata": {
        "id": "HtgEX60glEo9"
      },
      "execution_count": null,
      "outputs": []
    },
    {
      "cell_type": "code",
      "source": [
        "text.head()"
      ],
      "metadata": {
        "colab": {
          "base_uri": "https://localhost:8080/",
          "height": 716
        },
        "id": "lcoSJx0u7_Kj",
        "outputId": "b9436624-8af2-40f6-a937-c678e59004e5"
      },
      "execution_count": null,
      "outputs": [
        {
          "output_type": "execute_result",
          "data": {
            "text/plain": [
              "                                                 0    \\\n",
              "0  [С 1768 года Россия ведёт войну против Османск...   \n",
              "1  [Роль одного из главных злодеев в южнокорейско...   \n",
              "2  [В СССР преуменьшали значение программы ленд-л...   \n",
              "3  [В 1933 году в России началась третья в истори...   \n",
              "4  [В январе 2021 года известный американский вед...   \n",
              "\n",
              "                                                 1    \\\n",
              "0  [В середине января 1770 года корпус генерала Х...   \n",
              "1  [Его персонаж Чан Док Су попал в игру, украв д...   \n",
              "2  [В Российском военно-историческом общества и с...   \n",
              "3  [Мужчин, вступающих в однополые контакты, прир...   \n",
              "4  [За свою 63-летнюю карьеру Кинг взял тысячи ин...   \n",
              "\n",
              "                                                 2    \\\n",
              "0  [Там русскую армию встретил враг, по жестокост...   \n",
              "1  [Он жесток, не боится убивать и предавать — эт...   \n",
              "2  [На деле союзники оказывали Москве не только г...   \n",
              "3  [Их подвергли репрессиям, публично обвиняя в р...   \n",
              "4  [В разное время гостями его шоу были Барак Оба...   \n",
              "\n",
              "                                                 3    \\\n",
              "0  [За зиму она унесла жизни нескольких тысяч сол...   \n",
              "1  [Хо Сон-тхэ — 43 года, он родился в октябре 19...   \n",
              "2  [Некоторые российские историки убеждены, что б...   \n",
              "3  [Мужеложство было уголовно наказуемо на протяж...   \n",
              "4  [Его образ — подтяжки, очки и галстук — копиро...   \n",
              "\n",
              "                                                 4    \\\n",
              "0  [Вскоре эпидемия вспыхнула в близлежащей Польш...   \n",
              "1  [По данным Today, будущий актёр изучал русский...   \n",
              "2  [Американская и британская техника помогала об...   \n",
              "3  [За это время, по разным оценкам, осудили от 2...   \n",
              "4  [Ведущий начинал карьеру с разнорабочего на ра...   \n",
              "\n",
              "                                                 5    \\\n",
              "0  [Несмотря на то, что ещё весной бушующую в Мол...   \n",
              "1  [Свободно владея языком, там он отвечал за про...   \n",
              "2  [А Иосиф Сталин в разговоре с британским премь...   \n",
              "3  [Среди них и известные люди – деятели культуры...   \n",
              "4  [Кинг прославился на американском телевидении ...   \n",
              "\n",
              "                                                 6    \\\n",
              "0  [Распространение чумы продолжилось, и осенью о...   \n",
              "1  [На ток-шоу «Счастливы вместе» Сон-тхэ рассказ...   \n",
              "2  [Больше половины всех грузов по ленд-лизу дост...   \n",
              "3  [Тем поразительнее на фоне антигомосексуальной...   \n",
              "4  [Ларри Кинг определился с будущей профессией с...   \n",
              "\n",
              "                                                 7    \\\n",
              "0  [В течение последующего года количество умерши...   \n",
              "1  [Затем Сон-тхэ перешёл в крупную судостроитель...   \n",
              "2  [Ещё об одном одном важном маршруте — авиатрас...   \n",
              "3  [Приглашение поступило лично от высокопоставле...   \n",
              "4  [В подростковом возрасте ведущий часто ходил в...   \n",
              "\n",
              "                                                 8    \\\n",
              "0  [О том, как изменилась Москва с начала эпидеми...   \n",
              "1  [На этой работе его доход составлял 70 миллион...   \n",
              "2  [11 марта 1941 года президент США Франклин Руз...   \n",
              "3  [Трём представителям организации Homosexuelle ...   \n",
              "4  [В 1942 году семья Ларри оказалась в тяжёлом ф...   \n",
              "\n",
              "                                                 9    ...   691   692   693  \\\n",
              "0  [Найти его уже невозможно – летом-осенью 1770 ...  ...  None  None  None   \n",
              "1  [В 2011 году Сон-тхэ занял пятое место на шоу ...  ...  None  None  None   \n",
              "2  [В Вашингтоне считали, что американская продук...  ...  None  None  None   \n",
              "3  [Их поселили в престижный отель «Метрополь», в...  ...  None  None  None   \n",
              "4  [Матери мальчика пришлось содержать его и млад...  ...  None  None  None   \n",
              "\n",
              "    694   695   696   697   698   699   700  \n",
              "0  None  None  None  None  None  None  None  \n",
              "1  None  None  None  None  None  None  None  \n",
              "2  None  None  None  None  None  None  None  \n",
              "3  None  None  None  None  None  None  None  \n",
              "4  None  None  None  None  None  None  None  \n",
              "\n",
              "[5 rows x 701 columns]"
            ],
            "text/html": [
              "\n",
              "  <div id=\"df-d00e9663-1474-4449-aafd-6ed580d377fe\">\n",
              "    <div class=\"colab-df-container\">\n",
              "      <div>\n",
              "<style scoped>\n",
              "    .dataframe tbody tr th:only-of-type {\n",
              "        vertical-align: middle;\n",
              "    }\n",
              "\n",
              "    .dataframe tbody tr th {\n",
              "        vertical-align: top;\n",
              "    }\n",
              "\n",
              "    .dataframe thead th {\n",
              "        text-align: right;\n",
              "    }\n",
              "</style>\n",
              "<table border=\"1\" class=\"dataframe\">\n",
              "  <thead>\n",
              "    <tr style=\"text-align: right;\">\n",
              "      <th></th>\n",
              "      <th>0</th>\n",
              "      <th>1</th>\n",
              "      <th>2</th>\n",
              "      <th>3</th>\n",
              "      <th>4</th>\n",
              "      <th>5</th>\n",
              "      <th>6</th>\n",
              "      <th>7</th>\n",
              "      <th>8</th>\n",
              "      <th>9</th>\n",
              "      <th>...</th>\n",
              "      <th>691</th>\n",
              "      <th>692</th>\n",
              "      <th>693</th>\n",
              "      <th>694</th>\n",
              "      <th>695</th>\n",
              "      <th>696</th>\n",
              "      <th>697</th>\n",
              "      <th>698</th>\n",
              "      <th>699</th>\n",
              "      <th>700</th>\n",
              "    </tr>\n",
              "  </thead>\n",
              "  <tbody>\n",
              "    <tr>\n",
              "      <th>0</th>\n",
              "      <td>[С 1768 года Россия ведёт войну против Османск...</td>\n",
              "      <td>[В середине января 1770 года корпус генерала Х...</td>\n",
              "      <td>[Там русскую армию встретил враг, по жестокост...</td>\n",
              "      <td>[За зиму она унесла жизни нескольких тысяч сол...</td>\n",
              "      <td>[Вскоре эпидемия вспыхнула в близлежащей Польш...</td>\n",
              "      <td>[Несмотря на то, что ещё весной бушующую в Мол...</td>\n",
              "      <td>[Распространение чумы продолжилось, и осенью о...</td>\n",
              "      <td>[В течение последующего года количество умерши...</td>\n",
              "      <td>[О том, как изменилась Москва с начала эпидеми...</td>\n",
              "      <td>[Найти его уже невозможно – летом-осенью 1770 ...</td>\n",
              "      <td>...</td>\n",
              "      <td>None</td>\n",
              "      <td>None</td>\n",
              "      <td>None</td>\n",
              "      <td>None</td>\n",
              "      <td>None</td>\n",
              "      <td>None</td>\n",
              "      <td>None</td>\n",
              "      <td>None</td>\n",
              "      <td>None</td>\n",
              "      <td>None</td>\n",
              "    </tr>\n",
              "    <tr>\n",
              "      <th>1</th>\n",
              "      <td>[Роль одного из главных злодеев в южнокорейско...</td>\n",
              "      <td>[Его персонаж Чан Док Су попал в игру, украв д...</td>\n",
              "      <td>[Он жесток, не боится убивать и предавать — эт...</td>\n",
              "      <td>[Хо Сон-тхэ — 43 года, он родился в октябре 19...</td>\n",
              "      <td>[По данным Today, будущий актёр изучал русский...</td>\n",
              "      <td>[Свободно владея языком, там он отвечал за про...</td>\n",
              "      <td>[На ток-шоу «Счастливы вместе» Сон-тхэ рассказ...</td>\n",
              "      <td>[Затем Сон-тхэ перешёл в крупную судостроитель...</td>\n",
              "      <td>[На этой работе его доход составлял 70 миллион...</td>\n",
              "      <td>[В 2011 году Сон-тхэ занял пятое место на шоу ...</td>\n",
              "      <td>...</td>\n",
              "      <td>None</td>\n",
              "      <td>None</td>\n",
              "      <td>None</td>\n",
              "      <td>None</td>\n",
              "      <td>None</td>\n",
              "      <td>None</td>\n",
              "      <td>None</td>\n",
              "      <td>None</td>\n",
              "      <td>None</td>\n",
              "      <td>None</td>\n",
              "    </tr>\n",
              "    <tr>\n",
              "      <th>2</th>\n",
              "      <td>[В СССР преуменьшали значение программы ленд-л...</td>\n",
              "      <td>[В Российском военно-историческом общества и с...</td>\n",
              "      <td>[На деле союзники оказывали Москве не только г...</td>\n",
              "      <td>[Некоторые российские историки убеждены, что б...</td>\n",
              "      <td>[Американская и британская техника помогала об...</td>\n",
              "      <td>[А Иосиф Сталин в разговоре с британским премь...</td>\n",
              "      <td>[Больше половины всех грузов по ленд-лизу дост...</td>\n",
              "      <td>[Ещё об одном одном важном маршруте — авиатрас...</td>\n",
              "      <td>[11 марта 1941 года президент США Франклин Руз...</td>\n",
              "      <td>[В Вашингтоне считали, что американская продук...</td>\n",
              "      <td>...</td>\n",
              "      <td>None</td>\n",
              "      <td>None</td>\n",
              "      <td>None</td>\n",
              "      <td>None</td>\n",
              "      <td>None</td>\n",
              "      <td>None</td>\n",
              "      <td>None</td>\n",
              "      <td>None</td>\n",
              "      <td>None</td>\n",
              "      <td>None</td>\n",
              "    </tr>\n",
              "    <tr>\n",
              "      <th>3</th>\n",
              "      <td>[В 1933 году в России началась третья в истори...</td>\n",
              "      <td>[Мужчин, вступающих в однополые контакты, прир...</td>\n",
              "      <td>[Их подвергли репрессиям, публично обвиняя в р...</td>\n",
              "      <td>[Мужеложство было уголовно наказуемо на протяж...</td>\n",
              "      <td>[За это время, по разным оценкам, осудили от 2...</td>\n",
              "      <td>[Среди них и известные люди – деятели культуры...</td>\n",
              "      <td>[Тем поразительнее на фоне антигомосексуальной...</td>\n",
              "      <td>[Приглашение поступило лично от высокопоставле...</td>\n",
              "      <td>[Трём представителям организации Homosexuelle ...</td>\n",
              "      <td>[Их поселили в престижный отель «Метрополь», в...</td>\n",
              "      <td>...</td>\n",
              "      <td>None</td>\n",
              "      <td>None</td>\n",
              "      <td>None</td>\n",
              "      <td>None</td>\n",
              "      <td>None</td>\n",
              "      <td>None</td>\n",
              "      <td>None</td>\n",
              "      <td>None</td>\n",
              "      <td>None</td>\n",
              "      <td>None</td>\n",
              "    </tr>\n",
              "    <tr>\n",
              "      <th>4</th>\n",
              "      <td>[В январе 2021 года известный американский вед...</td>\n",
              "      <td>[За свою 63-летнюю карьеру Кинг взял тысячи ин...</td>\n",
              "      <td>[В разное время гостями его шоу были Барак Оба...</td>\n",
              "      <td>[Его образ — подтяжки, очки и галстук — копиро...</td>\n",
              "      <td>[Ведущий начинал карьеру с разнорабочего на ра...</td>\n",
              "      <td>[Кинг прославился на американском телевидении ...</td>\n",
              "      <td>[Ларри Кинг определился с будущей профессией с...</td>\n",
              "      <td>[В подростковом возрасте ведущий часто ходил в...</td>\n",
              "      <td>[В 1942 году семья Ларри оказалась в тяжёлом ф...</td>\n",
              "      <td>[Матери мальчика пришлось содержать его и млад...</td>\n",
              "      <td>...</td>\n",
              "      <td>None</td>\n",
              "      <td>None</td>\n",
              "      <td>None</td>\n",
              "      <td>None</td>\n",
              "      <td>None</td>\n",
              "      <td>None</td>\n",
              "      <td>None</td>\n",
              "      <td>None</td>\n",
              "      <td>None</td>\n",
              "      <td>None</td>\n",
              "    </tr>\n",
              "  </tbody>\n",
              "</table>\n",
              "<p>5 rows × 701 columns</p>\n",
              "</div>\n",
              "      <button class=\"colab-df-convert\" onclick=\"convertToInteractive('df-d00e9663-1474-4449-aafd-6ed580d377fe')\"\n",
              "              title=\"Convert this dataframe to an interactive table.\"\n",
              "              style=\"display:none;\">\n",
              "        \n",
              "  <svg xmlns=\"http://www.w3.org/2000/svg\" height=\"24px\"viewBox=\"0 0 24 24\"\n",
              "       width=\"24px\">\n",
              "    <path d=\"M0 0h24v24H0V0z\" fill=\"none\"/>\n",
              "    <path d=\"M18.56 5.44l.94 2.06.94-2.06 2.06-.94-2.06-.94-.94-2.06-.94 2.06-2.06.94zm-11 1L8.5 8.5l.94-2.06 2.06-.94-2.06-.94L8.5 2.5l-.94 2.06-2.06.94zm10 10l.94 2.06.94-2.06 2.06-.94-2.06-.94-.94-2.06-.94 2.06-2.06.94z\"/><path d=\"M17.41 7.96l-1.37-1.37c-.4-.4-.92-.59-1.43-.59-.52 0-1.04.2-1.43.59L10.3 9.45l-7.72 7.72c-.78.78-.78 2.05 0 2.83L4 21.41c.39.39.9.59 1.41.59.51 0 1.02-.2 1.41-.59l7.78-7.78 2.81-2.81c.8-.78.8-2.07 0-2.86zM5.41 20L4 18.59l7.72-7.72 1.47 1.35L5.41 20z\"/>\n",
              "  </svg>\n",
              "      </button>\n",
              "      \n",
              "  <style>\n",
              "    .colab-df-container {\n",
              "      display:flex;\n",
              "      flex-wrap:wrap;\n",
              "      gap: 12px;\n",
              "    }\n",
              "\n",
              "    .colab-df-convert {\n",
              "      background-color: #E8F0FE;\n",
              "      border: none;\n",
              "      border-radius: 50%;\n",
              "      cursor: pointer;\n",
              "      display: none;\n",
              "      fill: #1967D2;\n",
              "      height: 32px;\n",
              "      padding: 0 0 0 0;\n",
              "      width: 32px;\n",
              "    }\n",
              "\n",
              "    .colab-df-convert:hover {\n",
              "      background-color: #E2EBFA;\n",
              "      box-shadow: 0px 1px 2px rgba(60, 64, 67, 0.3), 0px 1px 3px 1px rgba(60, 64, 67, 0.15);\n",
              "      fill: #174EA6;\n",
              "    }\n",
              "\n",
              "    [theme=dark] .colab-df-convert {\n",
              "      background-color: #3B4455;\n",
              "      fill: #D2E3FC;\n",
              "    }\n",
              "\n",
              "    [theme=dark] .colab-df-convert:hover {\n",
              "      background-color: #434B5C;\n",
              "      box-shadow: 0px 1px 3px 1px rgba(0, 0, 0, 0.15);\n",
              "      filter: drop-shadow(0px 1px 2px rgba(0, 0, 0, 0.3));\n",
              "      fill: #FFFFFF;\n",
              "    }\n",
              "  </style>\n",
              "\n",
              "      <script>\n",
              "        const buttonEl =\n",
              "          document.querySelector('#df-d00e9663-1474-4449-aafd-6ed580d377fe button.colab-df-convert');\n",
              "        buttonEl.style.display =\n",
              "          google.colab.kernel.accessAllowed ? 'block' : 'none';\n",
              "\n",
              "        async function convertToInteractive(key) {\n",
              "          const element = document.querySelector('#df-d00e9663-1474-4449-aafd-6ed580d377fe');\n",
              "          const dataTable =\n",
              "            await google.colab.kernel.invokeFunction('convertToInteractive',\n",
              "                                                     [key], {});\n",
              "          if (!dataTable) return;\n",
              "\n",
              "          const docLinkHtml = 'Like what you see? Visit the ' +\n",
              "            '<a target=\"_blank\" href=https://colab.research.google.com/notebooks/data_table.ipynb>data table notebook</a>'\n",
              "            + ' to learn more about interactive tables.';\n",
              "          element.innerHTML = '';\n",
              "          dataTable['output_type'] = 'display_data';\n",
              "          await google.colab.output.renderOutput(dataTable, element);\n",
              "          const docLink = document.createElement('div');\n",
              "          docLink.innerHTML = docLinkHtml;\n",
              "          element.appendChild(docLink);\n",
              "        }\n",
              "      </script>\n",
              "    </div>\n",
              "  </div>\n",
              "  "
            ]
          },
          "metadata": {},
          "execution_count": 3
        }
      ]
    },
    {
      "cell_type": "code",
      "source": [
        "print(\"shape of text\")\n",
        "text.shape"
      ],
      "metadata": {
        "colab": {
          "base_uri": "https://localhost:8080/"
        },
        "id": "Z0xmd1718g-V",
        "outputId": "8f878c11-6a8d-410e-b615-4a75d386e8da"
      },
      "execution_count": null,
      "outputs": [
        {
          "output_type": "stream",
          "name": "stdout",
          "text": [
            "shape of text\n"
          ]
        },
        {
          "output_type": "execute_result",
          "data": {
            "text/plain": [
              "(1300, 701)"
            ]
          },
          "metadata": {},
          "execution_count": 4
        }
      ]
    },
    {
      "cell_type": "markdown",
      "source": [
        "#делаем так чтобы каждый текст находился в одной ячейке"
      ],
      "metadata": {
        "id": "3nP1wdq19DFu"
      }
    },
    {
      "cell_type": "code",
      "source": [
        "data = np.array(text.values.tolist())\n",
        "print('shape of data after preprocess', data.shape)"
      ],
      "metadata": {
        "colab": {
          "base_uri": "https://localhost:8080/"
        },
        "id": "urKdf7WM949w",
        "outputId": "6c422a92-79b5-40f3-f1ae-8ad9e27be00d"
      },
      "execution_count": null,
      "outputs": [
        {
          "output_type": "stream",
          "name": "stdout",
          "text": [
            "shape of data after preprocess (1300, 701)\n"
          ]
        },
        {
          "output_type": "stream",
          "name": "stderr",
          "text": [
            "<ipython-input-5-9344f0c84cb1>:1: VisibleDeprecationWarning: Creating an ndarray from ragged nested sequences (which is a list-or-tuple of lists-or-tuples-or ndarrays with different lengths or shapes) is deprecated. If you meant to do this, you must specify 'dtype=object' when creating the ndarray.\n",
            "  data = np.array(text.values.tolist())\n"
          ]
        }
      ]
    },
    {
      "cell_type": "code",
      "source": [
        "data = data.reshape(-1)"
      ],
      "metadata": {
        "id": "C6LweAHe-c6W"
      },
      "execution_count": null,
      "outputs": []
    },
    {
      "cell_type": "code",
      "source": [
        "df = pd.DataFrame({'text':data, 'target':range(len(data))})"
      ],
      "metadata": {
        "id": "ef5ngsWB-xwM"
      },
      "execution_count": null,
      "outputs": []
    },
    {
      "cell_type": "code",
      "source": [
        "df.head()"
      ],
      "metadata": {
        "colab": {
          "base_uri": "https://localhost:8080/",
          "height": 206
        },
        "id": "C0rgV2I6-tVX",
        "outputId": "6f6793f9-ca13-48ba-c83b-b426693e1135"
      },
      "execution_count": null,
      "outputs": [
        {
          "output_type": "execute_result",
          "data": {
            "text/plain": [
              "                                                text  target\n",
              "0  [С 1768 года Россия ведёт войну против Османск...       0\n",
              "1  [В середине января 1770 года корпус генерала Х...       1\n",
              "2  [Там русскую армию встретил враг, по жестокост...       2\n",
              "3  [За зиму она унесла жизни нескольких тысяч сол...       3\n",
              "4  [Вскоре эпидемия вспыхнула в близлежащей Польш...       4"
            ],
            "text/html": [
              "\n",
              "  <div id=\"df-31d26320-a493-4fc6-9545-51f9cc47a83c\">\n",
              "    <div class=\"colab-df-container\">\n",
              "      <div>\n",
              "<style scoped>\n",
              "    .dataframe tbody tr th:only-of-type {\n",
              "        vertical-align: middle;\n",
              "    }\n",
              "\n",
              "    .dataframe tbody tr th {\n",
              "        vertical-align: top;\n",
              "    }\n",
              "\n",
              "    .dataframe thead th {\n",
              "        text-align: right;\n",
              "    }\n",
              "</style>\n",
              "<table border=\"1\" class=\"dataframe\">\n",
              "  <thead>\n",
              "    <tr style=\"text-align: right;\">\n",
              "      <th></th>\n",
              "      <th>text</th>\n",
              "      <th>target</th>\n",
              "    </tr>\n",
              "  </thead>\n",
              "  <tbody>\n",
              "    <tr>\n",
              "      <th>0</th>\n",
              "      <td>[С 1768 года Россия ведёт войну против Османск...</td>\n",
              "      <td>0</td>\n",
              "    </tr>\n",
              "    <tr>\n",
              "      <th>1</th>\n",
              "      <td>[В середине января 1770 года корпус генерала Х...</td>\n",
              "      <td>1</td>\n",
              "    </tr>\n",
              "    <tr>\n",
              "      <th>2</th>\n",
              "      <td>[Там русскую армию встретил враг, по жестокост...</td>\n",
              "      <td>2</td>\n",
              "    </tr>\n",
              "    <tr>\n",
              "      <th>3</th>\n",
              "      <td>[За зиму она унесла жизни нескольких тысяч сол...</td>\n",
              "      <td>3</td>\n",
              "    </tr>\n",
              "    <tr>\n",
              "      <th>4</th>\n",
              "      <td>[Вскоре эпидемия вспыхнула в близлежащей Польш...</td>\n",
              "      <td>4</td>\n",
              "    </tr>\n",
              "  </tbody>\n",
              "</table>\n",
              "</div>\n",
              "      <button class=\"colab-df-convert\" onclick=\"convertToInteractive('df-31d26320-a493-4fc6-9545-51f9cc47a83c')\"\n",
              "              title=\"Convert this dataframe to an interactive table.\"\n",
              "              style=\"display:none;\">\n",
              "        \n",
              "  <svg xmlns=\"http://www.w3.org/2000/svg\" height=\"24px\"viewBox=\"0 0 24 24\"\n",
              "       width=\"24px\">\n",
              "    <path d=\"M0 0h24v24H0V0z\" fill=\"none\"/>\n",
              "    <path d=\"M18.56 5.44l.94 2.06.94-2.06 2.06-.94-2.06-.94-.94-2.06-.94 2.06-2.06.94zm-11 1L8.5 8.5l.94-2.06 2.06-.94-2.06-.94L8.5 2.5l-.94 2.06-2.06.94zm10 10l.94 2.06.94-2.06 2.06-.94-2.06-.94-.94-2.06-.94 2.06-2.06.94z\"/><path d=\"M17.41 7.96l-1.37-1.37c-.4-.4-.92-.59-1.43-.59-.52 0-1.04.2-1.43.59L10.3 9.45l-7.72 7.72c-.78.78-.78 2.05 0 2.83L4 21.41c.39.39.9.59 1.41.59.51 0 1.02-.2 1.41-.59l7.78-7.78 2.81-2.81c.8-.78.8-2.07 0-2.86zM5.41 20L4 18.59l7.72-7.72 1.47 1.35L5.41 20z\"/>\n",
              "  </svg>\n",
              "      </button>\n",
              "      \n",
              "  <style>\n",
              "    .colab-df-container {\n",
              "      display:flex;\n",
              "      flex-wrap:wrap;\n",
              "      gap: 12px;\n",
              "    }\n",
              "\n",
              "    .colab-df-convert {\n",
              "      background-color: #E8F0FE;\n",
              "      border: none;\n",
              "      border-radius: 50%;\n",
              "      cursor: pointer;\n",
              "      display: none;\n",
              "      fill: #1967D2;\n",
              "      height: 32px;\n",
              "      padding: 0 0 0 0;\n",
              "      width: 32px;\n",
              "    }\n",
              "\n",
              "    .colab-df-convert:hover {\n",
              "      background-color: #E2EBFA;\n",
              "      box-shadow: 0px 1px 2px rgba(60, 64, 67, 0.3), 0px 1px 3px 1px rgba(60, 64, 67, 0.15);\n",
              "      fill: #174EA6;\n",
              "    }\n",
              "\n",
              "    [theme=dark] .colab-df-convert {\n",
              "      background-color: #3B4455;\n",
              "      fill: #D2E3FC;\n",
              "    }\n",
              "\n",
              "    [theme=dark] .colab-df-convert:hover {\n",
              "      background-color: #434B5C;\n",
              "      box-shadow: 0px 1px 3px 1px rgba(0, 0, 0, 0.15);\n",
              "      filter: drop-shadow(0px 1px 2px rgba(0, 0, 0, 0.3));\n",
              "      fill: #FFFFFF;\n",
              "    }\n",
              "  </style>\n",
              "\n",
              "      <script>\n",
              "        const buttonEl =\n",
              "          document.querySelector('#df-31d26320-a493-4fc6-9545-51f9cc47a83c button.colab-df-convert');\n",
              "        buttonEl.style.display =\n",
              "          google.colab.kernel.accessAllowed ? 'block' : 'none';\n",
              "\n",
              "        async function convertToInteractive(key) {\n",
              "          const element = document.querySelector('#df-31d26320-a493-4fc6-9545-51f9cc47a83c');\n",
              "          const dataTable =\n",
              "            await google.colab.kernel.invokeFunction('convertToInteractive',\n",
              "                                                     [key], {});\n",
              "          if (!dataTable) return;\n",
              "\n",
              "          const docLinkHtml = 'Like what you see? Visit the ' +\n",
              "            '<a target=\"_blank\" href=https://colab.research.google.com/notebooks/data_table.ipynb>data table notebook</a>'\n",
              "            + ' to learn more about interactive tables.';\n",
              "          element.innerHTML = '';\n",
              "          dataTable['output_type'] = 'display_data';\n",
              "          await google.colab.output.renderOutput(dataTable, element);\n",
              "          const docLink = document.createElement('div');\n",
              "          docLink.innerHTML = docLinkHtml;\n",
              "          element.appendChild(docLink);\n",
              "        }\n",
              "      </script>\n",
              "    </div>\n",
              "  </div>\n",
              "  "
            ]
          },
          "metadata": {},
          "execution_count": 8
        }
      ]
    },
    {
      "cell_type": "code",
      "source": [
        "print(\"% of nans in dataframe\")\n",
        "df.isna().sum() / df.shape[0]"
      ],
      "metadata": {
        "colab": {
          "base_uri": "https://localhost:8080/"
        },
        "id": "UlhOUFAN-8gq",
        "outputId": "cebbdc7a-fd41-4031-a469-69b60f7a603d"
      },
      "execution_count": null,
      "outputs": [
        {
          "output_type": "stream",
          "name": "stdout",
          "text": [
            "% of nans in dataframe\n"
          ]
        },
        {
          "output_type": "execute_result",
          "data": {
            "text/plain": [
              "text      0.87205\n",
              "target    0.00000\n",
              "dtype: float64"
            ]
          },
          "metadata": {},
          "execution_count": 9
        }
      ]
    },
    {
      "cell_type": "code",
      "source": [
        "df.dropna(inplace=True)"
      ],
      "metadata": {
        "id": "FKXlnfMs_GLb"
      },
      "execution_count": null,
      "outputs": []
    },
    {
      "cell_type": "code",
      "source": [
        "print(\"% of nans in dataframe\")\n",
        "df.isna().sum() / df.shape[0]"
      ],
      "metadata": {
        "colab": {
          "base_uri": "https://localhost:8080/"
        },
        "id": "BwcBZC9wm9wS",
        "outputId": "9849c802-2abc-4776-f630-7a11c6904b20"
      },
      "execution_count": null,
      "outputs": [
        {
          "output_type": "stream",
          "name": "stdout",
          "text": [
            "% of nans in dataframe\n"
          ]
        },
        {
          "output_type": "execute_result",
          "data": {
            "text/plain": [
              "text      0.0\n",
              "target    0.0\n",
              "dtype: float64"
            ]
          },
          "metadata": {},
          "execution_count": 11
        }
      ]
    },
    {
      "cell_type": "code",
      "source": [
        "df['text'][1]"
      ],
      "metadata": {
        "colab": {
          "base_uri": "https://localhost:8080/"
        },
        "id": "9R9UFywm_FCs",
        "outputId": "e6053c75-308f-4829-d8d1-4d8e7d3ad1ba"
      },
      "execution_count": null,
      "outputs": [
        {
          "output_type": "execute_result",
          "data": {
            "text/plain": [
              "['В середине января 1770 года корпус генерала Христофора Штофельна, призванный очистить Молдавию и Валахию от турок, разместился в столице Молдавского княжества городе Яссы.',\n",
              " 0]"
            ]
          },
          "metadata": {},
          "execution_count": 12
        }
      ]
    },
    {
      "cell_type": "code",
      "source": [
        "df['target'] = df.apply(lambda x: x['text'][1], axis=1) \n",
        "df['text'] = df.apply(lambda x: x['text'][0], axis=1)"
      ],
      "metadata": {
        "id": "RqYAvMAf_zUu"
      },
      "execution_count": null,
      "outputs": []
    },
    {
      "cell_type": "code",
      "source": [
        "df.head()"
      ],
      "metadata": {
        "colab": {
          "base_uri": "https://localhost:8080/",
          "height": 206
        },
        "id": "MdumWeTmABGW",
        "outputId": "76ba1a54-792f-4b93-899f-658488d27061"
      },
      "execution_count": null,
      "outputs": [
        {
          "output_type": "execute_result",
          "data": {
            "text/plain": [
              "                                                text  target\n",
              "0  С 1768 года Россия ведёт войну против Османско...       1\n",
              "1  В середине января 1770 года корпус генерала Хр...       0\n",
              "2  Там русскую армию встретил враг, по жестокости...       0\n",
              "3  За зиму она унесла жизни нескольких тысяч солдат.       0\n",
              "4  Вскоре эпидемия вспыхнула в близлежащей Польше...       1"
            ],
            "text/html": [
              "\n",
              "  <div id=\"df-f002a976-65be-4b1f-935e-f8b879996e35\">\n",
              "    <div class=\"colab-df-container\">\n",
              "      <div>\n",
              "<style scoped>\n",
              "    .dataframe tbody tr th:only-of-type {\n",
              "        vertical-align: middle;\n",
              "    }\n",
              "\n",
              "    .dataframe tbody tr th {\n",
              "        vertical-align: top;\n",
              "    }\n",
              "\n",
              "    .dataframe thead th {\n",
              "        text-align: right;\n",
              "    }\n",
              "</style>\n",
              "<table border=\"1\" class=\"dataframe\">\n",
              "  <thead>\n",
              "    <tr style=\"text-align: right;\">\n",
              "      <th></th>\n",
              "      <th>text</th>\n",
              "      <th>target</th>\n",
              "    </tr>\n",
              "  </thead>\n",
              "  <tbody>\n",
              "    <tr>\n",
              "      <th>0</th>\n",
              "      <td>С 1768 года Россия ведёт войну против Османско...</td>\n",
              "      <td>1</td>\n",
              "    </tr>\n",
              "    <tr>\n",
              "      <th>1</th>\n",
              "      <td>В середине января 1770 года корпус генерала Хр...</td>\n",
              "      <td>0</td>\n",
              "    </tr>\n",
              "    <tr>\n",
              "      <th>2</th>\n",
              "      <td>Там русскую армию встретил враг, по жестокости...</td>\n",
              "      <td>0</td>\n",
              "    </tr>\n",
              "    <tr>\n",
              "      <th>3</th>\n",
              "      <td>За зиму она унесла жизни нескольких тысяч солдат.</td>\n",
              "      <td>0</td>\n",
              "    </tr>\n",
              "    <tr>\n",
              "      <th>4</th>\n",
              "      <td>Вскоре эпидемия вспыхнула в близлежащей Польше...</td>\n",
              "      <td>1</td>\n",
              "    </tr>\n",
              "  </tbody>\n",
              "</table>\n",
              "</div>\n",
              "      <button class=\"colab-df-convert\" onclick=\"convertToInteractive('df-f002a976-65be-4b1f-935e-f8b879996e35')\"\n",
              "              title=\"Convert this dataframe to an interactive table.\"\n",
              "              style=\"display:none;\">\n",
              "        \n",
              "  <svg xmlns=\"http://www.w3.org/2000/svg\" height=\"24px\"viewBox=\"0 0 24 24\"\n",
              "       width=\"24px\">\n",
              "    <path d=\"M0 0h24v24H0V0z\" fill=\"none\"/>\n",
              "    <path d=\"M18.56 5.44l.94 2.06.94-2.06 2.06-.94-2.06-.94-.94-2.06-.94 2.06-2.06.94zm-11 1L8.5 8.5l.94-2.06 2.06-.94-2.06-.94L8.5 2.5l-.94 2.06-2.06.94zm10 10l.94 2.06.94-2.06 2.06-.94-2.06-.94-.94-2.06-.94 2.06-2.06.94z\"/><path d=\"M17.41 7.96l-1.37-1.37c-.4-.4-.92-.59-1.43-.59-.52 0-1.04.2-1.43.59L10.3 9.45l-7.72 7.72c-.78.78-.78 2.05 0 2.83L4 21.41c.39.39.9.59 1.41.59.51 0 1.02-.2 1.41-.59l7.78-7.78 2.81-2.81c.8-.78.8-2.07 0-2.86zM5.41 20L4 18.59l7.72-7.72 1.47 1.35L5.41 20z\"/>\n",
              "  </svg>\n",
              "      </button>\n",
              "      \n",
              "  <style>\n",
              "    .colab-df-container {\n",
              "      display:flex;\n",
              "      flex-wrap:wrap;\n",
              "      gap: 12px;\n",
              "    }\n",
              "\n",
              "    .colab-df-convert {\n",
              "      background-color: #E8F0FE;\n",
              "      border: none;\n",
              "      border-radius: 50%;\n",
              "      cursor: pointer;\n",
              "      display: none;\n",
              "      fill: #1967D2;\n",
              "      height: 32px;\n",
              "      padding: 0 0 0 0;\n",
              "      width: 32px;\n",
              "    }\n",
              "\n",
              "    .colab-df-convert:hover {\n",
              "      background-color: #E2EBFA;\n",
              "      box-shadow: 0px 1px 2px rgba(60, 64, 67, 0.3), 0px 1px 3px 1px rgba(60, 64, 67, 0.15);\n",
              "      fill: #174EA6;\n",
              "    }\n",
              "\n",
              "    [theme=dark] .colab-df-convert {\n",
              "      background-color: #3B4455;\n",
              "      fill: #D2E3FC;\n",
              "    }\n",
              "\n",
              "    [theme=dark] .colab-df-convert:hover {\n",
              "      background-color: #434B5C;\n",
              "      box-shadow: 0px 1px 3px 1px rgba(0, 0, 0, 0.15);\n",
              "      filter: drop-shadow(0px 1px 2px rgba(0, 0, 0, 0.3));\n",
              "      fill: #FFFFFF;\n",
              "    }\n",
              "  </style>\n",
              "\n",
              "      <script>\n",
              "        const buttonEl =\n",
              "          document.querySelector('#df-f002a976-65be-4b1f-935e-f8b879996e35 button.colab-df-convert');\n",
              "        buttonEl.style.display =\n",
              "          google.colab.kernel.accessAllowed ? 'block' : 'none';\n",
              "\n",
              "        async function convertToInteractive(key) {\n",
              "          const element = document.querySelector('#df-f002a976-65be-4b1f-935e-f8b879996e35');\n",
              "          const dataTable =\n",
              "            await google.colab.kernel.invokeFunction('convertToInteractive',\n",
              "                                                     [key], {});\n",
              "          if (!dataTable) return;\n",
              "\n",
              "          const docLinkHtml = 'Like what you see? Visit the ' +\n",
              "            '<a target=\"_blank\" href=https://colab.research.google.com/notebooks/data_table.ipynb>data table notebook</a>'\n",
              "            + ' to learn more about interactive tables.';\n",
              "          element.innerHTML = '';\n",
              "          dataTable['output_type'] = 'display_data';\n",
              "          await google.colab.output.renderOutput(dataTable, element);\n",
              "          const docLink = document.createElement('div');\n",
              "          docLink.innerHTML = docLinkHtml;\n",
              "          element.appendChild(docLink);\n",
              "        }\n",
              "      </script>\n",
              "    </div>\n",
              "  </div>\n",
              "  "
            ]
          },
          "metadata": {},
          "execution_count": 14
        }
      ]
    },
    {
      "cell_type": "code",
      "source": [
        "df['text'][0]"
      ],
      "metadata": {
        "colab": {
          "base_uri": "https://localhost:8080/",
          "height": 35
        },
        "id": "4XqGjC3oACfG",
        "outputId": "54a14b61-260f-4a19-ebd5-8b9a9c5f7796"
      },
      "execution_count": null,
      "outputs": [
        {
          "output_type": "execute_result",
          "data": {
            "text/plain": [
              "'С 1768 года Россия ведёт войну против Османской империи.'"
            ],
            "application/vnd.google.colaboratory.intrinsic+json": {
              "type": "string"
            }
          },
          "metadata": {},
          "execution_count": 17
        }
      ]
    },
    {
      "cell_type": "markdown",
      "source": [
        "#препроцессинг данных"
      ],
      "metadata": {
        "id": "E1DYVSJ-8S9B"
      }
    },
    {
      "cell_type": "code",
      "source": [
        "def capitalizer(string: str) -> str:\n",
        "    return string.lower()\n",
        "def change_point(x):\n",
        "  return x.replace('.','')\n",
        "def change_coma(x):\n",
        "  return x.replace(',','')\n",
        "def remove_emails(x):\n",
        "     return re.sub(r'([a-z0-9+._-]+@[a-z0-9+._-]+\\.[a-z0-9+_-]+)',\"\", x)\n",
        "def remove_urls(x):\n",
        "    return re.sub(r'(http|https|ftp|ssh)://([\\w_-]+(?:(?:\\.[\\w_-]+)+))([\\w.,@?^=%&:/~+#-]*[\\w@?^=%&/~+#-])?', '' , x)\n",
        "def remove_rt(x):\n",
        "    return re.sub(r'\\brt\\b', '', x).strip()\n",
        "def remove_special_chars(x):\n",
        "    x = re.sub(r'[^\\w ]+', \"\", x)\n",
        "    x = ' '.join(x.split())\n",
        "    return x\n",
        "def remove_digit(x):\n",
        "    return ''.join([i for i in x if not i.isdigit()])"
      ],
      "metadata": {
        "id": "QdQXg0oA8U4V"
      },
      "execution_count": null,
      "outputs": []
    },
    {
      "cell_type": "code",
      "source": [
        "df['text_clean'] = df['text'].apply(lambda x: capitalizer(x))\n",
        "df['text_clean'] = df['text_clean'].apply(lambda x: change_point(x))\n",
        "df['text_clean'] = df['text_clean'].apply(lambda x: change_coma(x))\n",
        "df['text_clean'] = df['text_clean'].apply(lambda x: remove_emails(x))\n",
        "df['text_clean'] = df['text_clean'].apply(lambda x: remove_urls(x))\n",
        "df['text_clean'] = df['text_clean'].apply(lambda x: remove_rt(x))\n",
        "df['text_clean'] = df['text_clean'].apply(lambda x: remove_special_chars(x))\n",
        "df['text_clean'] = df['text_clean'].apply(lambda x: remove_digit(x))"
      ],
      "metadata": {
        "id": "4Q2lkRrP8VWU"
      },
      "execution_count": null,
      "outputs": []
    },
    {
      "cell_type": "code",
      "source": [
        "df.head()"
      ],
      "metadata": {
        "colab": {
          "base_uri": "https://localhost:8080/",
          "height": 206
        },
        "id": "cMUORflM80Ft",
        "outputId": "17bfb958-e934-4553-adaf-79af71b668ef"
      },
      "execution_count": null,
      "outputs": [
        {
          "output_type": "execute_result",
          "data": {
            "text/plain": [
              "                                                text  target  \\\n",
              "0  С 1768 года Россия ведёт войну против Османско...       1   \n",
              "1  В середине января 1770 года корпус генерала Хр...       0   \n",
              "2  Там русскую армию встретил враг, по жестокости...       0   \n",
              "3  За зиму она унесла жизни нескольких тысяч солдат.       0   \n",
              "4  Вскоре эпидемия вспыхнула в близлежащей Польше...       1   \n",
              "\n",
              "                                          text_clean  \n",
              "0  с  года россия ведёт войну против османской им...  \n",
              "1  в середине января  года корпус генерала христо...  \n",
              "2  там русскую армию встретил враг по жестокости ...  \n",
              "3   за зиму она унесла жизни нескольких тысяч солдат  \n",
              "4  вскоре эпидемия вспыхнула в близлежащей польше...  "
            ],
            "text/html": [
              "\n",
              "  <div id=\"df-15ebcaf5-ce27-43d5-8eed-00ed3039e61f\">\n",
              "    <div class=\"colab-df-container\">\n",
              "      <div>\n",
              "<style scoped>\n",
              "    .dataframe tbody tr th:only-of-type {\n",
              "        vertical-align: middle;\n",
              "    }\n",
              "\n",
              "    .dataframe tbody tr th {\n",
              "        vertical-align: top;\n",
              "    }\n",
              "\n",
              "    .dataframe thead th {\n",
              "        text-align: right;\n",
              "    }\n",
              "</style>\n",
              "<table border=\"1\" class=\"dataframe\">\n",
              "  <thead>\n",
              "    <tr style=\"text-align: right;\">\n",
              "      <th></th>\n",
              "      <th>text</th>\n",
              "      <th>target</th>\n",
              "      <th>text_clean</th>\n",
              "    </tr>\n",
              "  </thead>\n",
              "  <tbody>\n",
              "    <tr>\n",
              "      <th>0</th>\n",
              "      <td>С 1768 года Россия ведёт войну против Османско...</td>\n",
              "      <td>1</td>\n",
              "      <td>с  года россия ведёт войну против османской им...</td>\n",
              "    </tr>\n",
              "    <tr>\n",
              "      <th>1</th>\n",
              "      <td>В середине января 1770 года корпус генерала Хр...</td>\n",
              "      <td>0</td>\n",
              "      <td>в середине января  года корпус генерала христо...</td>\n",
              "    </tr>\n",
              "    <tr>\n",
              "      <th>2</th>\n",
              "      <td>Там русскую армию встретил враг, по жестокости...</td>\n",
              "      <td>0</td>\n",
              "      <td>там русскую армию встретил враг по жестокости ...</td>\n",
              "    </tr>\n",
              "    <tr>\n",
              "      <th>3</th>\n",
              "      <td>За зиму она унесла жизни нескольких тысяч солдат.</td>\n",
              "      <td>0</td>\n",
              "      <td>за зиму она унесла жизни нескольких тысяч солдат</td>\n",
              "    </tr>\n",
              "    <tr>\n",
              "      <th>4</th>\n",
              "      <td>Вскоре эпидемия вспыхнула в близлежащей Польше...</td>\n",
              "      <td>1</td>\n",
              "      <td>вскоре эпидемия вспыхнула в близлежащей польше...</td>\n",
              "    </tr>\n",
              "  </tbody>\n",
              "</table>\n",
              "</div>\n",
              "      <button class=\"colab-df-convert\" onclick=\"convertToInteractive('df-15ebcaf5-ce27-43d5-8eed-00ed3039e61f')\"\n",
              "              title=\"Convert this dataframe to an interactive table.\"\n",
              "              style=\"display:none;\">\n",
              "        \n",
              "  <svg xmlns=\"http://www.w3.org/2000/svg\" height=\"24px\"viewBox=\"0 0 24 24\"\n",
              "       width=\"24px\">\n",
              "    <path d=\"M0 0h24v24H0V0z\" fill=\"none\"/>\n",
              "    <path d=\"M18.56 5.44l.94 2.06.94-2.06 2.06-.94-2.06-.94-.94-2.06-.94 2.06-2.06.94zm-11 1L8.5 8.5l.94-2.06 2.06-.94-2.06-.94L8.5 2.5l-.94 2.06-2.06.94zm10 10l.94 2.06.94-2.06 2.06-.94-2.06-.94-.94-2.06-.94 2.06-2.06.94z\"/><path d=\"M17.41 7.96l-1.37-1.37c-.4-.4-.92-.59-1.43-.59-.52 0-1.04.2-1.43.59L10.3 9.45l-7.72 7.72c-.78.78-.78 2.05 0 2.83L4 21.41c.39.39.9.59 1.41.59.51 0 1.02-.2 1.41-.59l7.78-7.78 2.81-2.81c.8-.78.8-2.07 0-2.86zM5.41 20L4 18.59l7.72-7.72 1.47 1.35L5.41 20z\"/>\n",
              "  </svg>\n",
              "      </button>\n",
              "      \n",
              "  <style>\n",
              "    .colab-df-container {\n",
              "      display:flex;\n",
              "      flex-wrap:wrap;\n",
              "      gap: 12px;\n",
              "    }\n",
              "\n",
              "    .colab-df-convert {\n",
              "      background-color: #E8F0FE;\n",
              "      border: none;\n",
              "      border-radius: 50%;\n",
              "      cursor: pointer;\n",
              "      display: none;\n",
              "      fill: #1967D2;\n",
              "      height: 32px;\n",
              "      padding: 0 0 0 0;\n",
              "      width: 32px;\n",
              "    }\n",
              "\n",
              "    .colab-df-convert:hover {\n",
              "      background-color: #E2EBFA;\n",
              "      box-shadow: 0px 1px 2px rgba(60, 64, 67, 0.3), 0px 1px 3px 1px rgba(60, 64, 67, 0.15);\n",
              "      fill: #174EA6;\n",
              "    }\n",
              "\n",
              "    [theme=dark] .colab-df-convert {\n",
              "      background-color: #3B4455;\n",
              "      fill: #D2E3FC;\n",
              "    }\n",
              "\n",
              "    [theme=dark] .colab-df-convert:hover {\n",
              "      background-color: #434B5C;\n",
              "      box-shadow: 0px 1px 3px 1px rgba(0, 0, 0, 0.15);\n",
              "      filter: drop-shadow(0px 1px 2px rgba(0, 0, 0, 0.3));\n",
              "      fill: #FFFFFF;\n",
              "    }\n",
              "  </style>\n",
              "\n",
              "      <script>\n",
              "        const buttonEl =\n",
              "          document.querySelector('#df-15ebcaf5-ce27-43d5-8eed-00ed3039e61f button.colab-df-convert');\n",
              "        buttonEl.style.display =\n",
              "          google.colab.kernel.accessAllowed ? 'block' : 'none';\n",
              "\n",
              "        async function convertToInteractive(key) {\n",
              "          const element = document.querySelector('#df-15ebcaf5-ce27-43d5-8eed-00ed3039e61f');\n",
              "          const dataTable =\n",
              "            await google.colab.kernel.invokeFunction('convertToInteractive',\n",
              "                                                     [key], {});\n",
              "          if (!dataTable) return;\n",
              "\n",
              "          const docLinkHtml = 'Like what you see? Visit the ' +\n",
              "            '<a target=\"_blank\" href=https://colab.research.google.com/notebooks/data_table.ipynb>data table notebook</a>'\n",
              "            + ' to learn more about interactive tables.';\n",
              "          element.innerHTML = '';\n",
              "          dataTable['output_type'] = 'display_data';\n",
              "          await google.colab.output.renderOutput(dataTable, element);\n",
              "          const docLink = document.createElement('div');\n",
              "          docLink.innerHTML = docLinkHtml;\n",
              "          element.appendChild(docLink);\n",
              "        }\n",
              "      </script>\n",
              "    </div>\n",
              "  </div>\n",
              "  "
            ]
          },
          "metadata": {},
          "execution_count": 22
        }
      ]
    },
    {
      "cell_type": "code",
      "source": [
        "from nltk.tokenize import word_tokenize\n",
        "import nltk\n",
        "nltk.download('punkt')"
      ],
      "metadata": {
        "colab": {
          "base_uri": "https://localhost:8080/"
        },
        "id": "-dieXG8NDUk8",
        "outputId": "def47ff5-5fe0-48d7-af19-3aea3e842b73"
      },
      "execution_count": null,
      "outputs": [
        {
          "output_type": "stream",
          "name": "stderr",
          "text": [
            "[nltk_data] Downloading package punkt to /root/nltk_data...\n",
            "[nltk_data]   Package punkt is already up-to-date!\n"
          ]
        },
        {
          "output_type": "execute_result",
          "data": {
            "text/plain": [
              "True"
            ]
          },
          "metadata": {},
          "execution_count": 16
        }
      ]
    },
    {
      "cell_type": "code",
      "source": [
        "from nltk.corpus import stopwords\n",
        "nltk.download('stopwords')"
      ],
      "metadata": {
        "colab": {
          "base_uri": "https://localhost:8080/"
        },
        "id": "romyTGO8DUnm",
        "outputId": "f6c86c6b-b488-48c6-ef07-1f8fe44c9295"
      },
      "execution_count": null,
      "outputs": [
        {
          "output_type": "stream",
          "name": "stderr",
          "text": [
            "[nltk_data] Downloading package stopwords to /root/nltk_data...\n",
            "[nltk_data]   Package stopwords is already up-to-date!\n"
          ]
        },
        {
          "output_type": "execute_result",
          "data": {
            "text/plain": [
              "True"
            ]
          },
          "metadata": {},
          "execution_count": 17
        }
      ]
    },
    {
      "cell_type": "code",
      "source": [
        "stop_words = stopwords.words('russian')"
      ],
      "metadata": {
        "id": "VfaWksW0DoJ7"
      },
      "execution_count": null,
      "outputs": []
    },
    {
      "cell_type": "code",
      "source": [
        "#токенизация текста\n",
        "df = df.assign(text_tokenize = df['text_clean'].apply(word_tokenize))"
      ],
      "metadata": {
        "id": "7sQrHecHD5L0"
      },
      "execution_count": null,
      "outputs": []
    },
    {
      "cell_type": "code",
      "source": [
        "df['text_tokenize'] = df['text_tokenize'].apply(lambda x: [item for item in x if item not in stop_words])"
      ],
      "metadata": {
        "id": "d6rTqVkMDUqD"
      },
      "execution_count": null,
      "outputs": []
    },
    {
      "cell_type": "code",
      "source": [
        "df['text_tokenize'] = df['text_tokenize'].apply(lambda x: ' '.join(x))"
      ],
      "metadata": {
        "id": "qhkwIcZRDiFb"
      },
      "execution_count": null,
      "outputs": []
    },
    {
      "cell_type": "code",
      "source": [
        "df.head()"
      ],
      "metadata": {
        "colab": {
          "base_uri": "https://localhost:8080/",
          "height": 267
        },
        "id": "1cNAWQ0zMB6N",
        "outputId": "63337b3a-35b4-40c6-fe16-e76f5aa7f68e"
      },
      "execution_count": null,
      "outputs": [
        {
          "output_type": "execute_result",
          "data": {
            "text/plain": [
              "                                                text  target  \\\n",
              "0  С 1768 года Россия ведёт войну против Османско...       1   \n",
              "1  В середине января 1770 года корпус генерала Хр...       0   \n",
              "2  Там русскую армию встретил враг, по жестокости...       0   \n",
              "3  За зиму она унесла жизни нескольких тысяч солдат.       0   \n",
              "4  Вскоре эпидемия вспыхнула в близлежащей Польше...       1   \n",
              "\n",
              "                                          text_clean  \\\n",
              "0  с  года россия ведёт войну против османской им...   \n",
              "1  в середине января  года корпус генерала христо...   \n",
              "2  там русскую армию встретил враг по жестокости ...   \n",
              "3   за зиму она унесла жизни нескольких тысяч солдат   \n",
              "4  вскоре эпидемия вспыхнула в близлежащей польше...   \n",
              "\n",
              "                                       text_tokenize  \n",
              "0   года россия ведёт войну против османской империи  \n",
              "1  середине января года корпус генерала христофор...  \n",
              "2  русскую армию встретил враг жестокости уступаю...  \n",
              "3          зиму унесла жизни нескольких тысяч солдат  \n",
              "4  вскоре эпидемия вспыхнула близлежащей польше а...  "
            ],
            "text/html": [
              "\n",
              "  <div id=\"df-f1d0f62a-b44c-4662-91ce-f671998312ed\">\n",
              "    <div class=\"colab-df-container\">\n",
              "      <div>\n",
              "<style scoped>\n",
              "    .dataframe tbody tr th:only-of-type {\n",
              "        vertical-align: middle;\n",
              "    }\n",
              "\n",
              "    .dataframe tbody tr th {\n",
              "        vertical-align: top;\n",
              "    }\n",
              "\n",
              "    .dataframe thead th {\n",
              "        text-align: right;\n",
              "    }\n",
              "</style>\n",
              "<table border=\"1\" class=\"dataframe\">\n",
              "  <thead>\n",
              "    <tr style=\"text-align: right;\">\n",
              "      <th></th>\n",
              "      <th>text</th>\n",
              "      <th>target</th>\n",
              "      <th>text_clean</th>\n",
              "      <th>text_tokenize</th>\n",
              "    </tr>\n",
              "  </thead>\n",
              "  <tbody>\n",
              "    <tr>\n",
              "      <th>0</th>\n",
              "      <td>С 1768 года Россия ведёт войну против Османско...</td>\n",
              "      <td>1</td>\n",
              "      <td>с  года россия ведёт войну против османской им...</td>\n",
              "      <td>года россия ведёт войну против османской империи</td>\n",
              "    </tr>\n",
              "    <tr>\n",
              "      <th>1</th>\n",
              "      <td>В середине января 1770 года корпус генерала Хр...</td>\n",
              "      <td>0</td>\n",
              "      <td>в середине января  года корпус генерала христо...</td>\n",
              "      <td>середине января года корпус генерала христофор...</td>\n",
              "    </tr>\n",
              "    <tr>\n",
              "      <th>2</th>\n",
              "      <td>Там русскую армию встретил враг, по жестокости...</td>\n",
              "      <td>0</td>\n",
              "      <td>там русскую армию встретил враг по жестокости ...</td>\n",
              "      <td>русскую армию встретил враг жестокости уступаю...</td>\n",
              "    </tr>\n",
              "    <tr>\n",
              "      <th>3</th>\n",
              "      <td>За зиму она унесла жизни нескольких тысяч солдат.</td>\n",
              "      <td>0</td>\n",
              "      <td>за зиму она унесла жизни нескольких тысяч солдат</td>\n",
              "      <td>зиму унесла жизни нескольких тысяч солдат</td>\n",
              "    </tr>\n",
              "    <tr>\n",
              "      <th>4</th>\n",
              "      <td>Вскоре эпидемия вспыхнула в близлежащей Польше...</td>\n",
              "      <td>1</td>\n",
              "      <td>вскоре эпидемия вспыхнула в близлежащей польше...</td>\n",
              "      <td>вскоре эпидемия вспыхнула близлежащей польше а...</td>\n",
              "    </tr>\n",
              "  </tbody>\n",
              "</table>\n",
              "</div>\n",
              "      <button class=\"colab-df-convert\" onclick=\"convertToInteractive('df-f1d0f62a-b44c-4662-91ce-f671998312ed')\"\n",
              "              title=\"Convert this dataframe to an interactive table.\"\n",
              "              style=\"display:none;\">\n",
              "        \n",
              "  <svg xmlns=\"http://www.w3.org/2000/svg\" height=\"24px\"viewBox=\"0 0 24 24\"\n",
              "       width=\"24px\">\n",
              "    <path d=\"M0 0h24v24H0V0z\" fill=\"none\"/>\n",
              "    <path d=\"M18.56 5.44l.94 2.06.94-2.06 2.06-.94-2.06-.94-.94-2.06-.94 2.06-2.06.94zm-11 1L8.5 8.5l.94-2.06 2.06-.94-2.06-.94L8.5 2.5l-.94 2.06-2.06.94zm10 10l.94 2.06.94-2.06 2.06-.94-2.06-.94-.94-2.06-.94 2.06-2.06.94z\"/><path d=\"M17.41 7.96l-1.37-1.37c-.4-.4-.92-.59-1.43-.59-.52 0-1.04.2-1.43.59L10.3 9.45l-7.72 7.72c-.78.78-.78 2.05 0 2.83L4 21.41c.39.39.9.59 1.41.59.51 0 1.02-.2 1.41-.59l7.78-7.78 2.81-2.81c.8-.78.8-2.07 0-2.86zM5.41 20L4 18.59l7.72-7.72 1.47 1.35L5.41 20z\"/>\n",
              "  </svg>\n",
              "      </button>\n",
              "      \n",
              "  <style>\n",
              "    .colab-df-container {\n",
              "      display:flex;\n",
              "      flex-wrap:wrap;\n",
              "      gap: 12px;\n",
              "    }\n",
              "\n",
              "    .colab-df-convert {\n",
              "      background-color: #E8F0FE;\n",
              "      border: none;\n",
              "      border-radius: 50%;\n",
              "      cursor: pointer;\n",
              "      display: none;\n",
              "      fill: #1967D2;\n",
              "      height: 32px;\n",
              "      padding: 0 0 0 0;\n",
              "      width: 32px;\n",
              "    }\n",
              "\n",
              "    .colab-df-convert:hover {\n",
              "      background-color: #E2EBFA;\n",
              "      box-shadow: 0px 1px 2px rgba(60, 64, 67, 0.3), 0px 1px 3px 1px rgba(60, 64, 67, 0.15);\n",
              "      fill: #174EA6;\n",
              "    }\n",
              "\n",
              "    [theme=dark] .colab-df-convert {\n",
              "      background-color: #3B4455;\n",
              "      fill: #D2E3FC;\n",
              "    }\n",
              "\n",
              "    [theme=dark] .colab-df-convert:hover {\n",
              "      background-color: #434B5C;\n",
              "      box-shadow: 0px 1px 3px 1px rgba(0, 0, 0, 0.15);\n",
              "      filter: drop-shadow(0px 1px 2px rgba(0, 0, 0, 0.3));\n",
              "      fill: #FFFFFF;\n",
              "    }\n",
              "  </style>\n",
              "\n",
              "      <script>\n",
              "        const buttonEl =\n",
              "          document.querySelector('#df-f1d0f62a-b44c-4662-91ce-f671998312ed button.colab-df-convert');\n",
              "        buttonEl.style.display =\n",
              "          google.colab.kernel.accessAllowed ? 'block' : 'none';\n",
              "\n",
              "        async function convertToInteractive(key) {\n",
              "          const element = document.querySelector('#df-f1d0f62a-b44c-4662-91ce-f671998312ed');\n",
              "          const dataTable =\n",
              "            await google.colab.kernel.invokeFunction('convertToInteractive',\n",
              "                                                     [key], {});\n",
              "          if (!dataTable) return;\n",
              "\n",
              "          const docLinkHtml = 'Like what you see? Visit the ' +\n",
              "            '<a target=\"_blank\" href=https://colab.research.google.com/notebooks/data_table.ipynb>data table notebook</a>'\n",
              "            + ' to learn more about interactive tables.';\n",
              "          element.innerHTML = '';\n",
              "          dataTable['output_type'] = 'display_data';\n",
              "          await google.colab.output.renderOutput(dataTable, element);\n",
              "          const docLink = document.createElement('div');\n",
              "          docLink.innerHTML = docLinkHtml;\n",
              "          element.appendChild(docLink);\n",
              "        }\n",
              "      </script>\n",
              "    </div>\n",
              "  </div>\n",
              "  "
            ]
          },
          "metadata": {},
          "execution_count": 26
        }
      ]
    },
    {
      "cell_type": "code",
      "source": [
        "df_nfm = df.copy()"
      ],
      "metadata": {
        "id": "4ROUCs82X8GA"
      },
      "execution_count": null,
      "outputs": []
    },
    {
      "cell_type": "code",
      "source": [
        "# from pymystem3 import Mystem"
      ],
      "metadata": {
        "id": "ZJ9BxsgGDUs3"
      },
      "execution_count": null,
      "outputs": []
    },
    {
      "cell_type": "code",
      "source": [
        "# m = Mystem()\n",
        "# df['text_tokenize'] = df['text_tokenize'].apply(lambda x: m.lemmatize(x))"
      ],
      "metadata": {
        "id": "uJEJa056DUxz"
      },
      "execution_count": null,
      "outputs": []
    },
    {
      "cell_type": "code",
      "source": [
        "df.head()"
      ],
      "metadata": {
        "colab": {
          "base_uri": "https://localhost:8080/",
          "height": 267
        },
        "id": "0D5seqXqEoN4",
        "outputId": "e75731ca-ce7b-4a17-cfb8-260a93163493"
      },
      "execution_count": null,
      "outputs": [
        {
          "output_type": "execute_result",
          "data": {
            "text/plain": [
              "                                                text  target  \\\n",
              "0  С 1768 года Россия ведёт войну против Османско...       1   \n",
              "1  В середине января 1770 года корпус генерала Хр...       0   \n",
              "2  Там русскую армию встретил враг, по жестокости...       0   \n",
              "3  За зиму она унесла жизни нескольких тысяч солдат.       0   \n",
              "4  Вскоре эпидемия вспыхнула в близлежащей Польше...       1   \n",
              "\n",
              "                                          text_clean  \\\n",
              "0  с  года россия ведёт войну против османской им...   \n",
              "1  в середине января  года корпус генерала христо...   \n",
              "2  там русскую армию встретил враг по жестокости ...   \n",
              "3   за зиму она унесла жизни нескольких тысяч солдат   \n",
              "4  вскоре эпидемия вспыхнула в близлежащей польше...   \n",
              "\n",
              "                                       text_tokenize  \n",
              "0   года россия ведёт войну против османской империи  \n",
              "1  середине января года корпус генерала христофор...  \n",
              "2  русскую армию встретил враг жестокости уступаю...  \n",
              "3          зиму унесла жизни нескольких тысяч солдат  \n",
              "4  вскоре эпидемия вспыхнула близлежащей польше а...  "
            ],
            "text/html": [
              "\n",
              "  <div id=\"df-e4bbbb31-58d4-44c1-a711-18b4b086d9fa\">\n",
              "    <div class=\"colab-df-container\">\n",
              "      <div>\n",
              "<style scoped>\n",
              "    .dataframe tbody tr th:only-of-type {\n",
              "        vertical-align: middle;\n",
              "    }\n",
              "\n",
              "    .dataframe tbody tr th {\n",
              "        vertical-align: top;\n",
              "    }\n",
              "\n",
              "    .dataframe thead th {\n",
              "        text-align: right;\n",
              "    }\n",
              "</style>\n",
              "<table border=\"1\" class=\"dataframe\">\n",
              "  <thead>\n",
              "    <tr style=\"text-align: right;\">\n",
              "      <th></th>\n",
              "      <th>text</th>\n",
              "      <th>target</th>\n",
              "      <th>text_clean</th>\n",
              "      <th>text_tokenize</th>\n",
              "    </tr>\n",
              "  </thead>\n",
              "  <tbody>\n",
              "    <tr>\n",
              "      <th>0</th>\n",
              "      <td>С 1768 года Россия ведёт войну против Османско...</td>\n",
              "      <td>1</td>\n",
              "      <td>с  года россия ведёт войну против османской им...</td>\n",
              "      <td>года россия ведёт войну против османской империи</td>\n",
              "    </tr>\n",
              "    <tr>\n",
              "      <th>1</th>\n",
              "      <td>В середине января 1770 года корпус генерала Хр...</td>\n",
              "      <td>0</td>\n",
              "      <td>в середине января  года корпус генерала христо...</td>\n",
              "      <td>середине января года корпус генерала христофор...</td>\n",
              "    </tr>\n",
              "    <tr>\n",
              "      <th>2</th>\n",
              "      <td>Там русскую армию встретил враг, по жестокости...</td>\n",
              "      <td>0</td>\n",
              "      <td>там русскую армию встретил враг по жестокости ...</td>\n",
              "      <td>русскую армию встретил враг жестокости уступаю...</td>\n",
              "    </tr>\n",
              "    <tr>\n",
              "      <th>3</th>\n",
              "      <td>За зиму она унесла жизни нескольких тысяч солдат.</td>\n",
              "      <td>0</td>\n",
              "      <td>за зиму она унесла жизни нескольких тысяч солдат</td>\n",
              "      <td>зиму унесла жизни нескольких тысяч солдат</td>\n",
              "    </tr>\n",
              "    <tr>\n",
              "      <th>4</th>\n",
              "      <td>Вскоре эпидемия вспыхнула в близлежащей Польше...</td>\n",
              "      <td>1</td>\n",
              "      <td>вскоре эпидемия вспыхнула в близлежащей польше...</td>\n",
              "      <td>вскоре эпидемия вспыхнула близлежащей польше а...</td>\n",
              "    </tr>\n",
              "  </tbody>\n",
              "</table>\n",
              "</div>\n",
              "      <button class=\"colab-df-convert\" onclick=\"convertToInteractive('df-e4bbbb31-58d4-44c1-a711-18b4b086d9fa')\"\n",
              "              title=\"Convert this dataframe to an interactive table.\"\n",
              "              style=\"display:none;\">\n",
              "        \n",
              "  <svg xmlns=\"http://www.w3.org/2000/svg\" height=\"24px\"viewBox=\"0 0 24 24\"\n",
              "       width=\"24px\">\n",
              "    <path d=\"M0 0h24v24H0V0z\" fill=\"none\"/>\n",
              "    <path d=\"M18.56 5.44l.94 2.06.94-2.06 2.06-.94-2.06-.94-.94-2.06-.94 2.06-2.06.94zm-11 1L8.5 8.5l.94-2.06 2.06-.94-2.06-.94L8.5 2.5l-.94 2.06-2.06.94zm10 10l.94 2.06.94-2.06 2.06-.94-2.06-.94-.94-2.06-.94 2.06-2.06.94z\"/><path d=\"M17.41 7.96l-1.37-1.37c-.4-.4-.92-.59-1.43-.59-.52 0-1.04.2-1.43.59L10.3 9.45l-7.72 7.72c-.78.78-.78 2.05 0 2.83L4 21.41c.39.39.9.59 1.41.59.51 0 1.02-.2 1.41-.59l7.78-7.78 2.81-2.81c.8-.78.8-2.07 0-2.86zM5.41 20L4 18.59l7.72-7.72 1.47 1.35L5.41 20z\"/>\n",
              "  </svg>\n",
              "      </button>\n",
              "      \n",
              "  <style>\n",
              "    .colab-df-container {\n",
              "      display:flex;\n",
              "      flex-wrap:wrap;\n",
              "      gap: 12px;\n",
              "    }\n",
              "\n",
              "    .colab-df-convert {\n",
              "      background-color: #E8F0FE;\n",
              "      border: none;\n",
              "      border-radius: 50%;\n",
              "      cursor: pointer;\n",
              "      display: none;\n",
              "      fill: #1967D2;\n",
              "      height: 32px;\n",
              "      padding: 0 0 0 0;\n",
              "      width: 32px;\n",
              "    }\n",
              "\n",
              "    .colab-df-convert:hover {\n",
              "      background-color: #E2EBFA;\n",
              "      box-shadow: 0px 1px 2px rgba(60, 64, 67, 0.3), 0px 1px 3px 1px rgba(60, 64, 67, 0.15);\n",
              "      fill: #174EA6;\n",
              "    }\n",
              "\n",
              "    [theme=dark] .colab-df-convert {\n",
              "      background-color: #3B4455;\n",
              "      fill: #D2E3FC;\n",
              "    }\n",
              "\n",
              "    [theme=dark] .colab-df-convert:hover {\n",
              "      background-color: #434B5C;\n",
              "      box-shadow: 0px 1px 3px 1px rgba(0, 0, 0, 0.15);\n",
              "      filter: drop-shadow(0px 1px 2px rgba(0, 0, 0, 0.3));\n",
              "      fill: #FFFFFF;\n",
              "    }\n",
              "  </style>\n",
              "\n",
              "      <script>\n",
              "        const buttonEl =\n",
              "          document.querySelector('#df-e4bbbb31-58d4-44c1-a711-18b4b086d9fa button.colab-df-convert');\n",
              "        buttonEl.style.display =\n",
              "          google.colab.kernel.accessAllowed ? 'block' : 'none';\n",
              "\n",
              "        async function convertToInteractive(key) {\n",
              "          const element = document.querySelector('#df-e4bbbb31-58d4-44c1-a711-18b4b086d9fa');\n",
              "          const dataTable =\n",
              "            await google.colab.kernel.invokeFunction('convertToInteractive',\n",
              "                                                     [key], {});\n",
              "          if (!dataTable) return;\n",
              "\n",
              "          const docLinkHtml = 'Like what you see? Visit the ' +\n",
              "            '<a target=\"_blank\" href=https://colab.research.google.com/notebooks/data_table.ipynb>data table notebook</a>'\n",
              "            + ' to learn more about interactive tables.';\n",
              "          element.innerHTML = '';\n",
              "          dataTable['output_type'] = 'display_data';\n",
              "          await google.colab.output.renderOutput(dataTable, element);\n",
              "          const docLink = document.createElement('div');\n",
              "          docLink.innerHTML = docLinkHtml;\n",
              "          element.appendChild(docLink);\n",
              "        }\n",
              "      </script>\n",
              "    </div>\n",
              "  </div>\n",
              "  "
            ]
          },
          "metadata": {},
          "execution_count": 31
        }
      ]
    },
    {
      "cell_type": "code",
      "source": [
        "# df['text_tokenize'] = df['text_tokenize'].apply(lambda x: ' '.join(x))"
      ],
      "metadata": {
        "id": "wKAWOcAOEoQS"
      },
      "execution_count": null,
      "outputs": []
    },
    {
      "cell_type": "code",
      "source": [
        "from sentence_transformers import SentenceTransformer\n",
        "\n",
        "sentence_model = SentenceTransformer(\"distiluse-base-multilingual-cased-v1\", device=\"cuda\")\n",
        "topic_model = BERTopic(embedding_model=sentence_model, verbose=True)"
      ],
      "metadata": {
        "colab": {
          "base_uri": "https://localhost:8080/",
          "height": 201
        },
        "id": "lGnHHowU4Vnt",
        "outputId": "f81bd406-1095-405b-ed60-af709ac90006"
      },
      "execution_count": null,
      "outputs": [
        {
          "output_type": "error",
          "ename": "NameError",
          "evalue": "ignored",
          "traceback": [
            "\u001b[0;31m---------------------------------------------------------------------------\u001b[0m",
            "\u001b[0;31mNameError\u001b[0m                                 Traceback (most recent call last)",
            "\u001b[0;32m<ipython-input-33-0573471185e4>\u001b[0m in \u001b[0;36m<module>\u001b[0;34m\u001b[0m\n\u001b[1;32m      2\u001b[0m \u001b[0;34m\u001b[0m\u001b[0m\n\u001b[1;32m      3\u001b[0m \u001b[0msentence_model\u001b[0m \u001b[0;34m=\u001b[0m \u001b[0mSentenceTransformer\u001b[0m\u001b[0;34m(\u001b[0m\u001b[0;34m\"distiluse-base-multilingual-cased-v1\"\u001b[0m\u001b[0;34m,\u001b[0m \u001b[0mdevice\u001b[0m\u001b[0;34m=\u001b[0m\u001b[0;34m\"cpu\"\u001b[0m\u001b[0;34m)\u001b[0m\u001b[0;34m\u001b[0m\u001b[0;34m\u001b[0m\u001b[0m\n\u001b[0;32m----> 4\u001b[0;31m \u001b[0mtopic_model\u001b[0m \u001b[0;34m=\u001b[0m \u001b[0mBERTopic\u001b[0m\u001b[0;34m(\u001b[0m\u001b[0membedding_model\u001b[0m\u001b[0;34m=\u001b[0m\u001b[0msentence_model\u001b[0m\u001b[0;34m,\u001b[0m \u001b[0mverbose\u001b[0m\u001b[0;34m=\u001b[0m\u001b[0;32mTrue\u001b[0m\u001b[0;34m)\u001b[0m\u001b[0;34m\u001b[0m\u001b[0;34m\u001b[0m\u001b[0m\n\u001b[0m",
            "\u001b[0;31mNameError\u001b[0m: name 'BERTopic' is not defined"
          ]
        }
      ]
    },
    {
      "cell_type": "code",
      "source": [
        "topics, probs = topic_model.fit_transform(df['text_tokenize'].values)"
      ],
      "metadata": {
        "id": "5wXfHfahhfwU"
      },
      "execution_count": null,
      "outputs": []
    },
    {
      "cell_type": "code",
      "source": [
        "topic_model.get_topic_info()"
      ],
      "metadata": {
        "id": "-VMZBUlzhf1m"
      },
      "execution_count": null,
      "outputs": []
    },
    {
      "cell_type": "code",
      "source": [
        "topic_model.get_topic(-1)"
      ],
      "metadata": {
        "id": "b9KkFqufFZSb"
      },
      "execution_count": null,
      "outputs": []
    },
    {
      "cell_type": "code",
      "source": [
        "topic_model.get_representative_docs(-1)"
      ],
      "metadata": {
        "id": "I18MhbICG-Qb"
      },
      "execution_count": null,
      "outputs": []
    },
    {
      "cell_type": "code",
      "source": [
        "topic_model.get_representative_docs(0)"
      ],
      "metadata": {
        "id": "vjhuB1cuG-TD"
      },
      "execution_count": null,
      "outputs": []
    },
    {
      "cell_type": "code",
      "source": [
        "topic_model.update_topics(df['text_tokenize'], n_gram_range=(1, 2))"
      ],
      "metadata": {
        "id": "u1fNCOD3BDhE"
      },
      "execution_count": null,
      "outputs": []
    },
    {
      "cell_type": "code",
      "source": [
        "topic_model.get_topic_info()"
      ],
      "metadata": {
        "id": "zDwJRjo7BDob"
      },
      "execution_count": null,
      "outputs": []
    },
    {
      "cell_type": "markdown",
      "source": [
        "#сокращает количество топиков путем нахождения близких посмыслов друг другу топиков"
      ],
      "metadata": {
        "id": "udHtwJ2NRUmB"
      }
    },
    {
      "cell_type": "code",
      "source": [
        "topic_model.reduce_topics(df['text_tokenize'], nr_topics=800)"
      ],
      "metadata": {
        "id": "Sw2F7PaoQ9FB"
      },
      "execution_count": null,
      "outputs": []
    },
    {
      "cell_type": "code",
      "source": [
        "topic_model.get_topic_info()"
      ],
      "metadata": {
        "id": "eRjHUm0-RcVh"
      },
      "execution_count": null,
      "outputs": []
    },
    {
      "cell_type": "code",
      "source": [
        "text_topic = pd.DataFrame({\"topic\": topics, 'text': df['text']})"
      ],
      "metadata": {
        "id": "Go9vxKtEoq4e"
      },
      "execution_count": null,
      "outputs": []
    },
    {
      "cell_type": "code",
      "source": [
        "text_topic.tail()"
      ],
      "metadata": {
        "id": "21_hRRSfqA-U"
      },
      "execution_count": null,
      "outputs": []
    },
    {
      "cell_type": "code",
      "source": [
        "topic_model.visualize_topics()"
      ],
      "metadata": {
        "id": "1c32QjT9oq7v"
      },
      "execution_count": null,
      "outputs": []
    },
    {
      "cell_type": "code",
      "source": [
        "topic_model.visualize_barchart()"
      ],
      "metadata": {
        "id": "2hp_Rv0coq-o"
      },
      "execution_count": null,
      "outputs": []
    },
    {
      "cell_type": "markdown",
      "source": [
        "#NMF используем из классических подходов"
      ],
      "metadata": {
        "id": "xbiqdtFZQDWJ"
      }
    },
    {
      "cell_type": "code",
      "source": [
        "from pymystem3 import Mystem"
      ],
      "metadata": {
        "id": "gbqHBdXdXtQR"
      },
      "execution_count": null,
      "outputs": []
    },
    {
      "cell_type": "code",
      "source": [
        "df_nfm.head()"
      ],
      "metadata": {
        "colab": {
          "base_uri": "https://localhost:8080/",
          "height": 267
        },
        "id": "m_VvMQG1YcFC",
        "outputId": "6087aa2d-8066-41a4-f845-c03476a0b053"
      },
      "execution_count": null,
      "outputs": [
        {
          "output_type": "execute_result",
          "data": {
            "text/plain": [
              "                                                text  target  \\\n",
              "0  С 1768 года Россия ведёт войну против Османско...       1   \n",
              "1  В середине января 1770 года корпус генерала Хр...       0   \n",
              "2  Там русскую армию встретил враг, по жестокости...       0   \n",
              "3  За зиму она унесла жизни нескольких тысяч солдат.       0   \n",
              "4  Вскоре эпидемия вспыхнула в близлежащей Польше...       1   \n",
              "\n",
              "                                          text_clean  \\\n",
              "0  с  года россия ведёт войну против османской им...   \n",
              "1  в середине января  года корпус генерала христо...   \n",
              "2  там русскую армию встретил враг по жестокости ...   \n",
              "3   за зиму она унесла жизни нескольких тысяч солдат   \n",
              "4  вскоре эпидемия вспыхнула в близлежащей польше...   \n",
              "\n",
              "                                       text_tokenize  \n",
              "0   года россия ведёт войну против османской империи  \n",
              "1  середине января года корпус генерала христофор...  \n",
              "2  русскую армию встретил враг жестокости уступаю...  \n",
              "3          зиму унесла жизни нескольких тысяч солдат  \n",
              "4  вскоре эпидемия вспыхнула близлежащей польше а...  "
            ],
            "text/html": [
              "\n",
              "  <div id=\"df-25d27ba6-59b0-4b94-ab08-c112c40975eb\">\n",
              "    <div class=\"colab-df-container\">\n",
              "      <div>\n",
              "<style scoped>\n",
              "    .dataframe tbody tr th:only-of-type {\n",
              "        vertical-align: middle;\n",
              "    }\n",
              "\n",
              "    .dataframe tbody tr th {\n",
              "        vertical-align: top;\n",
              "    }\n",
              "\n",
              "    .dataframe thead th {\n",
              "        text-align: right;\n",
              "    }\n",
              "</style>\n",
              "<table border=\"1\" class=\"dataframe\">\n",
              "  <thead>\n",
              "    <tr style=\"text-align: right;\">\n",
              "      <th></th>\n",
              "      <th>text</th>\n",
              "      <th>target</th>\n",
              "      <th>text_clean</th>\n",
              "      <th>text_tokenize</th>\n",
              "    </tr>\n",
              "  </thead>\n",
              "  <tbody>\n",
              "    <tr>\n",
              "      <th>0</th>\n",
              "      <td>С 1768 года Россия ведёт войну против Османско...</td>\n",
              "      <td>1</td>\n",
              "      <td>с  года россия ведёт войну против османской им...</td>\n",
              "      <td>года россия ведёт войну против османской империи</td>\n",
              "    </tr>\n",
              "    <tr>\n",
              "      <th>1</th>\n",
              "      <td>В середине января 1770 года корпус генерала Хр...</td>\n",
              "      <td>0</td>\n",
              "      <td>в середине января  года корпус генерала христо...</td>\n",
              "      <td>середине января года корпус генерала христофор...</td>\n",
              "    </tr>\n",
              "    <tr>\n",
              "      <th>2</th>\n",
              "      <td>Там русскую армию встретил враг, по жестокости...</td>\n",
              "      <td>0</td>\n",
              "      <td>там русскую армию встретил враг по жестокости ...</td>\n",
              "      <td>русскую армию встретил враг жестокости уступаю...</td>\n",
              "    </tr>\n",
              "    <tr>\n",
              "      <th>3</th>\n",
              "      <td>За зиму она унесла жизни нескольких тысяч солдат.</td>\n",
              "      <td>0</td>\n",
              "      <td>за зиму она унесла жизни нескольких тысяч солдат</td>\n",
              "      <td>зиму унесла жизни нескольких тысяч солдат</td>\n",
              "    </tr>\n",
              "    <tr>\n",
              "      <th>4</th>\n",
              "      <td>Вскоре эпидемия вспыхнула в близлежащей Польше...</td>\n",
              "      <td>1</td>\n",
              "      <td>вскоре эпидемия вспыхнула в близлежащей польше...</td>\n",
              "      <td>вскоре эпидемия вспыхнула близлежащей польше а...</td>\n",
              "    </tr>\n",
              "  </tbody>\n",
              "</table>\n",
              "</div>\n",
              "      <button class=\"colab-df-convert\" onclick=\"convertToInteractive('df-25d27ba6-59b0-4b94-ab08-c112c40975eb')\"\n",
              "              title=\"Convert this dataframe to an interactive table.\"\n",
              "              style=\"display:none;\">\n",
              "        \n",
              "  <svg xmlns=\"http://www.w3.org/2000/svg\" height=\"24px\"viewBox=\"0 0 24 24\"\n",
              "       width=\"24px\">\n",
              "    <path d=\"M0 0h24v24H0V0z\" fill=\"none\"/>\n",
              "    <path d=\"M18.56 5.44l.94 2.06.94-2.06 2.06-.94-2.06-.94-.94-2.06-.94 2.06-2.06.94zm-11 1L8.5 8.5l.94-2.06 2.06-.94-2.06-.94L8.5 2.5l-.94 2.06-2.06.94zm10 10l.94 2.06.94-2.06 2.06-.94-2.06-.94-.94-2.06-.94 2.06-2.06.94z\"/><path d=\"M17.41 7.96l-1.37-1.37c-.4-.4-.92-.59-1.43-.59-.52 0-1.04.2-1.43.59L10.3 9.45l-7.72 7.72c-.78.78-.78 2.05 0 2.83L4 21.41c.39.39.9.59 1.41.59.51 0 1.02-.2 1.41-.59l7.78-7.78 2.81-2.81c.8-.78.8-2.07 0-2.86zM5.41 20L4 18.59l7.72-7.72 1.47 1.35L5.41 20z\"/>\n",
              "  </svg>\n",
              "      </button>\n",
              "      \n",
              "  <style>\n",
              "    .colab-df-container {\n",
              "      display:flex;\n",
              "      flex-wrap:wrap;\n",
              "      gap: 12px;\n",
              "    }\n",
              "\n",
              "    .colab-df-convert {\n",
              "      background-color: #E8F0FE;\n",
              "      border: none;\n",
              "      border-radius: 50%;\n",
              "      cursor: pointer;\n",
              "      display: none;\n",
              "      fill: #1967D2;\n",
              "      height: 32px;\n",
              "      padding: 0 0 0 0;\n",
              "      width: 32px;\n",
              "    }\n",
              "\n",
              "    .colab-df-convert:hover {\n",
              "      background-color: #E2EBFA;\n",
              "      box-shadow: 0px 1px 2px rgba(60, 64, 67, 0.3), 0px 1px 3px 1px rgba(60, 64, 67, 0.15);\n",
              "      fill: #174EA6;\n",
              "    }\n",
              "\n",
              "    [theme=dark] .colab-df-convert {\n",
              "      background-color: #3B4455;\n",
              "      fill: #D2E3FC;\n",
              "    }\n",
              "\n",
              "    [theme=dark] .colab-df-convert:hover {\n",
              "      background-color: #434B5C;\n",
              "      box-shadow: 0px 1px 3px 1px rgba(0, 0, 0, 0.15);\n",
              "      filter: drop-shadow(0px 1px 2px rgba(0, 0, 0, 0.3));\n",
              "      fill: #FFFFFF;\n",
              "    }\n",
              "  </style>\n",
              "\n",
              "      <script>\n",
              "        const buttonEl =\n",
              "          document.querySelector('#df-25d27ba6-59b0-4b94-ab08-c112c40975eb button.colab-df-convert');\n",
              "        buttonEl.style.display =\n",
              "          google.colab.kernel.accessAllowed ? 'block' : 'none';\n",
              "\n",
              "        async function convertToInteractive(key) {\n",
              "          const element = document.querySelector('#df-25d27ba6-59b0-4b94-ab08-c112c40975eb');\n",
              "          const dataTable =\n",
              "            await google.colab.kernel.invokeFunction('convertToInteractive',\n",
              "                                                     [key], {});\n",
              "          if (!dataTable) return;\n",
              "\n",
              "          const docLinkHtml = 'Like what you see? Visit the ' +\n",
              "            '<a target=\"_blank\" href=https://colab.research.google.com/notebooks/data_table.ipynb>data table notebook</a>'\n",
              "            + ' to learn more about interactive tables.';\n",
              "          element.innerHTML = '';\n",
              "          dataTable['output_type'] = 'display_data';\n",
              "          await google.colab.output.renderOutput(dataTable, element);\n",
              "          const docLink = document.createElement('div');\n",
              "          docLink.innerHTML = docLinkHtml;\n",
              "          element.appendChild(docLink);\n",
              "        }\n",
              "      </script>\n",
              "    </div>\n",
              "  </div>\n",
              "  "
            ]
          },
          "metadata": {},
          "execution_count": 35
        }
      ]
    },
    {
      "cell_type": "code",
      "source": [
        "m = Mystem()\n",
        "df_nfm['text_tokenize'] = df_nfm['text_tokenize'].apply(lambda x: m.lemmatize(x))"
      ],
      "metadata": {
        "id": "S1DRyACpXtTA"
      },
      "execution_count": null,
      "outputs": []
    },
    {
      "cell_type": "code",
      "source": [
        "df_nfm['text_tokenize'] = df_nfm['text_tokenize'].apply(lambda x: ' '.join(x))"
      ],
      "metadata": {
        "id": "ybiit4Z_XtYc"
      },
      "execution_count": null,
      "outputs": []
    },
    {
      "cell_type": "code",
      "source": [
        "df_nfm.head(3)"
      ],
      "metadata": {
        "colab": {
          "base_uri": "https://localhost:8080/",
          "height": 143
        },
        "id": "kw81XFcMZUsC",
        "outputId": "c98d62de-c4e5-442b-a8e8-057d53bea65e"
      },
      "execution_count": null,
      "outputs": [
        {
          "output_type": "execute_result",
          "data": {
            "text/plain": [
              "                                                text  target  \\\n",
              "0  С 1768 года Россия ведёт войну против Османско...       1   \n",
              "1  В середине января 1770 года корпус генерала Хр...       0   \n",
              "2  Там русскую армию встретил враг, по жестокости...       0   \n",
              "\n",
              "                                          text_clean  \\\n",
              "0  с  года россия ведёт войну против османской им...   \n",
              "1  в середине января  года корпус генерала христо...   \n",
              "2  там русскую армию встретил враг по жестокости ...   \n",
              "\n",
              "                                       text_tokenize  \n",
              "0  год   россия   вести   война   против   османс...  \n",
              "1  середина   январь   год   корпус   генерал   х...  \n",
              "2  русский   армия   встречать   враг   жестокост...  "
            ],
            "text/html": [
              "\n",
              "  <div id=\"df-30835288-1f95-4d94-a9e6-6d905cac4d6a\">\n",
              "    <div class=\"colab-df-container\">\n",
              "      <div>\n",
              "<style scoped>\n",
              "    .dataframe tbody tr th:only-of-type {\n",
              "        vertical-align: middle;\n",
              "    }\n",
              "\n",
              "    .dataframe tbody tr th {\n",
              "        vertical-align: top;\n",
              "    }\n",
              "\n",
              "    .dataframe thead th {\n",
              "        text-align: right;\n",
              "    }\n",
              "</style>\n",
              "<table border=\"1\" class=\"dataframe\">\n",
              "  <thead>\n",
              "    <tr style=\"text-align: right;\">\n",
              "      <th></th>\n",
              "      <th>text</th>\n",
              "      <th>target</th>\n",
              "      <th>text_clean</th>\n",
              "      <th>text_tokenize</th>\n",
              "    </tr>\n",
              "  </thead>\n",
              "  <tbody>\n",
              "    <tr>\n",
              "      <th>0</th>\n",
              "      <td>С 1768 года Россия ведёт войну против Османско...</td>\n",
              "      <td>1</td>\n",
              "      <td>с  года россия ведёт войну против османской им...</td>\n",
              "      <td>год   россия   вести   война   против   османс...</td>\n",
              "    </tr>\n",
              "    <tr>\n",
              "      <th>1</th>\n",
              "      <td>В середине января 1770 года корпус генерала Хр...</td>\n",
              "      <td>0</td>\n",
              "      <td>в середине января  года корпус генерала христо...</td>\n",
              "      <td>середина   январь   год   корпус   генерал   х...</td>\n",
              "    </tr>\n",
              "    <tr>\n",
              "      <th>2</th>\n",
              "      <td>Там русскую армию встретил враг, по жестокости...</td>\n",
              "      <td>0</td>\n",
              "      <td>там русскую армию встретил враг по жестокости ...</td>\n",
              "      <td>русский   армия   встречать   враг   жестокост...</td>\n",
              "    </tr>\n",
              "  </tbody>\n",
              "</table>\n",
              "</div>\n",
              "      <button class=\"colab-df-convert\" onclick=\"convertToInteractive('df-30835288-1f95-4d94-a9e6-6d905cac4d6a')\"\n",
              "              title=\"Convert this dataframe to an interactive table.\"\n",
              "              style=\"display:none;\">\n",
              "        \n",
              "  <svg xmlns=\"http://www.w3.org/2000/svg\" height=\"24px\"viewBox=\"0 0 24 24\"\n",
              "       width=\"24px\">\n",
              "    <path d=\"M0 0h24v24H0V0z\" fill=\"none\"/>\n",
              "    <path d=\"M18.56 5.44l.94 2.06.94-2.06 2.06-.94-2.06-.94-.94-2.06-.94 2.06-2.06.94zm-11 1L8.5 8.5l.94-2.06 2.06-.94-2.06-.94L8.5 2.5l-.94 2.06-2.06.94zm10 10l.94 2.06.94-2.06 2.06-.94-2.06-.94-.94-2.06-.94 2.06-2.06.94z\"/><path d=\"M17.41 7.96l-1.37-1.37c-.4-.4-.92-.59-1.43-.59-.52 0-1.04.2-1.43.59L10.3 9.45l-7.72 7.72c-.78.78-.78 2.05 0 2.83L4 21.41c.39.39.9.59 1.41.59.51 0 1.02-.2 1.41-.59l7.78-7.78 2.81-2.81c.8-.78.8-2.07 0-2.86zM5.41 20L4 18.59l7.72-7.72 1.47 1.35L5.41 20z\"/>\n",
              "  </svg>\n",
              "      </button>\n",
              "      \n",
              "  <style>\n",
              "    .colab-df-container {\n",
              "      display:flex;\n",
              "      flex-wrap:wrap;\n",
              "      gap: 12px;\n",
              "    }\n",
              "\n",
              "    .colab-df-convert {\n",
              "      background-color: #E8F0FE;\n",
              "      border: none;\n",
              "      border-radius: 50%;\n",
              "      cursor: pointer;\n",
              "      display: none;\n",
              "      fill: #1967D2;\n",
              "      height: 32px;\n",
              "      padding: 0 0 0 0;\n",
              "      width: 32px;\n",
              "    }\n",
              "\n",
              "    .colab-df-convert:hover {\n",
              "      background-color: #E2EBFA;\n",
              "      box-shadow: 0px 1px 2px rgba(60, 64, 67, 0.3), 0px 1px 3px 1px rgba(60, 64, 67, 0.15);\n",
              "      fill: #174EA6;\n",
              "    }\n",
              "\n",
              "    [theme=dark] .colab-df-convert {\n",
              "      background-color: #3B4455;\n",
              "      fill: #D2E3FC;\n",
              "    }\n",
              "\n",
              "    [theme=dark] .colab-df-convert:hover {\n",
              "      background-color: #434B5C;\n",
              "      box-shadow: 0px 1px 3px 1px rgba(0, 0, 0, 0.15);\n",
              "      filter: drop-shadow(0px 1px 2px rgba(0, 0, 0, 0.3));\n",
              "      fill: #FFFFFF;\n",
              "    }\n",
              "  </style>\n",
              "\n",
              "      <script>\n",
              "        const buttonEl =\n",
              "          document.querySelector('#df-30835288-1f95-4d94-a9e6-6d905cac4d6a button.colab-df-convert');\n",
              "        buttonEl.style.display =\n",
              "          google.colab.kernel.accessAllowed ? 'block' : 'none';\n",
              "\n",
              "        async function convertToInteractive(key) {\n",
              "          const element = document.querySelector('#df-30835288-1f95-4d94-a9e6-6d905cac4d6a');\n",
              "          const dataTable =\n",
              "            await google.colab.kernel.invokeFunction('convertToInteractive',\n",
              "                                                     [key], {});\n",
              "          if (!dataTable) return;\n",
              "\n",
              "          const docLinkHtml = 'Like what you see? Visit the ' +\n",
              "            '<a target=\"_blank\" href=https://colab.research.google.com/notebooks/data_table.ipynb>data table notebook</a>'\n",
              "            + ' to learn more about interactive tables.';\n",
              "          element.innerHTML = '';\n",
              "          dataTable['output_type'] = 'display_data';\n",
              "          await google.colab.output.renderOutput(dataTable, element);\n",
              "          const docLink = document.createElement('div');\n",
              "          docLink.innerHTML = docLinkHtml;\n",
              "          element.appendChild(docLink);\n",
              "        }\n",
              "      </script>\n",
              "    </div>\n",
              "  </div>\n",
              "  "
            ]
          },
          "metadata": {},
          "execution_count": 39
        }
      ]
    },
    {
      "cell_type": "code",
      "source": [
        "text_data = df_nfm.copy()"
      ],
      "metadata": {
        "id": "7D6vU_qWZe4w"
      },
      "execution_count": null,
      "outputs": []
    },
    {
      "cell_type": "code",
      "source": [
        "vectorizer = TfidfVectorizer(max_features=1500, min_df=10, stop_words='english')\n",
        "X_nfm = vectorizer.fit_transform(df_nfm['text_tokenize'])\n",
        "words = np.array(vectorizer.get_feature_names_out())\n",
        "\n",
        "print(X_nfm)\n",
        "print(\"X = \", words)"
      ],
      "metadata": {
        "id": "tBdvPM4CqH0P"
      },
      "execution_count": null,
      "outputs": []
    },
    {
      "cell_type": "code",
      "source": [
        "model = NMF(n_components=50, random_state=5)\n",
        "model.fit(X_nfm)\n",
        "nmf_features = model.transform(X_nfm)"
      ],
      "metadata": {
        "id": "pze3uApZU835"
      },
      "execution_count": null,
      "outputs": []
    },
    {
      "cell_type": "code",
      "source": [
        "components_df = pd.DataFrame(model.components_, columns=words)\n",
        "components_df"
      ],
      "metadata": {
        "id": "0nGwOQbyVBXg"
      },
      "execution_count": null,
      "outputs": []
    },
    {
      "cell_type": "code",
      "source": [
        "for topic in range(components_df.shape[0]):\n",
        "    tmp = components_df.iloc[topic]\n",
        "    print(f'Топик {topic+1}, слова с высокими значениями:')\n",
        "    print(tmp.nlargest(10))\n",
        "    print('\\n')"
      ],
      "metadata": {
        "id": "LRqVhmvvVcsY"
      },
      "execution_count": null,
      "outputs": []
    },
    {
      "cell_type": "markdown",
      "source": [
        "#предсказание для новых слов"
      ],
      "metadata": {
        "id": "eN1rBPfPV26w"
      }
    },
    {
      "cell_type": "code",
      "source": [
        "new_word = 'Я пришел с больницы и пошел гулять итп'\n",
        "X = vectorizer.transform([new_word])\n",
        "nmf_features = model.transform(X)\n",
        "pd.DataFrame(nmf_features).idxmax(axis=1)"
      ],
      "metadata": {
        "id": "C4M-nD7oV2X4"
      },
      "execution_count": null,
      "outputs": []
    },
    {
      "cell_type": "markdown",
      "source": [
        "#Классификация на основе классического ML"
      ],
      "metadata": {
        "id": "GslQY2JjWvYI"
      }
    },
    {
      "cell_type": "code",
      "source": [
        "text_data.head()"
      ],
      "metadata": {
        "colab": {
          "base_uri": "https://localhost:8080/",
          "height": 267
        },
        "id": "VkPCislyegNP",
        "outputId": "bd9501c6-ebcc-42cb-9f0f-b7f22cac40d6"
      },
      "execution_count": null,
      "outputs": [
        {
          "output_type": "execute_result",
          "data": {
            "text/plain": [
              "                                                text  target  \\\n",
              "0  С 1768 года Россия ведёт войну против Османско...       1   \n",
              "1  В середине января 1770 года корпус генерала Хр...       0   \n",
              "2  Там русскую армию встретил враг, по жестокости...       0   \n",
              "3  За зиму она унесла жизни нескольких тысяч солдат.       0   \n",
              "4  Вскоре эпидемия вспыхнула в близлежащей Польше...       1   \n",
              "\n",
              "                                          text_clean  \\\n",
              "0  с  года россия ведёт войну против османской им...   \n",
              "1  в середине января  года корпус генерала христо...   \n",
              "2  там русскую армию встретил враг по жестокости ...   \n",
              "3   за зиму она унесла жизни нескольких тысяч солдат   \n",
              "4  вскоре эпидемия вспыхнула в близлежащей польше...   \n",
              "\n",
              "                                       text_tokenize  \n",
              "0   года россия ведёт войну против османской империи  \n",
              "1  середине января года корпус генерала христофор...  \n",
              "2  русскую армию встретил враг жестокости уступаю...  \n",
              "3          зиму унесла жизни нескольких тысяч солдат  \n",
              "4  вскоре эпидемия вспыхнула близлежащей польше а...  "
            ],
            "text/html": [
              "\n",
              "  <div id=\"df-d181acc5-b140-4d68-b8fb-aa953bca159e\">\n",
              "    <div class=\"colab-df-container\">\n",
              "      <div>\n",
              "<style scoped>\n",
              "    .dataframe tbody tr th:only-of-type {\n",
              "        vertical-align: middle;\n",
              "    }\n",
              "\n",
              "    .dataframe tbody tr th {\n",
              "        vertical-align: top;\n",
              "    }\n",
              "\n",
              "    .dataframe thead th {\n",
              "        text-align: right;\n",
              "    }\n",
              "</style>\n",
              "<table border=\"1\" class=\"dataframe\">\n",
              "  <thead>\n",
              "    <tr style=\"text-align: right;\">\n",
              "      <th></th>\n",
              "      <th>text</th>\n",
              "      <th>target</th>\n",
              "      <th>text_clean</th>\n",
              "      <th>text_tokenize</th>\n",
              "    </tr>\n",
              "  </thead>\n",
              "  <tbody>\n",
              "    <tr>\n",
              "      <th>0</th>\n",
              "      <td>С 1768 года Россия ведёт войну против Османско...</td>\n",
              "      <td>1</td>\n",
              "      <td>с  года россия ведёт войну против османской им...</td>\n",
              "      <td>года россия ведёт войну против османской империи</td>\n",
              "    </tr>\n",
              "    <tr>\n",
              "      <th>1</th>\n",
              "      <td>В середине января 1770 года корпус генерала Хр...</td>\n",
              "      <td>0</td>\n",
              "      <td>в середине января  года корпус генерала христо...</td>\n",
              "      <td>середине января года корпус генерала христофор...</td>\n",
              "    </tr>\n",
              "    <tr>\n",
              "      <th>2</th>\n",
              "      <td>Там русскую армию встретил враг, по жестокости...</td>\n",
              "      <td>0</td>\n",
              "      <td>там русскую армию встретил враг по жестокости ...</td>\n",
              "      <td>русскую армию встретил враг жестокости уступаю...</td>\n",
              "    </tr>\n",
              "    <tr>\n",
              "      <th>3</th>\n",
              "      <td>За зиму она унесла жизни нескольких тысяч солдат.</td>\n",
              "      <td>0</td>\n",
              "      <td>за зиму она унесла жизни нескольких тысяч солдат</td>\n",
              "      <td>зиму унесла жизни нескольких тысяч солдат</td>\n",
              "    </tr>\n",
              "    <tr>\n",
              "      <th>4</th>\n",
              "      <td>Вскоре эпидемия вспыхнула в близлежащей Польше...</td>\n",
              "      <td>1</td>\n",
              "      <td>вскоре эпидемия вспыхнула в близлежащей польше...</td>\n",
              "      <td>вскоре эпидемия вспыхнула близлежащей польше а...</td>\n",
              "    </tr>\n",
              "  </tbody>\n",
              "</table>\n",
              "</div>\n",
              "      <button class=\"colab-df-convert\" onclick=\"convertToInteractive('df-d181acc5-b140-4d68-b8fb-aa953bca159e')\"\n",
              "              title=\"Convert this dataframe to an interactive table.\"\n",
              "              style=\"display:none;\">\n",
              "        \n",
              "  <svg xmlns=\"http://www.w3.org/2000/svg\" height=\"24px\"viewBox=\"0 0 24 24\"\n",
              "       width=\"24px\">\n",
              "    <path d=\"M0 0h24v24H0V0z\" fill=\"none\"/>\n",
              "    <path d=\"M18.56 5.44l.94 2.06.94-2.06 2.06-.94-2.06-.94-.94-2.06-.94 2.06-2.06.94zm-11 1L8.5 8.5l.94-2.06 2.06-.94-2.06-.94L8.5 2.5l-.94 2.06-2.06.94zm10 10l.94 2.06.94-2.06 2.06-.94-2.06-.94-.94-2.06-.94 2.06-2.06.94z\"/><path d=\"M17.41 7.96l-1.37-1.37c-.4-.4-.92-.59-1.43-.59-.52 0-1.04.2-1.43.59L10.3 9.45l-7.72 7.72c-.78.78-.78 2.05 0 2.83L4 21.41c.39.39.9.59 1.41.59.51 0 1.02-.2 1.41-.59l7.78-7.78 2.81-2.81c.8-.78.8-2.07 0-2.86zM5.41 20L4 18.59l7.72-7.72 1.47 1.35L5.41 20z\"/>\n",
              "  </svg>\n",
              "      </button>\n",
              "      \n",
              "  <style>\n",
              "    .colab-df-container {\n",
              "      display:flex;\n",
              "      flex-wrap:wrap;\n",
              "      gap: 12px;\n",
              "    }\n",
              "\n",
              "    .colab-df-convert {\n",
              "      background-color: #E8F0FE;\n",
              "      border: none;\n",
              "      border-radius: 50%;\n",
              "      cursor: pointer;\n",
              "      display: none;\n",
              "      fill: #1967D2;\n",
              "      height: 32px;\n",
              "      padding: 0 0 0 0;\n",
              "      width: 32px;\n",
              "    }\n",
              "\n",
              "    .colab-df-convert:hover {\n",
              "      background-color: #E2EBFA;\n",
              "      box-shadow: 0px 1px 2px rgba(60, 64, 67, 0.3), 0px 1px 3px 1px rgba(60, 64, 67, 0.15);\n",
              "      fill: #174EA6;\n",
              "    }\n",
              "\n",
              "    [theme=dark] .colab-df-convert {\n",
              "      background-color: #3B4455;\n",
              "      fill: #D2E3FC;\n",
              "    }\n",
              "\n",
              "    [theme=dark] .colab-df-convert:hover {\n",
              "      background-color: #434B5C;\n",
              "      box-shadow: 0px 1px 3px 1px rgba(0, 0, 0, 0.15);\n",
              "      filter: drop-shadow(0px 1px 2px rgba(0, 0, 0, 0.3));\n",
              "      fill: #FFFFFF;\n",
              "    }\n",
              "  </style>\n",
              "\n",
              "      <script>\n",
              "        const buttonEl =\n",
              "          document.querySelector('#df-d181acc5-b140-4d68-b8fb-aa953bca159e button.colab-df-convert');\n",
              "        buttonEl.style.display =\n",
              "          google.colab.kernel.accessAllowed ? 'block' : 'none';\n",
              "\n",
              "        async function convertToInteractive(key) {\n",
              "          const element = document.querySelector('#df-d181acc5-b140-4d68-b8fb-aa953bca159e');\n",
              "          const dataTable =\n",
              "            await google.colab.kernel.invokeFunction('convertToInteractive',\n",
              "                                                     [key], {});\n",
              "          if (!dataTable) return;\n",
              "\n",
              "          const docLinkHtml = 'Like what you see? Visit the ' +\n",
              "            '<a target=\"_blank\" href=https://colab.research.google.com/notebooks/data_table.ipynb>data table notebook</a>'\n",
              "            + ' to learn more about interactive tables.';\n",
              "          element.innerHTML = '';\n",
              "          dataTable['output_type'] = 'display_data';\n",
              "          await google.colab.output.renderOutput(dataTable, element);\n",
              "          const docLink = document.createElement('div');\n",
              "          docLink.innerHTML = docLinkHtml;\n",
              "          element.appendChild(docLink);\n",
              "        }\n",
              "      </script>\n",
              "    </div>\n",
              "  </div>\n",
              "  "
            ]
          },
          "metadata": {},
          "execution_count": 29
        }
      ]
    },
    {
      "cell_type": "code",
      "source": [
        "data_clf = text_data.copy()"
      ],
      "metadata": {
        "id": "Iha-xEVhk0Vp"
      },
      "execution_count": null,
      "outputs": []
    },
    {
      "cell_type": "code",
      "source": [
        "data_clf.drop(['text','text_clean'], axis=1, inplace=True)"
      ],
      "metadata": {
        "id": "zIIoHuQik3S4"
      },
      "execution_count": null,
      "outputs": []
    },
    {
      "cell_type": "code",
      "source": [
        "data_clf.head()"
      ],
      "metadata": {
        "colab": {
          "base_uri": "https://localhost:8080/",
          "height": 206
        },
        "id": "2TRFhdYjnAym",
        "outputId": "0abcc1f8-82b9-4cda-ca77-843a3e1bcfb1"
      },
      "execution_count": null,
      "outputs": [
        {
          "output_type": "execute_result",
          "data": {
            "text/plain": [
              "   target                                      text_tokenize\n",
              "0       1   года россия ведёт войну против османской империи\n",
              "1       0  середине января года корпус генерала христофор...\n",
              "2       0  русскую армию встретил враг жестокости уступаю...\n",
              "3       0          зиму унесла жизни нескольких тысяч солдат\n",
              "4       1  вскоре эпидемия вспыхнула близлежащей польше а..."
            ],
            "text/html": [
              "\n",
              "  <div id=\"df-825a80a6-f6b7-4c96-b5eb-78fce480deff\">\n",
              "    <div class=\"colab-df-container\">\n",
              "      <div>\n",
              "<style scoped>\n",
              "    .dataframe tbody tr th:only-of-type {\n",
              "        vertical-align: middle;\n",
              "    }\n",
              "\n",
              "    .dataframe tbody tr th {\n",
              "        vertical-align: top;\n",
              "    }\n",
              "\n",
              "    .dataframe thead th {\n",
              "        text-align: right;\n",
              "    }\n",
              "</style>\n",
              "<table border=\"1\" class=\"dataframe\">\n",
              "  <thead>\n",
              "    <tr style=\"text-align: right;\">\n",
              "      <th></th>\n",
              "      <th>target</th>\n",
              "      <th>text_tokenize</th>\n",
              "    </tr>\n",
              "  </thead>\n",
              "  <tbody>\n",
              "    <tr>\n",
              "      <th>0</th>\n",
              "      <td>1</td>\n",
              "      <td>года россия ведёт войну против османской империи</td>\n",
              "    </tr>\n",
              "    <tr>\n",
              "      <th>1</th>\n",
              "      <td>0</td>\n",
              "      <td>середине января года корпус генерала христофор...</td>\n",
              "    </tr>\n",
              "    <tr>\n",
              "      <th>2</th>\n",
              "      <td>0</td>\n",
              "      <td>русскую армию встретил враг жестокости уступаю...</td>\n",
              "    </tr>\n",
              "    <tr>\n",
              "      <th>3</th>\n",
              "      <td>0</td>\n",
              "      <td>зиму унесла жизни нескольких тысяч солдат</td>\n",
              "    </tr>\n",
              "    <tr>\n",
              "      <th>4</th>\n",
              "      <td>1</td>\n",
              "      <td>вскоре эпидемия вспыхнула близлежащей польше а...</td>\n",
              "    </tr>\n",
              "  </tbody>\n",
              "</table>\n",
              "</div>\n",
              "      <button class=\"colab-df-convert\" onclick=\"convertToInteractive('df-825a80a6-f6b7-4c96-b5eb-78fce480deff')\"\n",
              "              title=\"Convert this dataframe to an interactive table.\"\n",
              "              style=\"display:none;\">\n",
              "        \n",
              "  <svg xmlns=\"http://www.w3.org/2000/svg\" height=\"24px\"viewBox=\"0 0 24 24\"\n",
              "       width=\"24px\">\n",
              "    <path d=\"M0 0h24v24H0V0z\" fill=\"none\"/>\n",
              "    <path d=\"M18.56 5.44l.94 2.06.94-2.06 2.06-.94-2.06-.94-.94-2.06-.94 2.06-2.06.94zm-11 1L8.5 8.5l.94-2.06 2.06-.94-2.06-.94L8.5 2.5l-.94 2.06-2.06.94zm10 10l.94 2.06.94-2.06 2.06-.94-2.06-.94-.94-2.06-.94 2.06-2.06.94z\"/><path d=\"M17.41 7.96l-1.37-1.37c-.4-.4-.92-.59-1.43-.59-.52 0-1.04.2-1.43.59L10.3 9.45l-7.72 7.72c-.78.78-.78 2.05 0 2.83L4 21.41c.39.39.9.59 1.41.59.51 0 1.02-.2 1.41-.59l7.78-7.78 2.81-2.81c.8-.78.8-2.07 0-2.86zM5.41 20L4 18.59l7.72-7.72 1.47 1.35L5.41 20z\"/>\n",
              "  </svg>\n",
              "      </button>\n",
              "      \n",
              "  <style>\n",
              "    .colab-df-container {\n",
              "      display:flex;\n",
              "      flex-wrap:wrap;\n",
              "      gap: 12px;\n",
              "    }\n",
              "\n",
              "    .colab-df-convert {\n",
              "      background-color: #E8F0FE;\n",
              "      border: none;\n",
              "      border-radius: 50%;\n",
              "      cursor: pointer;\n",
              "      display: none;\n",
              "      fill: #1967D2;\n",
              "      height: 32px;\n",
              "      padding: 0 0 0 0;\n",
              "      width: 32px;\n",
              "    }\n",
              "\n",
              "    .colab-df-convert:hover {\n",
              "      background-color: #E2EBFA;\n",
              "      box-shadow: 0px 1px 2px rgba(60, 64, 67, 0.3), 0px 1px 3px 1px rgba(60, 64, 67, 0.15);\n",
              "      fill: #174EA6;\n",
              "    }\n",
              "\n",
              "    [theme=dark] .colab-df-convert {\n",
              "      background-color: #3B4455;\n",
              "      fill: #D2E3FC;\n",
              "    }\n",
              "\n",
              "    [theme=dark] .colab-df-convert:hover {\n",
              "      background-color: #434B5C;\n",
              "      box-shadow: 0px 1px 3px 1px rgba(0, 0, 0, 0.15);\n",
              "      filter: drop-shadow(0px 1px 2px rgba(0, 0, 0, 0.3));\n",
              "      fill: #FFFFFF;\n",
              "    }\n",
              "  </style>\n",
              "\n",
              "      <script>\n",
              "        const buttonEl =\n",
              "          document.querySelector('#df-825a80a6-f6b7-4c96-b5eb-78fce480deff button.colab-df-convert');\n",
              "        buttonEl.style.display =\n",
              "          google.colab.kernel.accessAllowed ? 'block' : 'none';\n",
              "\n",
              "        async function convertToInteractive(key) {\n",
              "          const element = document.querySelector('#df-825a80a6-f6b7-4c96-b5eb-78fce480deff');\n",
              "          const dataTable =\n",
              "            await google.colab.kernel.invokeFunction('convertToInteractive',\n",
              "                                                     [key], {});\n",
              "          if (!dataTable) return;\n",
              "\n",
              "          const docLinkHtml = 'Like what you see? Visit the ' +\n",
              "            '<a target=\"_blank\" href=https://colab.research.google.com/notebooks/data_table.ipynb>data table notebook</a>'\n",
              "            + ' to learn more about interactive tables.';\n",
              "          element.innerHTML = '';\n",
              "          dataTable['output_type'] = 'display_data';\n",
              "          await google.colab.output.renderOutput(dataTable, element);\n",
              "          const docLink = document.createElement('div');\n",
              "          docLink.innerHTML = docLinkHtml;\n",
              "          element.appendChild(docLink);\n",
              "        }\n",
              "      </script>\n",
              "    </div>\n",
              "  </div>\n",
              "  "
            ]
          },
          "metadata": {},
          "execution_count": 34
        }
      ]
    },
    {
      "cell_type": "code",
      "source": [
        "data_clf.shape[0]"
      ],
      "metadata": {
        "colab": {
          "base_uri": "https://localhost:8080/"
        },
        "id": "ylBYOjBFlF7G",
        "outputId": "4043c61e-4af3-43d8-ec9b-82784191fcf6"
      },
      "execution_count": null,
      "outputs": [
        {
          "output_type": "execute_result",
          "data": {
            "text/plain": [
              "116601"
            ]
          },
          "metadata": {},
          "execution_count": 35
        }
      ]
    },
    {
      "cell_type": "code",
      "source": [
        "cv_vectorizer = TfidfVectorizer()#CountVectorizer()\n",
        "cv_vectorizer.fit(data_clf['text_tokenize'])\n",
        "print(len(cv_vectorizer.vocabulary_))\n",
        "X = cv_vectorizer.transform(data_clf['text_tokenize'])\n",
        "X = X.toarray()\n",
        "feature_names = cv_vectorizer.get_feature_names()\n",
        "X=pd.DataFrame(X, columns = feature_names)\n",
        "X = X[:116601]\n",
        "Y = data_clf['target'].values[:116601]\n",
        "X_train,X_test,y_train,y_test = train_test_split(X,Y, test_size=0.25, random_state=17)"
      ],
      "metadata": {
        "colab": {
          "base_uri": "https://localhost:8080/"
        },
        "id": "lQdtYrNXm9ba",
        "outputId": "6a6ce9fd-2b0f-4e81-fcde-e3149dcdef17"
      },
      "execution_count": null,
      "outputs": [
        {
          "output_type": "stream",
          "name": "stdout",
          "text": [
            "157819\n"
          ]
        },
        {
          "output_type": "stream",
          "name": "stderr",
          "text": [
            "/usr/local/lib/python3.8/dist-packages/sklearn/utils/deprecation.py:87: FutureWarning: Function get_feature_names is deprecated; get_feature_names is deprecated in 1.0 and will be removed in 1.2. Please use get_feature_names_out instead.\n",
            "  warnings.warn(msg, category=FutureWarning)\n"
          ]
        }
      ]
    },
    {
      "cell_type": "code",
      "source": [
        "X_train,X_test,y_train,y_test = train_test_split(X,y, test_size=0.25, random_state=17)"
      ],
      "metadata": {
        "id": "jGR5GLnefpPW"
      },
      "execution_count": null,
      "outputs": []
    },
    {
      "cell_type": "code",
      "source": [
        "models = [LogisticRegression(), GaussianNB(), BernoulliNB(), \n",
        "         SVC()]\n",
        "score = []\n",
        "for classifier in models:\n",
        "  pipe = Pipeline(steps=[('scaler', StandardScaler()),\n",
        "                      ('classifier', classifier)])\n",
        "  pipe.fit(X_train, y_train) \n",
        "  score.append({'classifier_name':classifier, \n",
        "  'recall_score':recall_score(y_test,pipe.predict(X_test), average='macro'),\n",
        "  'precision_score':precision_score(y_test,pipe.predict(X_test), average='macro'),\n",
        "  'f1_score':f1_score(y_test,pipe.predict(X_test), average='macro'),\n",
        "  'accuracy_score':accuracy_score(y_test,pipe.predict(X_test))})"
      ],
      "metadata": {
        "id": "x5-3pNqdfuEp"
      },
      "execution_count": null,
      "outputs": []
    },
    {
      "cell_type": "markdown",
      "source": [
        "#классификация текста при помощи берта"
      ],
      "metadata": {
        "id": "jKwFuAtcrSBp"
      }
    },
    {
      "cell_type": "code",
      "source": [
        "from tqdm import tqdm\n",
        "import torch\n",
        "import transformers\n",
        "import torch.nn as nn\n",
        "from transformers import AutoModel, BertTokenizer, BertForSequenceClassification\n",
        "from torch.utils.data import TensorDataset, DataLoader, RandomSampler, SequentialSampler\n",
        "\n",
        "tqdm.pandas()\n",
        "\n",
        "device = torch.device('cuda')"
      ],
      "metadata": {
        "id": "NHQwH08tgImW"
      },
      "execution_count": null,
      "outputs": []
    },
    {
      "cell_type": "code",
      "source": [
        "bert = AutoModel.from_pretrained('rubert_base_cased_sentence/')\n",
        "\n",
        "tokenizer = BertTokenizer.from_pretrained('rubert_base_cased_sentence/')"
      ],
      "metadata": {
        "id": "xqZuiBNzreE3"
      },
      "execution_count": null,
      "outputs": []
    },
    {
      "cell_type": "code",
      "source": [
        "train_text = df['text_clean'].astype('str')\n",
        "train_labels = df['target']\n",
        "val_text = df['text_clean'].astype('str')\n",
        "val_labels = df['target']\n",
        "test_text = df['text_clean'].astype('str')\n",
        "test_labels = df['target']"
      ],
      "metadata": {
        "id": "JoN8_2jrrhPX"
      },
      "execution_count": null,
      "outputs": []
    },
    {
      "cell_type": "code",
      "source": [
        "seq_len = [len(str(i).split()) for i in train_text]\n",
        "pd.Series(seq_len).hist(bins = 50)"
      ],
      "metadata": {
        "id": "VcGNXJPArr5v"
      },
      "execution_count": null,
      "outputs": []
    },
    {
      "cell_type": "code",
      "source": [
        "tokens_train = tokenizer.batch_encode_plus(\n",
        "    train_text.values,\n",
        "    max_length = 50,\n",
        "    padding = 'max_length',\n",
        "    truncation = True\n",
        ")\n",
        "tokens_val = tokenizer.batch_encode_plus(\n",
        "    val_text.values,\n",
        "    max_length = 50,\n",
        "    padding = 'max_length',\n",
        "    truncation = True\n",
        ")\n",
        "tokens_test = tokenizer.batch_encode_plus(\n",
        "    test_text.values,\n",
        "    max_length = 50,\n",
        "    padding = 'max_length',\n",
        "    truncation = True\n",
        ")\n",
        "\n",
        "train_seq = torch.tensor(tokens_train['input_ids'])\n",
        "train_mask = torch.tensor(tokens_train['attention_mask'])\n",
        "train_y = torch.tensor(train_labels.values)\n",
        "\n",
        "val_seq = torch.tensor(tokens_val['input_ids'])\n",
        "val_mask = torch.tensor(tokens_val['attention_mask'])\n",
        "val_y = torch.tensor(val_labels.values)\n",
        "\n",
        "test_seq = torch.tensor(tokens_test['input_ids'])\n",
        "test_mask = torch.tensor(tokens_test['attention_mask'])\n",
        "test_y = torch.tensor(test_labels.values)\n",
        "batch_size = 8\n",
        "\n",
        "\n",
        "train_data = TensorDataset(train_seq, train_mask, train_y)\n",
        "train_sampler = RandomSampler(train_data)\n",
        "train_dataloader = DataLoader(train_data, sampler = train_sampler, batch_size = batch_size)\n",
        "\n",
        "val_data =  TensorDataset(val_seq, val_mask, val_y)\n",
        "val_sampler = SequentialSampler(val_data)\n",
        "val_dataloader = DataLoader(val_data, sampler = val_sampler, batch_size = batch_size)"
      ],
      "metadata": {
        "id": "9TWQMnVdr2Hn"
      },
      "execution_count": null,
      "outputs": []
    },
    {
      "cell_type": "code",
      "source": [
        "for param in bert.parameters():\n",
        "    param.requires_grad = False\n",
        "\n",
        "class BERT_Arch(nn.Module):\n",
        "    \n",
        "    def __init__(self, bert):\n",
        "        super(BERT_Arch, self).__init__()\n",
        "        self.bert = bert\n",
        "        self.dropout = nn.Dropout(0.1)\n",
        "        self.relu = nn.ReLU()\n",
        "        self.fc1 = nn.Linear(768,512)\n",
        "        self.fc2 = nn.Linear(512, 3)\n",
        "        self.softmax = nn.LogSoftmax(dim = 1)\n",
        "    \n",
        "    def forward(self, sent_id, mask):\n",
        "        _, cls_hs = self.bert(sent_id, attention_mask = mask, return_dict = False)\n",
        "        x = self.fc1(cls_hs)\n",
        "        x = self.relu(x)\n",
        "        x = self.dropout(x)\n",
        "        x = self.fc2(x)\n",
        "        x = self.softmax(x)\n",
        "        return x"
      ],
      "metadata": {
        "id": "zSMplsyNsErs"
      },
      "execution_count": null,
      "outputs": []
    },
    {
      "cell_type": "code",
      "source": [
        "model = BERT_Arch(bert)\n",
        "\n",
        "model = model.to(device)\n",
        "from transformers import AdamW\n",
        "\n",
        "optimizer = AdamW(model.parameters(),\n",
        "               lr= 1e-3)"
      ],
      "metadata": {
        "id": "oKJU17Q2sEu4"
      },
      "execution_count": null,
      "outputs": []
    },
    {
      "cell_type": "code",
      "source": [
        "from sklearn.utils.class_weight import compute_class_weight\n",
        "\n",
        "class_weights = compute_class_weight('balanced', np.unique(train_labels), train_labels)\n",
        "\n",
        "print(class_weights)\n",
        "\n",
        "\n",
        "weights = torch.tensor(class_weights, dtype = torch.float)\n",
        "weights = weights.to(device)\n",
        "cross_entropy = nn.CrossEntropyLoss()\n",
        "epochs = 20"
      ],
      "metadata": {
        "id": "FdCKZRl4ser_"
      },
      "execution_count": null,
      "outputs": []
    },
    {
      "cell_type": "code",
      "source": [
        "def train():\n",
        "    model.train()\n",
        "    total_loss, total_accuracy = 0, 0\n",
        "    total_preds = []\n",
        "    \n",
        "    for step, batch in tqdm(enumerate(train_dataloader), total = len(train_dataloader)):\n",
        "        batch = [r.to(device) for r in batch]\n",
        "        sent_id,mask,labels = batch\n",
        "        model.zero_grad()\n",
        "        preds = model(sent_id, mask)\n",
        "        loss = cross_entropy(preds, labels)\n",
        "        total_loss += loss.item()\n",
        "        loss.backward()\n",
        "        torch.nn.utils.clip_grad_norm_(model.parameters(), 1.0)\n",
        "        optimizer.step()\n",
        "        preds = preds.detach().cpu().numpy()\n",
        "        total_preds.append(preds)\n",
        "        \n",
        "    avg_loss = total_loss / len(train_dataloader)\n",
        "    total_preds = np.concatenate(total_preds, axis = 0)\n",
        "    \n",
        "    return avg_loss, total_preds"
      ],
      "metadata": {
        "id": "0FNypig_siw5"
      },
      "execution_count": null,
      "outputs": []
    },
    {
      "cell_type": "code",
      "source": [
        "def evaluate():\n",
        "    model.eval()\n",
        "    total_loss, total_accuracy = 0,0\n",
        "    total_preds = []\n",
        "\n",
        "    for step, batch in tqdm(enumerate(val_dataloader), total = len(val_dataloader)):\n",
        "        batch = [t.to(device) for t in batch]\n",
        "        sent_id, mask, labels = batch\n",
        "        \n",
        "        with torch.no_grad():\n",
        "            preds = model(sent_id, mask)\n",
        "            loss = cross_entropy(preds, labels)\n",
        "            total_loss = total_loss + loss.item()\n",
        "            preds = preds.detach().cpu().numpy()\n",
        "            total_preds.append(preds)\n",
        "\n",
        "    avg_loss = total_loss / len(val_dataloader)\n",
        "    total_preds = np.concatenate(total_preds, axis = 0)"
      ],
      "metadata": {
        "id": "w0sk0loJsl3w"
      },
      "execution_count": null,
      "outputs": []
    },
    {
      "cell_type": "code",
      "source": [
        "best_valid_loss = float('inf')\n",
        "\n",
        "train_losses = []\n",
        "valid_losses = []\n",
        "\n",
        "for epoch in range(epochs):\n",
        "    print('\\n Epoch{:} / {:}'.format(epoch+1, epochs))\n",
        "    \n",
        "    train_loss, _ = train()\n",
        "    valid_loss, _ = evaluate()\n",
        "    \n",
        "    if valid_loss < best_valid_loss:\n",
        "        best_valid_loss = valid_loss\n",
        "        torch.save(model.state_dict(), 'saved_weights.pt')\n",
        "    \n",
        "    train_losses.append(train_loss)\n",
        "    valid_losses.append(valid_loss)\n",
        "    print(f'\\nTraining loss: {train_loss:.3f}')\n",
        "    print(f'Validation loss: {valid_loss:.3f}')"
      ],
      "metadata": {
        "id": "dFANArmOsprM"
      },
      "execution_count": null,
      "outputs": []
    },
    {
      "cell_type": "code",
      "source": [
        "import gc\n",
        "gc.collect()\n",
        "torch.cuda.empty_cache()\n",
        "\n",
        "list_seq = np.array_split(test_seq, 50)\n",
        "list_mask = np.array_split(test_mask, 50)\n",
        "\n",
        "\n",
        "predictions = []\n",
        "for num, elem in enumerate(list_seq):\n",
        "    with torch.no_grad():\n",
        "        preds = model(elem.to(device), list_mask[num].to(device))\n",
        "        predictions.append(preds.detach().cpu().numpy())"
      ],
      "metadata": {
        "id": "zS65HjXTsy8W"
      },
      "execution_count": null,
      "outputs": []
    },
    {
      "cell_type": "code",
      "source": [
        "flat_preds = [item[1] for sublist in predictions for item in sublist]\n",
        "flat_preds = (flat_preds - min(flat_preds)) / (max(flat_preds) - min(flat_preds))\n",
        "df['confidence'] = flat_preds"
      ],
      "metadata": {
        "id": "Fr39Tjjks2lP"
      },
      "execution_count": null,
      "outputs": []
    },
    {
      "cell_type": "code",
      "source": [
        "df['pred'] = df['confidence'].apply(lambda x: 1 if x>0.92 else 0)\n",
        "\n",
        "print(classification_report(df['target'], df['pred']))"
      ],
      "metadata": {
        "id": "cx40jlJPs5iQ"
      },
      "execution_count": null,
      "outputs": []
    }
  ]
}